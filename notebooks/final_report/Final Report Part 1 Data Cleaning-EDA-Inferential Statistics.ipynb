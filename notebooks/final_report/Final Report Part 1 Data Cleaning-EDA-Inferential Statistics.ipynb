{
 "cells": [
  {
   "cell_type": "code",
   "execution_count": 2,
   "metadata": {},
   "outputs": [
    {
     "name": "stderr",
     "output_type": "stream",
     "text": [
      "C:\\Users\\georg\\Anaconda3\\lib\\site-packages\\statsmodels\\compat\\pandas.py:56: FutureWarning: The pandas.core.datetools module is deprecated and will be removed in a future version. Please use the pandas.tseries module instead.\n",
      "  from pandas.core import datetools\n"
     ]
    }
   ],
   "source": [
    "import pandas as pd\n",
    "import numpy as np\n",
    "import matplotlib.pyplot as plt\n",
    "import seaborn as sns\n",
    "import matplotlib.pylab as pylab\n",
    "%matplotlib inline\n",
    "import datetime\n",
    "import requests\n",
    "import statsmodels.api as sm\n",
    "from scipy.stats import kruskal, mannwhitneyu"
   ]
  },
  {
   "cell_type": "code",
   "execution_count": 3,
   "metadata": {
    "collapsed": true
   },
   "outputs": [],
   "source": [
    "pd.set_option('max_columns',500)\n",
    "pd.set_option('max_rows',500)\n",
    "params = {'legend.fontsize': 'x-large',\n",
    "          'figure.figsize': (5, 5),\n",
    "         'axes.labelsize': 'x-large',\n",
    "         'axes.titlesize':'x-large',\n",
    "         'xtick.labelsize':'x-large',\n",
    "         'ytick.labelsize':'x-large'}\n",
    "pylab.rcParams.update(params)"
   ]
  },
  {
   "cell_type": "markdown",
   "metadata": {},
   "source": [
    "# 2 Dataset"
   ]
  },
  {
   "cell_type": "code",
   "execution_count": 4,
   "metadata": {},
   "outputs": [
    {
     "name": "stderr",
     "output_type": "stream",
     "text": [
      "C:\\Users\\georg\\Anaconda3\\lib\\site-packages\\IPython\\core\\interactiveshell.py:2698: DtypeWarning: Columns (61,62,95) have mixed types. Specify dtype option on import or set low_memory=False.\n",
      "  interactivity=interactivity, compiler=compiler, result=result)\n"
     ]
    }
   ],
   "source": [
    "in_folder = '../data/raw/' \n",
    "\n",
    "df = pd.read_csv( in_folder + 'listings.csv')"
   ]
  },
  {
   "cell_type": "code",
   "execution_count": 5,
   "metadata": {},
   "outputs": [
    {
     "data": {
      "text/plain": [
       "(20769, 106)"
      ]
     },
     "execution_count": 5,
     "metadata": {},
     "output_type": "execute_result"
    }
   ],
   "source": [
    "df.shape"
   ]
  },
  {
   "cell_type": "code",
   "execution_count": 6,
   "metadata": {},
   "outputs": [
    {
     "data": {
      "text/plain": [
       "20769"
      ]
     },
     "execution_count": 6,
     "metadata": {},
     "output_type": "execute_result"
    }
   ],
   "source": [
    "orig_num_rows = df.shape[0]\n",
    "orig_num_rows"
   ]
  },
  {
   "cell_type": "markdown",
   "metadata": {},
   "source": [
    "# 3 Data Cleaning and Wrangling"
   ]
  },
  {
   "cell_type": "markdown",
   "metadata": {},
   "source": [
    "## 3.1 Data Type Correction"
   ]
  },
  {
   "cell_type": "code",
   "execution_count": 7,
   "metadata": {
    "collapsed": true
   },
   "outputs": [],
   "source": [
    "#String to numeric\n",
    "\n",
    "col_to_numeric = ['price','security_deposit','cleaning_fee','extra_people']\n",
    "\n",
    "for col in col_to_numeric:\n",
    "    df[col] = df[col].str.replace('$','').str.replace(',','').astype(float)\n",
    "\n",
    "df.host_response_rate = df.host_response_rate.str.replace('%','').astype(float)/100\n",
    "\n",
    "#String to datetime\n",
    "\n",
    "col_to_datetime = ['last_scraped','host_since','calendar_last_scraped','first_review','last_review']\n",
    "\n",
    "for col in col_to_datetime:\n",
    "    df[col] = pd.to_datetime(df[col])"
   ]
  },
  {
   "cell_type": "markdown",
   "metadata": {},
   "source": [
    "## 3.2 Incorrect Price Data Elimination"
   ]
  },
  {
   "cell_type": "code",
   "execution_count": 8,
   "metadata": {},
   "outputs": [
    {
     "data": {
      "text/plain": [
       "4"
      ]
     },
     "execution_count": 8,
     "metadata": {},
     "output_type": "execute_result"
    }
   ],
   "source": [
    "#Number of listings with price = 0\n",
    "num_of_zeroes = df[df.price == 0].shape[0]\n",
    "num_of_zeroes"
   ]
  },
  {
   "cell_type": "code",
   "execution_count": 9,
   "metadata": {
    "collapsed": true
   },
   "outputs": [],
   "source": [
    "# Remove listings with price == 0\n",
    "df = df[df.price > 0]\n",
    "# Check if listings removed\n",
    "assert df[df.price == 0].shape[0] == 0\n",
    "assert df.shape[0] == (orig_num_rows - num_of_zeroes)"
   ]
  },
  {
   "cell_type": "code",
   "execution_count": 10,
   "metadata": {},
   "outputs": [
    {
     "data": {
      "text/plain": [
       "(20765, 106)"
      ]
     },
     "execution_count": 10,
     "metadata": {},
     "output_type": "execute_result"
    }
   ],
   "source": [
    "df.shape"
   ]
  },
  {
   "cell_type": "markdown",
   "metadata": {},
   "source": [
    "## 3.3 Missing Values Imputation"
   ]
  },
  {
   "cell_type": "code",
   "execution_count": 11,
   "metadata": {},
   "outputs": [
    {
     "data": {
      "text/html": [
       "<div>\n",
       "<style>\n",
       "    .dataframe thead tr:only-child th {\n",
       "        text-align: right;\n",
       "    }\n",
       "\n",
       "    .dataframe thead th {\n",
       "        text-align: left;\n",
       "    }\n",
       "\n",
       "    .dataframe tbody tr th {\n",
       "        vertical-align: top;\n",
       "    }\n",
       "</style>\n",
       "<table border=\"1\" class=\"dataframe\">\n",
       "  <thead>\n",
       "    <tr style=\"text-align: right;\">\n",
       "      <th></th>\n",
       "      <th>Missing Count</th>\n",
       "      <th>Missing Percentage</th>\n",
       "    </tr>\n",
       "  </thead>\n",
       "  <tbody>\n",
       "    <tr>\n",
       "      <th>thumbnail_url</th>\n",
       "      <td>20765</td>\n",
       "      <td>100.000000</td>\n",
       "    </tr>\n",
       "    <tr>\n",
       "      <th>medium_url</th>\n",
       "      <td>20765</td>\n",
       "      <td>100.000000</td>\n",
       "    </tr>\n",
       "    <tr>\n",
       "      <th>host_acceptance_rate</th>\n",
       "      <td>20765</td>\n",
       "      <td>100.000000</td>\n",
       "    </tr>\n",
       "    <tr>\n",
       "      <th>neighbourhood_group_cleansed</th>\n",
       "      <td>20765</td>\n",
       "      <td>100.000000</td>\n",
       "    </tr>\n",
       "    <tr>\n",
       "      <th>xl_picture_url</th>\n",
       "      <td>20765</td>\n",
       "      <td>100.000000</td>\n",
       "    </tr>\n",
       "    <tr>\n",
       "      <th>jurisdiction_names</th>\n",
       "      <td>20763</td>\n",
       "      <td>99.990368</td>\n",
       "    </tr>\n",
       "    <tr>\n",
       "      <th>license</th>\n",
       "      <td>20761</td>\n",
       "      <td>99.980737</td>\n",
       "    </tr>\n",
       "    <tr>\n",
       "      <th>square_feet</th>\n",
       "      <td>20609</td>\n",
       "      <td>99.248736</td>\n",
       "    </tr>\n",
       "    <tr>\n",
       "      <th>monthly_price</th>\n",
       "      <td>18987</td>\n",
       "      <td>91.437515</td>\n",
       "    </tr>\n",
       "    <tr>\n",
       "      <th>weekly_price</th>\n",
       "      <td>18678</td>\n",
       "      <td>89.949434</td>\n",
       "    </tr>\n",
       "    <tr>\n",
       "      <th>notes</th>\n",
       "      <td>10967</td>\n",
       "      <td>52.814833</td>\n",
       "    </tr>\n",
       "    <tr>\n",
       "      <th>host_about</th>\n",
       "      <td>8757</td>\n",
       "      <td>42.171924</td>\n",
       "    </tr>\n",
       "    <tr>\n",
       "      <th>access</th>\n",
       "      <td>7986</td>\n",
       "      <td>38.458945</td>\n",
       "    </tr>\n",
       "    <tr>\n",
       "      <th>interaction</th>\n",
       "      <td>7716</td>\n",
       "      <td>37.158680</td>\n",
       "    </tr>\n",
       "    <tr>\n",
       "      <th>neighborhood_overview</th>\n",
       "      <td>7291</td>\n",
       "      <td>35.111967</td>\n",
       "    </tr>\n",
       "    <tr>\n",
       "      <th>transit</th>\n",
       "      <td>7086</td>\n",
       "      <td>34.124729</td>\n",
       "    </tr>\n",
       "    <tr>\n",
       "      <th>house_rules</th>\n",
       "      <td>6576</td>\n",
       "      <td>31.668673</td>\n",
       "    </tr>\n",
       "    <tr>\n",
       "      <th>space</th>\n",
       "      <td>5774</td>\n",
       "      <td>27.806405</td>\n",
       "    </tr>\n",
       "    <tr>\n",
       "      <th>host_response_time</th>\n",
       "      <td>4984</td>\n",
       "      <td>24.001926</td>\n",
       "    </tr>\n",
       "    <tr>\n",
       "      <th>host_response_rate</th>\n",
       "      <td>4984</td>\n",
       "      <td>24.001926</td>\n",
       "    </tr>\n",
       "    <tr>\n",
       "      <th>security_deposit</th>\n",
       "      <td>4902</td>\n",
       "      <td>23.607031</td>\n",
       "    </tr>\n",
       "    <tr>\n",
       "      <th>review_scores_location</th>\n",
       "      <td>4287</td>\n",
       "      <td>20.645317</td>\n",
       "    </tr>\n",
       "    <tr>\n",
       "      <th>review_scores_value</th>\n",
       "      <td>4284</td>\n",
       "      <td>20.630869</td>\n",
       "    </tr>\n",
       "    <tr>\n",
       "      <th>review_scores_checkin</th>\n",
       "      <td>4282</td>\n",
       "      <td>20.621238</td>\n",
       "    </tr>\n",
       "    <tr>\n",
       "      <th>review_scores_accuracy</th>\n",
       "      <td>4281</td>\n",
       "      <td>20.616422</td>\n",
       "    </tr>\n",
       "    <tr>\n",
       "      <th>review_scores_communication</th>\n",
       "      <td>4279</td>\n",
       "      <td>20.606790</td>\n",
       "    </tr>\n",
       "    <tr>\n",
       "      <th>review_scores_cleanliness</th>\n",
       "      <td>4279</td>\n",
       "      <td>20.606790</td>\n",
       "    </tr>\n",
       "    <tr>\n",
       "      <th>review_scores_rating</th>\n",
       "      <td>4271</td>\n",
       "      <td>20.568264</td>\n",
       "    </tr>\n",
       "    <tr>\n",
       "      <th>last_review</th>\n",
       "      <td>3982</td>\n",
       "      <td>19.176499</td>\n",
       "    </tr>\n",
       "    <tr>\n",
       "      <th>reviews_per_month</th>\n",
       "      <td>3982</td>\n",
       "      <td>19.176499</td>\n",
       "    </tr>\n",
       "    <tr>\n",
       "      <th>first_review</th>\n",
       "      <td>3982</td>\n",
       "      <td>19.176499</td>\n",
       "    </tr>\n",
       "    <tr>\n",
       "      <th>cleaning_fee</th>\n",
       "      <td>3384</td>\n",
       "      <td>16.296653</td>\n",
       "    </tr>\n",
       "    <tr>\n",
       "      <th>host_neighbourhood</th>\n",
       "      <td>2520</td>\n",
       "      <td>12.135805</td>\n",
       "    </tr>\n",
       "    <tr>\n",
       "      <th>summary</th>\n",
       "      <td>664</td>\n",
       "      <td>3.197688</td>\n",
       "    </tr>\n",
       "    <tr>\n",
       "      <th>zipcode</th>\n",
       "      <td>365</td>\n",
       "      <td>1.757765</td>\n",
       "    </tr>\n",
       "    <tr>\n",
       "      <th>description</th>\n",
       "      <td>346</td>\n",
       "      <td>1.666265</td>\n",
       "    </tr>\n",
       "    <tr>\n",
       "      <th>market</th>\n",
       "      <td>37</td>\n",
       "      <td>0.178184</td>\n",
       "    </tr>\n",
       "    <tr>\n",
       "      <th>state</th>\n",
       "      <td>28</td>\n",
       "      <td>0.134842</td>\n",
       "    </tr>\n",
       "    <tr>\n",
       "      <th>beds</th>\n",
       "      <td>23</td>\n",
       "      <td>0.110763</td>\n",
       "    </tr>\n",
       "    <tr>\n",
       "      <th>host_location</th>\n",
       "      <td>19</td>\n",
       "      <td>0.091500</td>\n",
       "    </tr>\n",
       "    <tr>\n",
       "      <th>bathrooms</th>\n",
       "      <td>15</td>\n",
       "      <td>0.072237</td>\n",
       "    </tr>\n",
       "    <tr>\n",
       "      <th>bedrooms</th>\n",
       "      <td>8</td>\n",
       "      <td>0.038526</td>\n",
       "    </tr>\n",
       "    <tr>\n",
       "      <th>host_identity_verified</th>\n",
       "      <td>5</td>\n",
       "      <td>0.024079</td>\n",
       "    </tr>\n",
       "    <tr>\n",
       "      <th>host_has_profile_pic</th>\n",
       "      <td>5</td>\n",
       "      <td>0.024079</td>\n",
       "    </tr>\n",
       "    <tr>\n",
       "      <th>host_total_listings_count</th>\n",
       "      <td>5</td>\n",
       "      <td>0.024079</td>\n",
       "    </tr>\n",
       "    <tr>\n",
       "      <th>host_listings_count</th>\n",
       "      <td>5</td>\n",
       "      <td>0.024079</td>\n",
       "    </tr>\n",
       "    <tr>\n",
       "      <th>host_picture_url</th>\n",
       "      <td>5</td>\n",
       "      <td>0.024079</td>\n",
       "    </tr>\n",
       "    <tr>\n",
       "      <th>host_thumbnail_url</th>\n",
       "      <td>5</td>\n",
       "      <td>0.024079</td>\n",
       "    </tr>\n",
       "    <tr>\n",
       "      <th>host_is_superhost</th>\n",
       "      <td>5</td>\n",
       "      <td>0.024079</td>\n",
       "    </tr>\n",
       "    <tr>\n",
       "      <th>host_since</th>\n",
       "      <td>5</td>\n",
       "      <td>0.024079</td>\n",
       "    </tr>\n",
       "    <tr>\n",
       "      <th>host_name</th>\n",
       "      <td>5</td>\n",
       "      <td>0.024079</td>\n",
       "    </tr>\n",
       "    <tr>\n",
       "      <th>city</th>\n",
       "      <td>1</td>\n",
       "      <td>0.004816</td>\n",
       "    </tr>\n",
       "    <tr>\n",
       "      <th>neighbourhood</th>\n",
       "      <td>1</td>\n",
       "      <td>0.004816</td>\n",
       "    </tr>\n",
       "    <tr>\n",
       "      <th>name</th>\n",
       "      <td>1</td>\n",
       "      <td>0.004816</td>\n",
       "    </tr>\n",
       "  </tbody>\n",
       "</table>\n",
       "</div>"
      ],
      "text/plain": [
       "                              Missing Count  Missing Percentage\n",
       "thumbnail_url                         20765          100.000000\n",
       "medium_url                            20765          100.000000\n",
       "host_acceptance_rate                  20765          100.000000\n",
       "neighbourhood_group_cleansed          20765          100.000000\n",
       "xl_picture_url                        20765          100.000000\n",
       "jurisdiction_names                    20763           99.990368\n",
       "license                               20761           99.980737\n",
       "square_feet                           20609           99.248736\n",
       "monthly_price                         18987           91.437515\n",
       "weekly_price                          18678           89.949434\n",
       "notes                                 10967           52.814833\n",
       "host_about                             8757           42.171924\n",
       "access                                 7986           38.458945\n",
       "interaction                            7716           37.158680\n",
       "neighborhood_overview                  7291           35.111967\n",
       "transit                                7086           34.124729\n",
       "house_rules                            6576           31.668673\n",
       "space                                  5774           27.806405\n",
       "host_response_time                     4984           24.001926\n",
       "host_response_rate                     4984           24.001926\n",
       "security_deposit                       4902           23.607031\n",
       "review_scores_location                 4287           20.645317\n",
       "review_scores_value                    4284           20.630869\n",
       "review_scores_checkin                  4282           20.621238\n",
       "review_scores_accuracy                 4281           20.616422\n",
       "review_scores_communication            4279           20.606790\n",
       "review_scores_cleanliness              4279           20.606790\n",
       "review_scores_rating                   4271           20.568264\n",
       "last_review                            3982           19.176499\n",
       "reviews_per_month                      3982           19.176499\n",
       "first_review                           3982           19.176499\n",
       "cleaning_fee                           3384           16.296653\n",
       "host_neighbourhood                     2520           12.135805\n",
       "summary                                 664            3.197688\n",
       "zipcode                                 365            1.757765\n",
       "description                             346            1.666265\n",
       "market                                   37            0.178184\n",
       "state                                    28            0.134842\n",
       "beds                                     23            0.110763\n",
       "host_location                            19            0.091500\n",
       "bathrooms                                15            0.072237\n",
       "bedrooms                                  8            0.038526\n",
       "host_identity_verified                    5            0.024079\n",
       "host_has_profile_pic                      5            0.024079\n",
       "host_total_listings_count                 5            0.024079\n",
       "host_listings_count                       5            0.024079\n",
       "host_picture_url                          5            0.024079\n",
       "host_thumbnail_url                        5            0.024079\n",
       "host_is_superhost                         5            0.024079\n",
       "host_since                                5            0.024079\n",
       "host_name                                 5            0.024079\n",
       "city                                      1            0.004816\n",
       "neighbourhood                             1            0.004816\n",
       "name                                      1            0.004816"
      ]
     },
     "execution_count": 11,
     "metadata": {},
     "output_type": "execute_result"
    }
   ],
   "source": [
    "size = df.shape[0]\n",
    "missing_cnt = df.isnull().sum()\n",
    "missing_pct = missing_cnt/size*100\n",
    "df_missing = pd.concat([missing_cnt,missing_pct],axis=1)\n",
    "df_missing.columns = ['Missing Count','Missing Percentage']\n",
    "df_missing[df_missing['Missing Count']>0].sort_values('Missing Count', ascending=False)"
   ]
  },
  {
   "cell_type": "code",
   "execution_count": 12,
   "metadata": {
    "collapsed": true
   },
   "outputs": [],
   "source": [
    "# Save to csv file for report\n",
    "out_folder = '../data/interim/'\n",
    "df_missing[df_missing['Missing Count']>0].sort_values('Missing Count', \n",
    "                                                      ascending=False).to_csv(out_folder + 'missing_summary.csv')"
   ]
  },
  {
   "cell_type": "code",
   "execution_count": 13,
   "metadata": {
    "collapsed": true
   },
   "outputs": [],
   "source": [
    "#Numeric Features (1)\n",
    "for col in ['host_listings_count','bathrooms','host_response_rate','bedrooms','beds']:\n",
    "    df[col+'_NA'] = np.where(df[col].isnull(),1, 0)\n",
    "    m = df[col].median()\n",
    "    df[col].fillna(m,inplace=True)\n",
    "    \n",
    "#Numeric Features (2)\n",
    "for col in ['security_deposit','cleaning_fee']:\n",
    "    df[col+'_NA'] = np.where(df[col].isnull(),1, 0)\n",
    "    df[col].fillna(0,inplace=True)\n",
    "    \n",
    "#Numeric Features (3)\n",
    "for col in ['review_scores_rating','review_scores_accuracy','review_scores_cleanliness','review_scores_checkin',\n",
    "           'review_scores_communication','review_scores_location','review_scores_value','reviews_per_month']:\n",
    "    df[col+'_NA'] = np.where(df[col].isnull(),1, 0)\n",
    "    df[col].fillna(df[col].median(),inplace=True)"
   ]
  },
  {
   "cell_type": "code",
   "execution_count": 14,
   "metadata": {
    "collapsed": true
   },
   "outputs": [],
   "source": [
    "#Categorical Features\n",
    "# for col in ['host_response_time', 'host_is_superhost','host_identity_verified','host_has_profile_pic']:\n",
    "\n",
    "#     df[col+\"_NA\"] = np.where(df[col].isnull(),1,0)\n",
    "#     df[col].fillna(df[col].mode().iloc[0],inplace=True)\n",
    "\n",
    "for col in ['host_response_time', 'host_is_superhost','host_identity_verified','host_has_profile_pic']:\n",
    "    df[col].fillna('missing',inplace=True)"
   ]
  },
  {
   "cell_type": "code",
   "execution_count": 15,
   "metadata": {
    "collapsed": true
   },
   "outputs": [],
   "source": [
    "#Datetime Features\n",
    "for col in ['host_since', 'first_review', 'last_review']:\n",
    "    df[col+\"_NA\"] = np.where(df[col].isnull(),1,0)\n",
    "    df[col].fillna(df[col].quantile(0.5),inplace=True)"
   ]
  },
  {
   "cell_type": "markdown",
   "metadata": {},
   "source": [
    "## 3.4 New Feature Creation\n"
   ]
  },
  {
   "cell_type": "markdown",
   "metadata": {},
   "source": [
    "### 3.4.1 City Names"
   ]
  },
  {
   "cell_type": "code",
   "execution_count": 16,
   "metadata": {},
   "outputs": [
    {
     "data": {
      "text/plain": [
       "(140, 140)"
      ]
     },
     "execution_count": 16,
     "metadata": {},
     "output_type": "execute_result"
    }
   ],
   "source": [
    "# Existing city information\n",
    "df.neighbourhood.nunique(), df.neighbourhood_cleansed.nunique()"
   ]
  },
  {
   "cell_type": "code",
   "execution_count": 17,
   "metadata": {
    "collapsed": true
   },
   "outputs": [],
   "source": [
    "# Create new column for FSA\n",
    "df['fsa'] = df.zipcode.str.slice(stop=3).str.upper()"
   ]
  },
  {
   "cell_type": "code",
   "execution_count": 18,
   "metadata": {
    "collapsed": true
   },
   "outputs": [],
   "source": [
    "# read in fsa-city data (Wikipedia)\n",
    "in_folder = '../data/external/'\n",
    "toronto_fsa = pd.read_csv(in_folder + 'toronto_fsa.csv')\n",
    "\n",
    "#create a dictionary with postcode as key and borough (city) as dictionary\n",
    "fsa_dict = {i:j for i,j in zip(toronto_fsa.Postcode, toronto_fsa.Borough)}\n",
    "\n",
    "#create new column that maps the FSA to the city name\n",
    "df['city_fsa'] = np.nan\n",
    "df['city_fsa'] = df.fsa.map(fsa_dict)"
   ]
  },
  {
   "cell_type": "code",
   "execution_count": 19,
   "metadata": {},
   "outputs": [
    {
     "data": {
      "text/plain": [
       "Downtown Toronto    7938\n",
       "West Toronto        3359\n",
       "North York          2748\n",
       "Central Toronto     1426\n",
       "Scarborough         1358\n",
       "Etobicoke           1083\n",
       "East Toronto        1069\n",
       "York                 707\n",
       "East York            671\n",
       "NaN                  376\n",
       "Thornhill             20\n",
       "Pickering              2\n",
       "Not assigned           2\n",
       "Mississauga            2\n",
       "Markham                1\n",
       "Kleinburg              1\n",
       "Guelph                 1\n",
       "Queen's Park           1\n",
       "Name: city_fsa, dtype: int64"
      ]
     },
     "execution_count": 19,
     "metadata": {},
     "output_type": "execute_result"
    }
   ],
   "source": [
    "df.city_fsa.value_counts(dropna=False)"
   ]
  },
  {
   "cell_type": "code",
   "execution_count": 20,
   "metadata": {
    "collapsed": true
   },
   "outputs": [],
   "source": [
    "# Create a list of indexes for unknown\n",
    "idx_nan = df.loc[df.city_fsa.isnull() == True].index\n",
    "\n",
    "# Create list of \"Not assigned\"\n",
    "idx_not_assigned = df.loc[df.city_fsa == 'Not assigned'].index\n",
    "\n",
    "# Create list of rare cities to confirm location with mapquest api\n",
    "#set threshold to be 1% of all data\n",
    "\n",
    "threshold = df.shape[0] * 0.01\n",
    "rare_city_list = df.city_fsa.value_counts()[df.city_fsa.value_counts() < threshold].index\n",
    "idx_rare = df.loc[df.city_fsa.apply(lambda x: x in rare_city_list)].index"
   ]
  },
  {
   "cell_type": "code",
   "execution_count": 21,
   "metadata": {},
   "outputs": [
    {
     "data": {
      "text/plain": [
       "Index(['Thornhill', 'Not assigned', 'Mississauga', 'Pickering', 'Markham',\n",
       "       'Kleinburg', 'Queen's Park', 'Guelph'],\n",
       "      dtype='object')"
      ]
     },
     "execution_count": 21,
     "metadata": {},
     "output_type": "execute_result"
    }
   ],
   "source": [
    "rare_city_list"
   ]
  },
  {
   "cell_type": "code",
   "execution_count": 22,
   "metadata": {},
   "outputs": [
    {
     "name": "stdout",
     "output_type": "stream",
     "text": [
      "Number of listings with unknown FSA or FSA in rare cities is:\n"
     ]
    },
    {
     "data": {
      "text/plain": [
       "406"
      ]
     },
     "execution_count": 22,
     "metadata": {},
     "output_type": "execute_result"
    }
   ],
   "source": [
    "idx_set = set()\n",
    "for idx in [idx_nan,idx_not_assigned,idx_rare]:\n",
    "    idx_set.update(idx)\n",
    "\n",
    "#convert to list so the order is consistent\n",
    "idx_list = list(idx_set)\n",
    "\n",
    "#check listings count\n",
    "print('Number of listings with unknown FSA or FSA in rare cities is:')\n",
    "len(idx_list)"
   ]
  },
  {
   "cell_type": "markdown",
   "metadata": {},
   "source": [
    "**Below: Retrieve data from mapquest; performed in milestone report data preparation (not in final report prep)**"
   ]
  },
  {
   "cell_type": "code",
   "execution_count": 23,
   "metadata": {
    "collapsed": true
   },
   "outputs": [],
   "source": [
    "##Use Mapquest API\n",
    "##Only run once on the first run\n",
    "\n",
    "##key hidden for security reasons\n",
    "\n",
    "# api_key = \"***\"\n",
    "\n",
    "# lat_list = []\n",
    "# lon_list= []\n",
    "# fsa_list = []\n",
    "\n",
    "# for idx in idx_list:\n",
    "#     lat = df.loc[idx].latitude\n",
    "#     lon = df.loc[idx].longitude\n",
    "#     url = \"http://www.mapquestapi.com/geocoding/v1/reverse?key=\" + api_key + \"&location=\" + str(lat) + \",\" + str(lon)\n",
    "#     r = requests.get(url)\n",
    "#     fsa = r.json()['results'][0]['locations'][0]['postalCode'][:3]\n",
    "#     lat_list.append(lat)\n",
    "#     lon_list.append(lon)\n",
    "#     fsa_list.append(fsa)"
   ]
  },
  {
   "cell_type": "code",
   "execution_count": 24,
   "metadata": {
    "collapsed": true
   },
   "outputs": [],
   "source": [
    "# city_rev_geocode_df = pd.DataFrame({'latitude':lat_list,'longitude':lon_list,'fsa':fsa_list},index=idx_list)\n",
    "# city_rev_geocode_df['city'] = np.nan\n",
    "# city_rev_geocode_df['city'] = city_rev_geocode_df.fsa.map(fsa_dict)\n",
    "\n",
    "# out_folder = '../data/external/'\n",
    "# city_rev_geocode_df.to_csv(out_folder + '/city_rev_geocode_df.csv')"
   ]
  },
  {
   "cell_type": "code",
   "execution_count": 25,
   "metadata": {
    "collapsed": true,
    "scrolled": true
   },
   "outputs": [],
   "source": [
    "file = '../data/external/city_rev_geocode_df.csv'\n",
    "city_rev_geocode_df = pd.read_csv(file, index_col=0)"
   ]
  },
  {
   "cell_type": "code",
   "execution_count": 26,
   "metadata": {},
   "outputs": [
    {
     "data": {
      "text/html": [
       "<div>\n",
       "<style>\n",
       "    .dataframe thead tr:only-child th {\n",
       "        text-align: right;\n",
       "    }\n",
       "\n",
       "    .dataframe thead th {\n",
       "        text-align: left;\n",
       "    }\n",
       "\n",
       "    .dataframe tbody tr th {\n",
       "        vertical-align: top;\n",
       "    }\n",
       "</style>\n",
       "<table border=\"1\" class=\"dataframe\">\n",
       "  <thead>\n",
       "    <tr style=\"text-align: right;\">\n",
       "      <th></th>\n",
       "      <th>fsa</th>\n",
       "      <th>latitude</th>\n",
       "      <th>longitude</th>\n",
       "      <th>city</th>\n",
       "    </tr>\n",
       "  </thead>\n",
       "  <tbody>\n",
       "    <tr>\n",
       "      <th>4107</th>\n",
       "      <td>M9V</td>\n",
       "      <td>43.73904</td>\n",
       "      <td>-79.56083</td>\n",
       "      <td>Etobicoke</td>\n",
       "    </tr>\n",
       "    <tr>\n",
       "      <th>14348</th>\n",
       "      <td>M2N</td>\n",
       "      <td>43.75700</td>\n",
       "      <td>-79.40379</td>\n",
       "      <td>North York</td>\n",
       "    </tr>\n",
       "    <tr>\n",
       "      <th>16397</th>\n",
       "      <td>M5J</td>\n",
       "      <td>43.64257</td>\n",
       "      <td>-79.37754</td>\n",
       "      <td>Downtown Toronto</td>\n",
       "    </tr>\n",
       "    <tr>\n",
       "      <th>4112</th>\n",
       "      <td>M5J</td>\n",
       "      <td>43.64489</td>\n",
       "      <td>-79.38469</td>\n",
       "      <td>Downtown Toronto</td>\n",
       "    </tr>\n",
       "    <tr>\n",
       "      <th>12309</th>\n",
       "      <td>M4Y</td>\n",
       "      <td>43.66479</td>\n",
       "      <td>-79.37691</td>\n",
       "      <td>Downtown Toronto</td>\n",
       "    </tr>\n",
       "  </tbody>\n",
       "</table>\n",
       "</div>"
      ],
      "text/plain": [
       "       fsa  latitude  longitude              city\n",
       "4107   M9V  43.73904  -79.56083         Etobicoke\n",
       "14348  M2N  43.75700  -79.40379        North York\n",
       "16397  M5J  43.64257  -79.37754  Downtown Toronto\n",
       "4112   M5J  43.64489  -79.38469  Downtown Toronto\n",
       "12309  M4Y  43.66479  -79.37691  Downtown Toronto"
      ]
     },
     "execution_count": 26,
     "metadata": {},
     "output_type": "execute_result"
    }
   ],
   "source": [
    "city_rev_geocode_df.head()\n"
   ]
  },
  {
   "cell_type": "code",
   "execution_count": 27,
   "metadata": {},
   "outputs": [
    {
     "data": {
      "text/plain": [
       "Downtown Toronto    200\n",
       "North York           48\n",
       "West Toronto         48\n",
       "Etobicoke            23\n",
       "Central Toronto      22\n",
       "Scarborough          18\n",
       "East Toronto         18\n",
       "York                  8\n",
       "East York             7\n",
       "Thornhill             7\n",
       "Mississauga           2\n",
       "Pickering             2\n",
       "NaN                   2\n",
       "Markham               1\n",
       "Name: city, dtype: int64"
      ]
     },
     "execution_count": 27,
     "metadata": {},
     "output_type": "execute_result"
    }
   ],
   "source": [
    "city_rev_geocode_df.city.value_counts(dropna=False)"
   ]
  },
  {
   "cell_type": "code",
   "execution_count": 28,
   "metadata": {
    "scrolled": true
   },
   "outputs": [
    {
     "data": {
      "text/plain": [
       "406"
      ]
     },
     "execution_count": 28,
     "metadata": {},
     "output_type": "execute_result"
    }
   ],
   "source": [
    "city_rev_geocode_df.shape[0]"
   ]
  },
  {
   "cell_type": "code",
   "execution_count": 29,
   "metadata": {
    "collapsed": true
   },
   "outputs": [],
   "source": [
    "#impute df city_fsa information with api collected data\n",
    "\n",
    "for idx in city_rev_geocode_df.index:\n",
    "    df.loc[idx,'fsa'] = city_rev_geocode_df.loc[idx,'fsa']\n",
    "    df.loc[idx,'city_fsa'] = city_rev_geocode_df.loc[idx,'city']"
   ]
  },
  {
   "cell_type": "code",
   "execution_count": 30,
   "metadata": {},
   "outputs": [
    {
     "data": {
      "text/plain": [
       "Downtown Toronto    8138\n",
       "West Toronto        3407\n",
       "North York          2796\n",
       "Central Toronto     1448\n",
       "Scarborough         1376\n",
       "Etobicoke           1106\n",
       "East Toronto        1087\n",
       "York                 715\n",
       "East York            678\n",
       "Thornhill              7\n",
       "Pickering              2\n",
       "Mississauga            2\n",
       "NaN                    2\n",
       "Markham                1\n",
       "Name: city_fsa, dtype: int64"
      ]
     },
     "execution_count": 30,
     "metadata": {},
     "output_type": "execute_result"
    }
   ],
   "source": [
    "df.city_fsa.value_counts(dropna=False)"
   ]
  },
  {
   "cell_type": "code",
   "execution_count": 31,
   "metadata": {
    "collapsed": true
   },
   "outputs": [],
   "source": [
    "#Drop Minority City\n",
    "city_list = ['Downtown Toronto','Central Toronto','East Toronto','West Toronto','York','North York','East York','Scarborough','Etobicoke']\n",
    "city_filter = df.city_fsa.apply(lambda x: x in city_list)\n",
    "df = df.loc[city_filter]"
   ]
  },
  {
   "cell_type": "code",
   "execution_count": 32,
   "metadata": {},
   "outputs": [
    {
     "data": {
      "text/plain": [
       "20751"
      ]
     },
     "execution_count": 32,
     "metadata": {},
     "output_type": "execute_result"
    }
   ],
   "source": [
    "df.shape[0]"
   ]
  },
  {
   "cell_type": "code",
   "execution_count": 33,
   "metadata": {},
   "outputs": [
    {
     "data": {
      "text/plain": [
       "Downtown Toronto    0.392174\n",
       "West Toronto        0.164185\n",
       "North York          0.134740\n",
       "Central Toronto     0.069780\n",
       "Scarborough         0.066310\n",
       "Etobicoke           0.053299\n",
       "East Toronto        0.052383\n",
       "York                0.034456\n",
       "East York           0.032673\n",
       "Name: city_fsa, dtype: float64"
      ]
     },
     "execution_count": 33,
     "metadata": {},
     "output_type": "execute_result"
    }
   ],
   "source": [
    "df.city_fsa.value_counts(normalize=True)"
   ]
  },
  {
   "cell_type": "markdown",
   "metadata": {},
   "source": [
    "### 3.4.2 Indicator Variable for Amenities"
   ]
  },
  {
   "cell_type": "code",
   "execution_count": 34,
   "metadata": {
    "collapsed": true
   },
   "outputs": [],
   "source": [
    "df['amenities_list'] = df['amenities'].str.lower().str.replace(\"[{}’\\\"]\",'').str.split(',')\n",
    "amenities_set = set()\n",
    "for i in df['amenities_list']:\n",
    "    amenities_set.update(i)\n",
    "amenities_set.remove('')\n",
    "for item in amenities_set:\n",
    "    df[item] = df.amenities_list.apply(lambda x: 1 if item in x else 0)"
   ]
  },
  {
   "cell_type": "code",
   "execution_count": 35,
   "metadata": {},
   "outputs": [
    {
     "data": {
      "text/plain": [
       "{' toilet',\n",
       " '24-hour check-in',\n",
       " 'accessible-height bed',\n",
       " 'accessible-height toilet',\n",
       " 'air conditioning',\n",
       " 'air purifier',\n",
       " 'alfresco bathtub',\n",
       " 'amazon echo',\n",
       " 'baby bath',\n",
       " 'baby monitor',\n",
       " 'babysitter recommendations',\n",
       " 'balcony',\n",
       " 'bath towel',\n",
       " 'bathroom essentials',\n",
       " 'bathtub',\n",
       " 'bathtub with bath chair',\n",
       " 'bbq grill',\n",
       " 'beach essentials',\n",
       " 'beach view',\n",
       " 'beachfront',\n",
       " 'bed linens',\n",
       " 'bedroom comforts',\n",
       " 'bidet',\n",
       " 'body soap',\n",
       " 'breakfast',\n",
       " 'breakfast table',\n",
       " 'brick oven',\n",
       " 'building staff',\n",
       " 'buzzer/wireless intercom',\n",
       " 'cable tv',\n",
       " 'carbon monoxide detector',\n",
       " 'cat(s)',\n",
       " 'ceiling fan',\n",
       " 'ceiling hoist',\n",
       " 'central air conditioning',\n",
       " 'changing table',\n",
       " 'childrens books and toys',\n",
       " 'childrens dinnerware',\n",
       " 'cleaning before checkout',\n",
       " 'coffee maker',\n",
       " 'convection oven',\n",
       " 'cooking basics',\n",
       " 'crib',\n",
       " 'day bed',\n",
       " 'disabled parking spot',\n",
       " 'dishes and silverware',\n",
       " 'dishwasher',\n",
       " 'dog(s)',\n",
       " 'doorman',\n",
       " 'double oven',\n",
       " 'dryer',\n",
       " 'dvd player',\n",
       " 'electric profiling bed',\n",
       " 'elevator',\n",
       " 'en suite bathroom',\n",
       " 'espresso machine',\n",
       " 'essentials',\n",
       " 'ethernet connection',\n",
       " 'ev charger',\n",
       " 'exercise equipment',\n",
       " 'extra pillows and blankets',\n",
       " 'extra space around bed',\n",
       " 'extra space around shower and toilet',\n",
       " 'family/kid friendly',\n",
       " 'fax machine',\n",
       " 'fire extinguisher',\n",
       " 'fire pit',\n",
       " 'fireplace guards',\n",
       " 'firm mattress',\n",
       " 'first aid kit',\n",
       " 'fixed grab bars for shower',\n",
       " 'fixed grab bars for toilet',\n",
       " 'flat path to guest entrance',\n",
       " 'formal dining area',\n",
       " 'free parking on premises',\n",
       " 'free street parking',\n",
       " 'full kitchen',\n",
       " 'game console',\n",
       " 'garden or backyard',\n",
       " 'gas oven',\n",
       " 'ground floor access',\n",
       " 'gym',\n",
       " 'hair dryer',\n",
       " 'hammock',\n",
       " 'hangers',\n",
       " 'hbo go',\n",
       " 'heat lamps',\n",
       " 'heated floors',\n",
       " 'heated towel rack',\n",
       " 'heating',\n",
       " 'high chair',\n",
       " 'high-resolution computer monitor',\n",
       " 'host greets you',\n",
       " 'hot tub',\n",
       " 'hot water',\n",
       " 'hot water kettle',\n",
       " 'indoor fireplace',\n",
       " 'internet',\n",
       " 'iron',\n",
       " 'jetted tub',\n",
       " 'keypad',\n",
       " 'kitchen',\n",
       " 'kitchenette',\n",
       " 'lake access',\n",
       " 'laptop friendly workspace',\n",
       " 'lock on bedroom door',\n",
       " 'lockbox',\n",
       " 'long term stays allowed',\n",
       " 'luggage dropoff allowed',\n",
       " 'memory foam mattress',\n",
       " 'microwave',\n",
       " 'mini fridge',\n",
       " 'mobile hoist',\n",
       " 'mountain view',\n",
       " 'mudroom',\n",
       " 'murphy bed',\n",
       " 'netflix',\n",
       " 'no stairs or steps to enter',\n",
       " 'other',\n",
       " 'other pet(s)',\n",
       " 'outdoor kitchen',\n",
       " 'outdoor parking',\n",
       " 'outdoor seating',\n",
       " 'outlet covers',\n",
       " 'oven',\n",
       " 'pack n play/travel crib',\n",
       " 'paid parking off premises',\n",
       " 'paid parking on premises',\n",
       " 'patio or balcony',\n",
       " 'pets allowed',\n",
       " 'pets live on this property',\n",
       " 'pillow-top mattress',\n",
       " 'pocket wifi',\n",
       " 'pool',\n",
       " 'pool cover',\n",
       " 'pool toys',\n",
       " 'pool with pool hoist',\n",
       " 'printer',\n",
       " 'private bathroom',\n",
       " 'private entrance',\n",
       " 'private gym',\n",
       " 'private hot tub',\n",
       " 'private living room',\n",
       " 'private pool',\n",
       " 'projector and screen',\n",
       " 'rain shower',\n",
       " 'refrigerator',\n",
       " 'roll-in shower',\n",
       " 'room-darkening shades',\n",
       " 'safety card',\n",
       " 'sauna',\n",
       " 'self check-in',\n",
       " 'shampoo',\n",
       " 'shared gym',\n",
       " 'shared hot tub',\n",
       " 'shared pool',\n",
       " 'shower chair',\n",
       " 'single level home',\n",
       " 'ski-in/ski-out',\n",
       " 'smart lock',\n",
       " 'smart tv',\n",
       " 'smoke detector',\n",
       " 'smoking allowed',\n",
       " 'soaking tub',\n",
       " 'sound system',\n",
       " 'stair gates',\n",
       " 'stand alone steam shower',\n",
       " 'standing valet',\n",
       " 'steam oven',\n",
       " 'stove',\n",
       " 'suitable for events',\n",
       " 'sun loungers',\n",
       " 'table corner guards',\n",
       " 'tennis court',\n",
       " 'terrace',\n",
       " 'toilet paper',\n",
       " 'touchless faucets',\n",
       " 'translation missing: en.hosting_amenity_49',\n",
       " 'translation missing: en.hosting_amenity_50',\n",
       " 'tv',\n",
       " 'walk-in shower',\n",
       " 'warming drawer',\n",
       " 'washer',\n",
       " 'washer / dryer',\n",
       " 'waterfront',\n",
       " 'well-lit path to entrance',\n",
       " 'wheelchair accessible',\n",
       " 'wide clearance to shower',\n",
       " 'wide doorway to guest bathroom',\n",
       " 'wide entrance',\n",
       " 'wide entrance for guests',\n",
       " 'wide entryway',\n",
       " 'wide hallways',\n",
       " 'wifi',\n",
       " 'window guards',\n",
       " 'wine cooler'}"
      ]
     },
     "execution_count": 35,
     "metadata": {},
     "output_type": "execute_result"
    }
   ],
   "source": [
    "amenities_set"
   ]
  },
  {
   "cell_type": "code",
   "execution_count": 36,
   "metadata": {},
   "outputs": [
    {
     "data": {
      "text/plain": [
       "196"
      ]
     },
     "execution_count": 36,
     "metadata": {},
     "output_type": "execute_result"
    }
   ],
   "source": [
    "len(amenities_set)"
   ]
  },
  {
   "cell_type": "code",
   "execution_count": 37,
   "metadata": {
    "collapsed": true
   },
   "outputs": [],
   "source": [
    "size = df.shape[0]\n",
    "count = []\n",
    "pct = []\n",
    "for item in amenities_set:\n",
    "    count.append(df[item].sum())\n",
    "    pct.append(df[item].sum()/size*100)\n",
    "amenities_counts = pd.DataFrame({'Count':count,\"Percentage of Listings\":pct},index = amenities_set).sort_values(by='Count')"
   ]
  },
  {
   "cell_type": "code",
   "execution_count": 38,
   "metadata": {
    "collapsed": true
   },
   "outputs": [],
   "source": [
    "# save to file for report\n",
    "out_folder = '../data/interim/'\n",
    "amenities_counts.to_csv(out_folder + 'amenities_count.csv')"
   ]
  },
  {
   "cell_type": "code",
   "execution_count": 39,
   "metadata": {},
   "outputs": [
    {
     "data": {
      "text/html": [
       "<div>\n",
       "<style>\n",
       "    .dataframe thead tr:only-child th {\n",
       "        text-align: right;\n",
       "    }\n",
       "\n",
       "    .dataframe thead th {\n",
       "        text-align: left;\n",
       "    }\n",
       "\n",
       "    .dataframe tbody tr th {\n",
       "        vertical-align: top;\n",
       "    }\n",
       "</style>\n",
       "<table border=\"1\" class=\"dataframe\">\n",
       "  <thead>\n",
       "    <tr style=\"text-align: right;\">\n",
       "      <th></th>\n",
       "      <th>Count</th>\n",
       "      <th>Percentage of Listings</th>\n",
       "    </tr>\n",
       "  </thead>\n",
       "  <tbody>\n",
       "    <tr>\n",
       "      <th>brick oven</th>\n",
       "      <td>1</td>\n",
       "      <td>0.004819</td>\n",
       "    </tr>\n",
       "    <tr>\n",
       "      <th>hammock</th>\n",
       "      <td>1</td>\n",
       "      <td>0.004819</td>\n",
       "    </tr>\n",
       "    <tr>\n",
       "      <th>tennis court</th>\n",
       "      <td>1</td>\n",
       "      <td>0.004819</td>\n",
       "    </tr>\n",
       "    <tr>\n",
       "      <th>pool toys</th>\n",
       "      <td>1</td>\n",
       "      <td>0.004819</td>\n",
       "    </tr>\n",
       "    <tr>\n",
       "      <th>alfresco bathtub</th>\n",
       "      <td>2</td>\n",
       "      <td>0.009638</td>\n",
       "    </tr>\n",
       "  </tbody>\n",
       "</table>\n",
       "</div>"
      ],
      "text/plain": [
       "                  Count  Percentage of Listings\n",
       "brick oven            1                0.004819\n",
       "hammock               1                0.004819\n",
       "tennis court          1                0.004819\n",
       "pool toys             1                0.004819\n",
       "alfresco bathtub      2                0.009638"
      ]
     },
     "execution_count": 39,
     "metadata": {},
     "output_type": "execute_result"
    }
   ],
   "source": [
    "#Rarest Amenities\n",
    "amenities_counts.head()"
   ]
  },
  {
   "cell_type": "code",
   "execution_count": 40,
   "metadata": {},
   "outputs": [
    {
     "data": {
      "text/html": [
       "<div>\n",
       "<style>\n",
       "    .dataframe thead tr:only-child th {\n",
       "        text-align: right;\n",
       "    }\n",
       "\n",
       "    .dataframe thead th {\n",
       "        text-align: left;\n",
       "    }\n",
       "\n",
       "    .dataframe tbody tr th {\n",
       "        vertical-align: top;\n",
       "    }\n",
       "</style>\n",
       "<table border=\"1\" class=\"dataframe\">\n",
       "  <thead>\n",
       "    <tr style=\"text-align: right;\">\n",
       "      <th></th>\n",
       "      <th>Count</th>\n",
       "      <th>Percentage of Listings</th>\n",
       "    </tr>\n",
       "  </thead>\n",
       "  <tbody>\n",
       "    <tr>\n",
       "      <th>kitchen</th>\n",
       "      <td>19127</td>\n",
       "      <td>92.173871</td>\n",
       "    </tr>\n",
       "    <tr>\n",
       "      <th>smoke detector</th>\n",
       "      <td>19520</td>\n",
       "      <td>94.067756</td>\n",
       "    </tr>\n",
       "    <tr>\n",
       "      <th>essentials</th>\n",
       "      <td>19736</td>\n",
       "      <td>95.108669</td>\n",
       "    </tr>\n",
       "    <tr>\n",
       "      <th>heating</th>\n",
       "      <td>20091</td>\n",
       "      <td>96.819430</td>\n",
       "    </tr>\n",
       "    <tr>\n",
       "      <th>wifi</th>\n",
       "      <td>20366</td>\n",
       "      <td>98.144668</td>\n",
       "    </tr>\n",
       "  </tbody>\n",
       "</table>\n",
       "</div>"
      ],
      "text/plain": [
       "                Count  Percentage of Listings\n",
       "kitchen         19127               92.173871\n",
       "smoke detector  19520               94.067756\n",
       "essentials      19736               95.108669\n",
       "heating         20091               96.819430\n",
       "wifi            20366               98.144668"
      ]
     },
     "execution_count": 40,
     "metadata": {},
     "output_type": "execute_result"
    }
   ],
   "source": [
    "#Most Common Amenities\n",
    "amenities_counts.tail()"
   ]
  },
  {
   "cell_type": "code",
   "execution_count": 41,
   "metadata": {},
   "outputs": [
    {
     "data": {
      "text/plain": [
       "Count                     12253.000000\n",
       "Percentage of Listings       59.047757\n",
       "Name: hot water, dtype: float64"
      ]
     },
     "execution_count": 41,
     "metadata": {},
     "output_type": "execute_result"
    }
   ],
   "source": [
    "amenities_counts.loc['hot water']"
   ]
  },
  {
   "cell_type": "code",
   "execution_count": 42,
   "metadata": {
    "collapsed": true
   },
   "outputs": [],
   "source": [
    "# remove amenities list feature here\n",
    "df.drop('amenities_list', axis=1,inplace=True)"
   ]
  },
  {
   "cell_type": "markdown",
   "metadata": {},
   "source": [
    "### 3.4.3 Verification Count"
   ]
  },
  {
   "cell_type": "code",
   "execution_count": 43,
   "metadata": {
    "collapsed": true
   },
   "outputs": [],
   "source": [
    "df['host_verification_sum']=df.host_verifications.apply(lambda x: len(x.strip('[]').split(', ')))"
   ]
  },
  {
   "cell_type": "markdown",
   "metadata": {},
   "source": [
    "### 3.4.4 Days since events"
   ]
  },
  {
   "cell_type": "code",
   "execution_count": 44,
   "metadata": {
    "collapsed": true
   },
   "outputs": [],
   "source": [
    "ref_date = datetime.datetime(2019,6,27)"
   ]
  },
  {
   "cell_type": "code",
   "execution_count": 45,
   "metadata": {
    "collapsed": true
   },
   "outputs": [],
   "source": [
    "dt_col = ['host_since','first_review','last_review']\n",
    "for col in dt_col:\n",
    "    df['days_since'+col] = df[col].apply(lambda x: (ref_date - x).days)"
   ]
  },
  {
   "cell_type": "markdown",
   "metadata": {},
   "source": [
    "# 4 Data Exploration"
   ]
  },
  {
   "cell_type": "markdown",
   "metadata": {},
   "source": [
    "## 4.1 Price"
   ]
  },
  {
   "cell_type": "code",
   "execution_count": 46,
   "metadata": {},
   "outputs": [
    {
     "data": {
      "text/plain": [
       "count    20751.000000\n",
       "mean       143.349766\n",
       "std        234.243598\n",
       "min         13.000000\n",
       "25%         64.000000\n",
       "50%        101.000000\n",
       "75%        160.000000\n",
       "max      13422.000000\n",
       "Name: price, dtype: float64"
      ]
     },
     "execution_count": 46,
     "metadata": {},
     "output_type": "execute_result"
    }
   ],
   "source": [
    "df.price.describe()"
   ]
  },
  {
   "cell_type": "code",
   "execution_count": 47,
   "metadata": {},
   "outputs": [
    {
     "data": {
      "text/plain": [
       "6263    https://www.airbnb.com/rooms/16039481\n",
       "Name: listing_url, dtype: object"
      ]
     },
     "execution_count": 47,
     "metadata": {},
     "output_type": "execute_result"
    }
   ],
   "source": [
    "df.loc[df.price == 13422, 'listing_url']"
   ]
  },
  {
   "cell_type": "code",
   "execution_count": 48,
   "metadata": {},
   "outputs": [
    {
     "data": {
      "text/plain": [
       "750.0"
      ]
     },
     "execution_count": 48,
     "metadata": {},
     "output_type": "execute_result"
    }
   ],
   "source": [
    "# Create price cutoff as 99th percentile of price data\n",
    "price_cap = np.percentile(df.price, 99)\n",
    "price_cap"
   ]
  },
  {
   "cell_type": "code",
   "execution_count": 49,
   "metadata": {},
   "outputs": [
    {
     "data": {
      "text/plain": [
       "count    20544.000000\n",
       "mean       129.919782\n",
       "std        100.365287\n",
       "min         13.000000\n",
       "25%         64.000000\n",
       "50%        101.000000\n",
       "75%        159.000000\n",
       "max        750.000000\n",
       "Name: price, dtype: float64"
      ]
     },
     "execution_count": 49,
     "metadata": {},
     "output_type": "execute_result"
    }
   ],
   "source": [
    "#cap price and check\n",
    "df = df[df.price <= price_cap]\n",
    "df.price.describe()"
   ]
  },
  {
   "cell_type": "code",
   "execution_count": 50,
   "metadata": {
    "collapsed": true
   },
   "outputs": [],
   "source": [
    "df['log_price'] = np.log(df.price)"
   ]
  },
  {
   "cell_type": "code",
   "execution_count": 51,
   "metadata": {
    "collapsed": true
   },
   "outputs": [],
   "source": [
    "out_folder = '../reports/final_report_figures/'"
   ]
  },
  {
   "cell_type": "code",
   "execution_count": 52,
   "metadata": {},
   "outputs": [
    {
     "data": {
      "image/png": "[encoded data removed]",
      "text/plain": [
       "<matplotlib.figure.Figure at 0x2b321795ef0>"
      ]
     },
     "metadata": {},
     "output_type": "display_data"
    }
   ],
   "source": [
    "df.price.hist(bins=50)\n",
    "plt.xlabel('price')\n",
    "plt.ylabel('count')\n",
    "plt.title('(a)');\n",
    "plt.tight_layout();\n",
    "plt.savefig(out_folder + \"price_hist.png\")"
   ]
  },
  {
   "cell_type": "code",
   "execution_count": 53,
   "metadata": {},
   "outputs": [
    {
     "data": {
      "image/png": "[encoded data removed]",
      "text/plain": [
       "<matplotlib.figure.Figure at 0x2b3271bd828>"
      ]
     },
     "metadata": {},
     "output_type": "display_data"
    }
   ],
   "source": [
    "sm.qqplot(df.price,line='r')\n",
    "plt.title('(b)')\n",
    "plt.tight_layout()\n",
    "plt.savefig(out_folder + 'price_QQ')"
   ]
  },
  {
   "cell_type": "code",
   "execution_count": 54,
   "metadata": {},
   "outputs": [
    {
     "data": {
      "image/png": "[encoded data removed]",
      "text/plain": [
       "<matplotlib.figure.Figure at 0x2b326367d30>"
      ]
     },
     "metadata": {},
     "output_type": "display_data"
    }
   ],
   "source": [
    "df.log_price.hist(bins=20)\n",
    "plt.xlabel('log price')\n",
    "plt.ylabel('count')\n",
    "plt.title('(a)');\n",
    "plt.tight_layout();\n",
    "plt.savefig(out_folder + \"log_price_hist.png\")"
   ]
  },
  {
   "cell_type": "code",
   "execution_count": 55,
   "metadata": {},
   "outputs": [
    {
     "data": {
      "image/png": "[encoded data removed]",
      "text/plain": [
       "<matplotlib.figure.Figure at 0x2b3261a04e0>"
      ]
     },
     "metadata": {},
     "output_type": "display_data"
    }
   ],
   "source": [
    "sm.qqplot(df.log_price,line='r')\n",
    "plt.title('(b)')\n",
    "plt.tight_layout()\n",
    "plt.savefig(out_folder + 'log_price_QQ.png')"
   ]
  },
  {
   "cell_type": "markdown",
   "metadata": {},
   "source": [
    "## 4.2 Geographical Information"
   ]
  },
  {
   "cell_type": "code",
   "execution_count": 56,
   "metadata": {},
   "outputs": [
    {
     "data": {
      "text/plain": [
       "Downtown Toronto    8026\n",
       "West Toronto        3385\n",
       "North York          2772\n",
       "Central Toronto     1422\n",
       "Scarborough         1370\n",
       "Etobicoke           1102\n",
       "East Toronto        1081\n",
       "York                 712\n",
       "East York            674\n",
       "Name: city_fsa, dtype: int64"
      ]
     },
     "execution_count": 56,
     "metadata": {},
     "output_type": "execute_result"
    }
   ],
   "source": [
    "df.city_fsa.value_counts(dropna=False)"
   ]
  },
  {
   "cell_type": "code",
   "execution_count": 57,
   "metadata": {},
   "outputs": [
    {
     "data": {
      "image/png": "[encoded data removed]",
      "text/plain": [
       "<matplotlib.figure.Figure at 0x2b32956a6d8>"
      ]
     },
     "metadata": {},
     "output_type": "display_data"
    }
   ],
   "source": [
    "city_order = ['Downtown Toronto','Central Toronto','East Toronto','West Toronto','York','North York','East York',\n",
    "              'Scarborough','Etobicoke']\n",
    "plt.figure(figsize=(15,5))\n",
    "plt.subplot(1,2,1)\n",
    "sns.countplot(data=df,x='city_fsa',order=city_order,color='royalblue')\n",
    "plt.xlabel(\"\")\n",
    "plt.xticks(rotation=90)\n",
    "plt.title('(a)')\n",
    "plt.subplot(1,2,2)\n",
    "sns.boxplot(data=df, x='city_fsa',y='price', order=city_order,color='royalblue')\n",
    "plt.yscale('log')\n",
    "plt.ylim([10,1000])\n",
    "plt.xlabel(\"\")\n",
    "plt.ylabel(\"price\")\n",
    "plt.xticks(rotation=90)\n",
    "plt.title('(b)')\n",
    "plt.tight_layout()\n",
    "plt.savefig(out_folder + \"region.png\");"
   ]
  },
  {
   "cell_type": "markdown",
   "metadata": {},
   "source": [
    "## 4.3 Property Information"
   ]
  },
  {
   "cell_type": "markdown",
   "metadata": {},
   "source": [
    "### 4.3.1 Property Type"
   ]
  },
  {
   "cell_type": "code",
   "execution_count": 58,
   "metadata": {
    "collapsed": true
   },
   "outputs": [],
   "source": [
    "# Create a function for count and percentage for categorical variables\n",
    "\n",
    "def count_pct(variable, data=df):\n",
    "    idx = data[variable].value_counts().index\n",
    "    count_pct_dict = {'count': data[variable].value_counts(dropna=False).values,\n",
    "                      'pct':data[variable].value_counts(dropna=False).values/data.shape[0]*100}\n",
    "    return pd.DataFrame(count_pct_dict,index=idx)"
   ]
  },
  {
   "cell_type": "code",
   "execution_count": 59,
   "metadata": {},
   "outputs": [
    {
     "data": {
      "text/html": [
       "<div>\n",
       "<style>\n",
       "    .dataframe thead tr:only-child th {\n",
       "        text-align: right;\n",
       "    }\n",
       "\n",
       "    .dataframe thead th {\n",
       "        text-align: left;\n",
       "    }\n",
       "\n",
       "    .dataframe tbody tr th {\n",
       "        vertical-align: top;\n",
       "    }\n",
       "</style>\n",
       "<table border=\"1\" class=\"dataframe\">\n",
       "  <thead>\n",
       "    <tr style=\"text-align: right;\">\n",
       "      <th></th>\n",
       "      <th>count</th>\n",
       "      <th>pct</th>\n",
       "    </tr>\n",
       "  </thead>\n",
       "  <tbody>\n",
       "    <tr>\n",
       "      <th>Apartment</th>\n",
       "      <td>6123</td>\n",
       "      <td>29.804322</td>\n",
       "    </tr>\n",
       "    <tr>\n",
       "      <th>Condominium</th>\n",
       "      <td>5441</td>\n",
       "      <td>26.484618</td>\n",
       "    </tr>\n",
       "    <tr>\n",
       "      <th>House</th>\n",
       "      <td>5415</td>\n",
       "      <td>26.358061</td>\n",
       "    </tr>\n",
       "    <tr>\n",
       "      <th>Townhouse</th>\n",
       "      <td>954</td>\n",
       "      <td>4.643692</td>\n",
       "    </tr>\n",
       "    <tr>\n",
       "      <th>Guest suite</th>\n",
       "      <td>795</td>\n",
       "      <td>3.869743</td>\n",
       "    </tr>\n",
       "    <tr>\n",
       "      <th>Bungalow</th>\n",
       "      <td>675</td>\n",
       "      <td>3.285631</td>\n",
       "    </tr>\n",
       "    <tr>\n",
       "      <th>Loft</th>\n",
       "      <td>439</td>\n",
       "      <td>2.136877</td>\n",
       "    </tr>\n",
       "    <tr>\n",
       "      <th>Serviced apartment</th>\n",
       "      <td>215</td>\n",
       "      <td>1.046534</td>\n",
       "    </tr>\n",
       "    <tr>\n",
       "      <th>Guesthouse</th>\n",
       "      <td>109</td>\n",
       "      <td>0.530569</td>\n",
       "    </tr>\n",
       "    <tr>\n",
       "      <th>Bed and breakfast</th>\n",
       "      <td>102</td>\n",
       "      <td>0.496495</td>\n",
       "    </tr>\n",
       "    <tr>\n",
       "      <th>Villa</th>\n",
       "      <td>84</td>\n",
       "      <td>0.408879</td>\n",
       "    </tr>\n",
       "    <tr>\n",
       "      <th>Boutique hotel</th>\n",
       "      <td>59</td>\n",
       "      <td>0.287188</td>\n",
       "    </tr>\n",
       "    <tr>\n",
       "      <th>Other</th>\n",
       "      <td>52</td>\n",
       "      <td>0.253115</td>\n",
       "    </tr>\n",
       "    <tr>\n",
       "      <th>Hostel</th>\n",
       "      <td>22</td>\n",
       "      <td>0.107087</td>\n",
       "    </tr>\n",
       "    <tr>\n",
       "      <th>Hotel</th>\n",
       "      <td>10</td>\n",
       "      <td>0.048676</td>\n",
       "    </tr>\n",
       "    <tr>\n",
       "      <th>Barn</th>\n",
       "      <td>9</td>\n",
       "      <td>0.043808</td>\n",
       "    </tr>\n",
       "    <tr>\n",
       "      <th>Tiny house</th>\n",
       "      <td>8</td>\n",
       "      <td>0.038941</td>\n",
       "    </tr>\n",
       "    <tr>\n",
       "      <th>Boat</th>\n",
       "      <td>7</td>\n",
       "      <td>0.034073</td>\n",
       "    </tr>\n",
       "    <tr>\n",
       "      <th>Cottage</th>\n",
       "      <td>6</td>\n",
       "      <td>0.029206</td>\n",
       "    </tr>\n",
       "    <tr>\n",
       "      <th>Camper/RV</th>\n",
       "      <td>4</td>\n",
       "      <td>0.019470</td>\n",
       "    </tr>\n",
       "    <tr>\n",
       "      <th>Aparthotel</th>\n",
       "      <td>3</td>\n",
       "      <td>0.014603</td>\n",
       "    </tr>\n",
       "    <tr>\n",
       "      <th>Casa particular (Cuba)</th>\n",
       "      <td>2</td>\n",
       "      <td>0.009735</td>\n",
       "    </tr>\n",
       "    <tr>\n",
       "      <th>Cave</th>\n",
       "      <td>2</td>\n",
       "      <td>0.009735</td>\n",
       "    </tr>\n",
       "    <tr>\n",
       "      <th>Cabin</th>\n",
       "      <td>2</td>\n",
       "      <td>0.009735</td>\n",
       "    </tr>\n",
       "    <tr>\n",
       "      <th>Parking Space</th>\n",
       "      <td>1</td>\n",
       "      <td>0.004868</td>\n",
       "    </tr>\n",
       "    <tr>\n",
       "      <th>In-law</th>\n",
       "      <td>1</td>\n",
       "      <td>0.004868</td>\n",
       "    </tr>\n",
       "    <tr>\n",
       "      <th>Tent</th>\n",
       "      <td>1</td>\n",
       "      <td>0.004868</td>\n",
       "    </tr>\n",
       "    <tr>\n",
       "      <th>Castle</th>\n",
       "      <td>1</td>\n",
       "      <td>0.004868</td>\n",
       "    </tr>\n",
       "    <tr>\n",
       "      <th>Treehouse</th>\n",
       "      <td>1</td>\n",
       "      <td>0.004868</td>\n",
       "    </tr>\n",
       "    <tr>\n",
       "      <th>Earth house</th>\n",
       "      <td>1</td>\n",
       "      <td>0.004868</td>\n",
       "    </tr>\n",
       "  </tbody>\n",
       "</table>\n",
       "</div>"
      ],
      "text/plain": [
       "                        count        pct\n",
       "Apartment                6123  29.804322\n",
       "Condominium              5441  26.484618\n",
       "House                    5415  26.358061\n",
       "Townhouse                 954   4.643692\n",
       "Guest suite               795   3.869743\n",
       "Bungalow                  675   3.285631\n",
       "Loft                      439   2.136877\n",
       "Serviced apartment        215   1.046534\n",
       "Guesthouse                109   0.530569\n",
       "Bed and breakfast         102   0.496495\n",
       "Villa                      84   0.408879\n",
       "Boutique hotel             59   0.287188\n",
       "Other                      52   0.253115\n",
       "Hostel                     22   0.107087\n",
       "Hotel                      10   0.048676\n",
       "Barn                        9   0.043808\n",
       "Tiny house                  8   0.038941\n",
       "Boat                        7   0.034073\n",
       "Cottage                     6   0.029206\n",
       "Camper/RV                   4   0.019470\n",
       "Aparthotel                  3   0.014603\n",
       "Casa particular (Cuba)      2   0.009735\n",
       "Cave                        2   0.009735\n",
       "Cabin                       2   0.009735\n",
       "Parking Space               1   0.004868\n",
       "In-law                      1   0.004868\n",
       "Tent                        1   0.004868\n",
       "Castle                      1   0.004868\n",
       "Treehouse                   1   0.004868\n",
       "Earth house                 1   0.004868"
      ]
     },
     "execution_count": 59,
     "metadata": {},
     "output_type": "execute_result"
    }
   ],
   "source": [
    "property_type_counts = count_pct(variable = 'property_type')\n",
    "property_type_counts"
   ]
  },
  {
   "cell_type": "code",
   "execution_count": 60,
   "metadata": {},
   "outputs": [
    {
     "data": {
      "text/plain": [
       "(30, 16)"
      ]
     },
     "execution_count": 60,
     "metadata": {},
     "output_type": "execute_result"
    }
   ],
   "source": [
    "len(df.property_type.unique()), (property_type_counts['count'] <= 10).sum()"
   ]
  },
  {
   "cell_type": "code",
   "execution_count": 61,
   "metadata": {},
   "outputs": [
    {
     "data": {
      "image/png": "[encoded data removed]",
      "text/plain": [
       "<matplotlib.figure.Figure at 0x2b3272a4940>"
      ]
     },
     "metadata": {},
     "output_type": "display_data"
    }
   ],
   "source": [
    "# create and index so for ordering the boxplots according to counts\n",
    "plt.figure(figsize=(15,5))\n",
    "\n",
    "idx = df.property_type.value_counts().index\n",
    "sns.countplot(data=df, x='property_type', order=idx,color='royalblue')\n",
    "#plt.xlabel(\"property type\")\n",
    "plt.ylabel('log price')\n",
    "plt.xticks(rotation=90)\n",
    "plt.xlabel('')\n",
    "plt.tight_layout()\n",
    "plt.savefig(out_folder + \"bar_property_type.png\");"
   ]
  },
  {
   "cell_type": "code",
   "execution_count": 62,
   "metadata": {
    "collapsed": true
   },
   "outputs": [],
   "source": [
    "# Assign Bungalow as House per Wikipedia\n",
    "df.loc[df.property_type == 'Bungalow','property_type'] = 'House'"
   ]
  },
  {
   "cell_type": "code",
   "execution_count": 63,
   "metadata": {
    "collapsed": true
   },
   "outputs": [],
   "source": [
    "# Assign Other to minority property types\n",
    "\n",
    "threshold = 0.05\n",
    "size = df.shape[0]\n",
    "filter_ = df.property_type.value_counts() > threshold * size\n",
    "property_type_included = df.property_type.value_counts()[filter_].index\n",
    "df['property_type_simple'] = df.property_type.apply(lambda x: 'Other' if x not in property_type_included else x)"
   ]
  },
  {
   "cell_type": "code",
   "execution_count": 64,
   "metadata": {},
   "outputs": [
    {
     "data": {
      "text/plain": [
       "''"
      ]
     },
     "execution_count": 64,
     "metadata": {},
     "output_type": "execute_result"
    },
    {
     "data": {
      "image/png": "[encoded data removed]",
      "text/plain": [
       "<matplotlib.figure.Figure at 0x2b327ac6a20>"
      ]
     },
     "metadata": {},
     "output_type": "display_data"
    }
   ],
   "source": [
    "order = df['property_type_simple'].value_counts().index\n",
    "\n",
    "plt.figure(figsize=(5,5))\n",
    "sns.boxplot(data=df, x='property_type_simple',y='price', order=order,color='royalblue')\n",
    "plt.xlabel(\"\")\n",
    "plt.ylabel(\"price\")\n",
    "plt.yscale('log')\n",
    "plt.ylim([10,1000])\n",
    "plt.xticks(rotation=45)\n",
    "plt.tight_layout()\n",
    "plt.savefig(out_folder + \"property_type_box.png\")\n",
    ";"
   ]
  },
  {
   "cell_type": "markdown",
   "metadata": {},
   "source": [
    "### 4.3.2 Room Type"
   ]
  },
  {
   "cell_type": "code",
   "execution_count": 65,
   "metadata": {},
   "outputs": [
    {
     "data": {
      "image/png": "[encoded data removed]",
      "text/plain": [
       "<matplotlib.figure.Figure at 0x2b32856d160>"
      ]
     },
     "metadata": {},
     "output_type": "display_data"
    }
   ],
   "source": [
    "plt.figure(figsize=(15,5))\n",
    "plt.subplot(1,2,1)\n",
    "sns.countplot(data=df, x='property_type_simple',hue='room_type')\n",
    "plt.xlabel('')\n",
    "plt.ylabel('count')\n",
    "plt.xticks(rotation=45)\n",
    "plt.subplot(1,2,2)\n",
    "sns.boxplot(data=df,y='price',x='room_type')\n",
    "plt.xlabel('room type')\n",
    "plt.ylabel('price')\n",
    "plt.yscale('log')\n",
    "plt.ylim([10,1000])\n",
    "plt.tight_layout()\n",
    "plt.savefig(out_folder + \"room_type_bar_box.png\");"
   ]
  },
  {
   "cell_type": "markdown",
   "metadata": {},
   "source": [
    "### 4.3.3 Property Features"
   ]
  },
  {
   "cell_type": "code",
   "execution_count": 66,
   "metadata": {},
   "outputs": [
    {
     "data": {
      "image/png": "[encoded data removed]",
      "text/plain": [
       "<matplotlib.figure.Figure at 0x2b329061cf8>"
      ]
     },
     "metadata": {},
     "output_type": "display_data"
    }
   ],
   "source": [
    "plt.figure(figsize=(5,5))\n",
    "corr_matrix = df[['log_price','accommodates', 'bathrooms', 'bedrooms', 'beds']].corr().round(2)\n",
    "sns.heatmap(corr_matrix, annot=True)\n",
    "plt.tick_params(labelsize=14)\n",
    "plt.tight_layout()\n",
    "plt.savefig(out_folder + 'corr_matrix_features.png');"
   ]
  },
  {
   "cell_type": "markdown",
   "metadata": {},
   "source": [
    "### 4.3.4 Amenities"
   ]
  },
  {
   "cell_type": "code",
   "execution_count": 67,
   "metadata": {},
   "outputs": [
    {
     "data": {
      "image/png": "[encoded data removed]",
      "text/plain": [
       "<matplotlib.figure.Figure at 0x2b32b156a90>"
      ]
     },
     "metadata": {},
     "output_type": "display_data"
    }
   ],
   "source": [
    "amenities_test = ['bathtub','pets allowed','pool','gym','family/kid friendly',\n",
    "                  'private entrance', 'free parking on premises', 'air conditioning']\n",
    "\n",
    "plt.figure(figsize=(15,10))\n",
    "for i, item in enumerate(amenities_test,1):\n",
    "    plt.subplot(2,4,i)\n",
    "    sns.boxplot(data=df, x=item, y='price',order=[0,1])\n",
    "    plt.xlabel(item)\n",
    "    plt.ylabel('price')\n",
    "    plt.yscale('log')\n",
    "    plt.ylim([10,1000])\n",
    "    plt.xticks([0,1],['No','Yes'])\n",
    "plt.tight_layout()\n",
    "plt.savefig(out_folder +'amenities_box.png')"
   ]
  },
  {
   "cell_type": "markdown",
   "metadata": {},
   "source": [
    "## 4.4 Host Information"
   ]
  },
  {
   "cell_type": "markdown",
   "metadata": {},
   "source": [
    "### 4.4.1 Superhost status"
   ]
  },
  {
   "cell_type": "code",
   "execution_count": 68,
   "metadata": {},
   "outputs": [
    {
     "data": {
      "text/plain": [
       "f          0.738074\n",
       "t          0.261682\n",
       "missing    0.000243\n",
       "Name: host_is_superhost, dtype: float64"
      ]
     },
     "execution_count": 68,
     "metadata": {},
     "output_type": "execute_result"
    }
   ],
   "source": [
    "df.host_is_superhost.value_counts(dropna=False,normalize=True)"
   ]
  },
  {
   "cell_type": "code",
   "execution_count": 69,
   "metadata": {},
   "outputs": [
    {
     "data": {
      "image/png": "[encoded data removed]",
      "text/plain": [
       "<matplotlib.figure.Figure at 0x2b3260d7ac8>"
      ]
     },
     "metadata": {},
     "output_type": "display_data"
    }
   ],
   "source": [
    "plt.figure(figsize=(15,5))\n",
    "plt.subplot(1,2,1)\n",
    "sns.countplot(data=df, x='host_is_superhost')\n",
    "plt.xlabel('superhost status')\n",
    "plt.xticks([0,1,2],['No','Yes','Missing'])\n",
    "plt.subplot(1,2,2)\n",
    "sns.boxplot(data=df, x='host_is_superhost', y='price')\n",
    "plt.xticks([0,1,2],['No','Yes','Missing'])\n",
    "plt.xlabel('superhost status')\n",
    "plt.ylabel('price')\n",
    "plt.yscale('log')\n",
    "plt.ylim([10,1000])\n",
    "plt.tight_layout()\n",
    "plt.savefig(out_folder + 'superhost_count_box.png');"
   ]
  },
  {
   "cell_type": "markdown",
   "metadata": {},
   "source": [
    "## 4.5 Booking Policy"
   ]
  },
  {
   "cell_type": "markdown",
   "metadata": {},
   "source": [
    "### 4.5.1 Cleaning fee"
   ]
  },
  {
   "cell_type": "code",
   "execution_count": 70,
   "metadata": {},
   "outputs": [
    {
     "data": {
      "image/png": "[encoded data removed]",
      "text/plain": [
       "<matplotlib.figure.Figure at 0x2b327270c18>"
      ]
     },
     "metadata": {},
     "output_type": "display_data"
    }
   ],
   "source": [
    "df['log_cleaning_fee'] = np.log(df.cleaning_fee + 1)\n",
    "\n",
    "sns.scatterplot(x='log_cleaning_fee',y='price',data=df)\n",
    "plt.xlabel('log (cleaning fee+1)')\n",
    "plt.ylabel('price')\n",
    "plt.yscale('log')\n",
    "plt.ylim([10,1000])\n",
    "plt.tight_layout()\n",
    "plt.savefig(out_folder +'logcleaningfee_price')\n",
    "\n",
    "df.drop('log_cleaning_fee',axis=1,inplace=True)"
   ]
  },
  {
   "cell_type": "markdown",
   "metadata": {},
   "source": [
    "### 4.5.2 Minimum Nights of stay"
   ]
  },
  {
   "cell_type": "code",
   "execution_count": 71,
   "metadata": {
    "collapsed": true
   },
   "outputs": [],
   "source": [
    "df['minimum_nights_category'] = df.minimum_nights.apply(lambda x: \"1 day\" if x ==1 \n",
    "                                                        else (\"2 days\" if x ==2 \n",
    "                                                              else(\"3 days\" if x ==3\n",
    "                                                                   else (\"4 to 7 days\" if x <=7 \n",
    "                                                                         else \">7 days\"))))"
   ]
  },
  {
   "cell_type": "code",
   "execution_count": 72,
   "metadata": {},
   "outputs": [
    {
     "data": {
      "image/png": "[encoded data removed]",
      "text/plain": [
       "<matplotlib.figure.Figure at 0x2b322ba54a8>"
      ]
     },
     "metadata": {},
     "output_type": "display_data"
    }
   ],
   "source": [
    "order = [\"1 day\",\"2 days\", \"3 days\", \"4 to 7 days\", \">7 days\"]\n",
    "plt.figure(figsize=(15,5))\n",
    "plt.subplot(1,2,1)\n",
    "sns.countplot(data=df,x='minimum_nights_category',order=order)\n",
    "plt.xlabel('minimum nights of stay')\n",
    "plt.subplot(1,2,2)\n",
    "sns.boxplot(data=df, x='minimum_nights_category', y='price',order=order)\n",
    "plt.xlabel('minimum nights of stay')\n",
    "plt.ylabel('price')\n",
    "plt.yscale('log')\n",
    "plt.ylim([10,1000])\n",
    "plt.savefig(out_folder +'min_night.png');"
   ]
  },
  {
   "cell_type": "code",
   "execution_count": 73,
   "metadata": {},
   "outputs": [
    {
     "data": {
      "text/plain": [
       "1 day          0.394081\n",
       "2 days         0.274971\n",
       "4 to 7 days    0.125779\n",
       "3 days         0.123248\n",
       ">7 days        0.081922\n",
       "Name: minimum_nights_category, dtype: float64"
      ]
     },
     "execution_count": 73,
     "metadata": {},
     "output_type": "execute_result"
    }
   ],
   "source": [
    "df.minimum_nights_category.value_counts(normalize=True)"
   ]
  },
  {
   "cell_type": "code",
   "execution_count": 74,
   "metadata": {
    "collapsed": true
   },
   "outputs": [],
   "source": [
    "df.drop('minimum_nights_category',axis=1,inplace=True)"
   ]
  },
  {
   "cell_type": "markdown",
   "metadata": {},
   "source": [
    "### 4.5.3 Other Numerical Features"
   ]
  },
  {
   "cell_type": "code",
   "execution_count": 75,
   "metadata": {},
   "outputs": [
    {
     "data": {
      "image/png": "[encoded data removed]",
      "text/plain": [
       "<matplotlib.figure.Figure at 0x2b3260d7c18>"
      ]
     },
     "metadata": {},
     "output_type": "display_data"
    }
   ],
   "source": [
    "corr_matrix = df[['log_price','security_deposit', 'cleaning_fee','guests_included', 'extra_people',\n",
    "                  'minimum_nights', 'maximum_nights']].corr().round(2)\n",
    "plt.figure(figsize=(6,6))\n",
    "sns.heatmap(corr_matrix, annot=True)\n",
    "plt.tick_params(labelsize=14)\n",
    "plt.tight_layout()\n",
    "plt.savefig(out_folder + 'booking_num_corr.png');"
   ]
  },
  {
   "cell_type": "markdown",
   "metadata": {},
   "source": [
    "## 4.6 Availability"
   ]
  },
  {
   "cell_type": "code",
   "execution_count": 76,
   "metadata": {},
   "outputs": [
    {
     "data": {
      "image/png": "[encoded data removed]",
      "text/plain": [
       "<matplotlib.figure.Figure at 0x2b322bd8828>"
      ]
     },
     "metadata": {},
     "output_type": "display_data"
    }
   ],
   "source": [
    "plt.figure(figsize=(15,5))\n",
    "plt.subplot(1,2,1)\n",
    "sns.countplot(data=df,x='availability_30', color='royalblue')\n",
    "plt.xticks(rotation=90)\n",
    "plt.xlabel('Availability for next 30 days')\n",
    "plt.title('(a)')\n",
    "plt.subplot(1,2,2)\n",
    "\n",
    "corr_matrix = df[['log_price','availability_30', 'availability_60', 'availability_90', 'availability_365']].corr().round(2)\n",
    "sns.heatmap(corr_matrix,annot=True)\n",
    "plt.tick_params(labelsize=14)\n",
    "plt.title('(b)')\n",
    "\n",
    "plt.tight_layout()\n",
    "plt.savefig(out_folder + 'availibility_corr.png');"
   ]
  },
  {
   "cell_type": "markdown",
   "metadata": {},
   "source": [
    "# 4.7 Reviews\n"
   ]
  },
  {
   "cell_type": "code",
   "execution_count": 77,
   "metadata": {
    "collapsed": true
   },
   "outputs": [],
   "source": [
    "def review_scores_rating_category(score):\n",
    "    if score >=96:\n",
    "        return '96 or above'\n",
    "    elif score < 96 and score >= 90:\n",
    "        return 'between 90 and 96'\n",
    "    else: \n",
    "        return 'below 90' \n",
    "\n",
    "df['review_scores_rating_category'] = df['review_scores_rating'].apply(review_scores_rating_category)"
   ]
  },
  {
   "cell_type": "code",
   "execution_count": 78,
   "metadata": {},
   "outputs": [
    {
     "data": {
      "image/png": "[encoded data removed]",
      "text/plain": [
       "<matplotlib.figure.Figure at 0x2b322f98e48>"
      ]
     },
     "metadata": {},
     "output_type": "display_data"
    }
   ],
   "source": [
    "plt.figure(figsize=(15,4))\n",
    "\n",
    "plt.subplot(1,2,1)\n",
    "sns.distplot(df.review_scores_rating,kde=False)\n",
    "plt.xlim(0,100)\n",
    "plt.xlabel('review scores rating')\n",
    "plt.ylabel('count')\n",
    "plt.title('(a)')\n",
    "\n",
    "plt.subplot(1,2,2)\n",
    "\n",
    "sns.boxplot(data=df, x='review_scores_rating_category',y='price')\n",
    "plt.xlabel('')\n",
    "plt.ylabel('price')\n",
    "plt.yscale('log')\n",
    "plt.title('(b)')\n",
    "plt.tight_layout()\n",
    "plt.savefig(out_folder + 'review_hist_box.png')"
   ]
  },
  {
   "cell_type": "code",
   "execution_count": 81,
   "metadata": {},
   "outputs": [
    {
     "data": {
      "image/png": "[encoded data removed]",
      "text/plain": [
       "<matplotlib.figure.Figure at 0x2b32b5d1eb8>"
      ]
     },
     "metadata": {},
     "output_type": "display_data"
    }
   ],
   "source": [
    "plt.figure(figsize=(8,8))\n",
    "\n",
    "corr_matrix = df[['log_price','number_of_reviews','number_of_reviews_ltm','review_scores_rating', 'review_scores_accuracy', \n",
    "                  'review_scores_cleanliness','review_scores_checkin','review_scores_communication',\n",
    "                  'review_scores_value']].corr(method='spearman').round(2)\n",
    "\n",
    "sns.heatmap(corr_matrix,annot=True)\n",
    "plt.tick_params(labelsize=14)\n",
    "plt.tight_layout()\n",
    "plt.savefig(out_folder + 'review_corr.png')"
   ]
  },
  {
   "cell_type": "code",
   "execution_count": 80,
   "metadata": {
    "collapsed": true
   },
   "outputs": [],
   "source": [
    "df.drop('review_scores_rating_category',axis=1,inplace=True)"
   ]
  },
  {
   "cell_type": "markdown",
   "metadata": {},
   "source": [
    "## 4.8 Statistical Analysis of Categorical Features"
   ]
  },
  {
   "cell_type": "code",
   "execution_count": 221,
   "metadata": {
    "collapsed": true
   },
   "outputs": [],
   "source": [
    "from collections import OrderedDict"
   ]
  },
  {
   "cell_type": "code",
   "execution_count": 222,
   "metadata": {
    "collapsed": true
   },
   "outputs": [],
   "source": [
    "def pop_eval(feature_list,threshold = 20):\n",
    "    category_testing_summary = pd.DataFrame(OrderedDict({'test':[], 'number of categories':[],'rejected_null_hypothesis':[]}))\n",
    "    for feature in feature_list:\n",
    "        filter_ = (df[feature].value_counts() > threshold)\n",
    "        data_list = []\n",
    "        var_str = \"\"\n",
    "        cat_list = df[feature].value_counts()[filter_].index\n",
    "        for i, cat in enumerate(cat_list):\n",
    "            data_list.append(list(df.loc[df[feature] == cat, 'log_price'].values))\n",
    "            var_str = var_str + 'data_list' + \"[\" + str(i) + \"]\" + \", \"\n",
    "        \n",
    "        var_str = var_str[:-2]\n",
    "        \n",
    "        num_categories = len(cat_list)\n",
    "        \n",
    "        if num_categories > 2:\n",
    "            s, p = eval('kruskal(' + var_str + ')')\n",
    "            test_used = 'Kruskal-Wallis'\n",
    "        elif num_categories == 2:\n",
    "            s, p = eval('mannwhitneyu('+ var_str + ')')\n",
    "            test_used = 'MannWhitneyU'\n",
    "        print(f'Feature: {feature}')\n",
    "        print(f'Categories: {list(cat_list)}')\n",
    "        if num_categories ==1:\n",
    "            rejected = 'NA'\n",
    "            print(f'Only one category has count above the threshold of {threshold}. No test was performed.')\n",
    "        elif num_categories > 2:\n",
    "            print('Test: Kruskal-Wallis Test')\n",
    "        elif num_categories == 2:\n",
    "            print('Test: Mann Whitney U Test')\n",
    "        print(f'The test statistics is {s} and the p-value is {p}.')\n",
    "        if num_categories > 1:\n",
    "            if p < 0.05:\n",
    "                rejected = 'yes'\n",
    "                print('Null hypothesis rejected. There is significant evidence the not all samples are from the same distribution.')\n",
    "            else:\n",
    "                print('Null hypothesis NOT rejected. There is not significant evidence the samples are not from the same distribution.')\n",
    "                rejected = 'no'\n",
    "            print('\\n')\n",
    "        category_testing_summary.loc[feature] = [test_used, num_categories, rejected]\n",
    "    return category_testing_summary"
   ]
  },
  {
   "cell_type": "code",
   "execution_count": 1,
   "metadata": {},
   "outputs": [
    {
     "ename": "NameError",
     "evalue": "name 'pop_eval' is not defined",
     "output_type": "error",
     "traceback": [
      "\u001b[1;31m---------------------------------------------------------------------------\u001b[0m",
      "\u001b[1;31mNameError\u001b[0m                                 Traceback (most recent call last)",
      "\u001b[1;32m<ipython-input-1-58ad8a690be2>\u001b[0m in \u001b[0;36m<module>\u001b[1;34m()\u001b[0m\n\u001b[1;32m----> 1\u001b[1;33m \u001b[0mproperty_type_test\u001b[0m \u001b[1;33m=\u001b[0m \u001b[0mpop_eval\u001b[0m\u001b[1;33m(\u001b[0m\u001b[1;33m[\u001b[0m\u001b[1;34m'property_type_simple'\u001b[0m\u001b[1;33m,\u001b[0m \u001b[1;34m'room_type'\u001b[0m\u001b[1;33m,\u001b[0m \u001b[1;34m'bed_type'\u001b[0m\u001b[1;33m,\u001b[0m \u001b[1;34m'city_fsa'\u001b[0m\u001b[1;33m]\u001b[0m\u001b[1;33m)\u001b[0m\u001b[1;33m\u001b[0m\u001b[0m\n\u001b[0m",
      "\u001b[1;31mNameError\u001b[0m: name 'pop_eval' is not defined"
     ]
    }
   ],
   "source": [
    "property_type_test = pop_eval(['property_type_simple', 'room_type', 'bed_type', 'city_fsa'])"
   ]
  },
  {
   "cell_type": "code",
   "execution_count": 224,
   "metadata": {},
   "outputs": [
    {
     "data": {
      "text/html": [
       "<div>\n",
       "<style>\n",
       "    .dataframe thead tr:only-child th {\n",
       "        text-align: right;\n",
       "    }\n",
       "\n",
       "    .dataframe thead th {\n",
       "        text-align: left;\n",
       "    }\n",
       "\n",
       "    .dataframe tbody tr th {\n",
       "        vertical-align: top;\n",
       "    }\n",
       "</style>\n",
       "<table border=\"1\" class=\"dataframe\">\n",
       "  <thead>\n",
       "    <tr style=\"text-align: right;\">\n",
       "      <th></th>\n",
       "      <th>test</th>\n",
       "      <th>number of categories</th>\n",
       "      <th>rejected_null_hypothesis</th>\n",
       "    </tr>\n",
       "  </thead>\n",
       "  <tbody>\n",
       "    <tr>\n",
       "      <th>property_type_simple</th>\n",
       "      <td>Kruskal-Wallis</td>\n",
       "      <td>4.0</td>\n",
       "      <td>yes</td>\n",
       "    </tr>\n",
       "    <tr>\n",
       "      <th>room_type</th>\n",
       "      <td>Kruskal-Wallis</td>\n",
       "      <td>3.0</td>\n",
       "      <td>yes</td>\n",
       "    </tr>\n",
       "    <tr>\n",
       "      <th>bed_type</th>\n",
       "      <td>Kruskal-Wallis</td>\n",
       "      <td>5.0</td>\n",
       "      <td>yes</td>\n",
       "    </tr>\n",
       "    <tr>\n",
       "      <th>city_fsa</th>\n",
       "      <td>Kruskal-Wallis</td>\n",
       "      <td>9.0</td>\n",
       "      <td>yes</td>\n",
       "    </tr>\n",
       "  </tbody>\n",
       "</table>\n",
       "</div>"
      ],
      "text/plain": [
       "                                test  number of categories  \\\n",
       "property_type_simple  Kruskal-Wallis                   4.0   \n",
       "room_type             Kruskal-Wallis                   3.0   \n",
       "bed_type              Kruskal-Wallis                   5.0   \n",
       "city_fsa              Kruskal-Wallis                   9.0   \n",
       "\n",
       "                     rejected_null_hypothesis  \n",
       "property_type_simple                      yes  \n",
       "room_type                                 yes  \n",
       "bed_type                                  yes  \n",
       "city_fsa                                  yes  "
      ]
     },
     "execution_count": 224,
     "metadata": {},
     "output_type": "execute_result"
    }
   ],
   "source": [
    "property_type_test"
   ]
  },
  {
   "cell_type": "code",
   "execution_count": 225,
   "metadata": {},
   "outputs": [
    {
     "name": "stdout",
     "output_type": "stream",
     "text": [
      "Feature: cancellation_policy\n",
      "Categories: ['strict_14_with_grace_period', 'moderate', 'flexible', 'super_strict_30']\n",
      "Test: Kruskal-Wallis Test\n",
      "The test statistics is 679.9027904515203 and the p-value is 4.78394048145418e-147.\n",
      "Null hypothesis rejected. There is significant evidence the not all samples are from the same distribution.\n",
      "\n",
      "\n",
      "Feature: instant_bookable\n",
      "Categories: ['f', 't']\n",
      "Test: Mann Whitney U Test\n",
      "The test statistics is 45366984.5 and the p-value is 1.0586762305363768e-32.\n",
      "Null hypothesis rejected. There is significant evidence the not all samples are from the same distribution.\n",
      "\n",
      "\n",
      "Feature: is_business_travel_ready\n",
      "Categories: ['f']\n",
      "Only one category has count above the threshold of 20. No test was performed.\n",
      "The test statistics is 45366984.5 and the p-value is 1.0586762305363768e-32.\n"
     ]
    }
   ],
   "source": [
    "policy_test = pop_eval(['cancellation_policy','instant_bookable','is_business_travel_ready'])"
   ]
  },
  {
   "cell_type": "code",
   "execution_count": 226,
   "metadata": {},
   "outputs": [
    {
     "data": {
      "text/html": [
       "<div>\n",
       "<style>\n",
       "    .dataframe thead tr:only-child th {\n",
       "        text-align: right;\n",
       "    }\n",
       "\n",
       "    .dataframe thead th {\n",
       "        text-align: left;\n",
       "    }\n",
       "\n",
       "    .dataframe tbody tr th {\n",
       "        vertical-align: top;\n",
       "    }\n",
       "</style>\n",
       "<table border=\"1\" class=\"dataframe\">\n",
       "  <thead>\n",
       "    <tr style=\"text-align: right;\">\n",
       "      <th></th>\n",
       "      <th>test</th>\n",
       "      <th>number of categories</th>\n",
       "      <th>rejected_null_hypothesis</th>\n",
       "    </tr>\n",
       "  </thead>\n",
       "  <tbody>\n",
       "    <tr>\n",
       "      <th>cancellation_policy</th>\n",
       "      <td>Kruskal-Wallis</td>\n",
       "      <td>4.0</td>\n",
       "      <td>yes</td>\n",
       "    </tr>\n",
       "    <tr>\n",
       "      <th>instant_bookable</th>\n",
       "      <td>MannWhitneyU</td>\n",
       "      <td>2.0</td>\n",
       "      <td>yes</td>\n",
       "    </tr>\n",
       "    <tr>\n",
       "      <th>is_business_travel_ready</th>\n",
       "      <td>MannWhitneyU</td>\n",
       "      <td>1.0</td>\n",
       "      <td>NA</td>\n",
       "    </tr>\n",
       "  </tbody>\n",
       "</table>\n",
       "</div>"
      ],
      "text/plain": [
       "                                    test  number of categories  \\\n",
       "cancellation_policy       Kruskal-Wallis                   4.0   \n",
       "instant_bookable            MannWhitneyU                   2.0   \n",
       "is_business_travel_ready    MannWhitneyU                   1.0   \n",
       "\n",
       "                         rejected_null_hypothesis  \n",
       "cancellation_policy                           yes  \n",
       "instant_bookable                              yes  \n",
       "is_business_travel_ready                       NA  "
      ]
     },
     "execution_count": 226,
     "metadata": {},
     "output_type": "execute_result"
    }
   ],
   "source": [
    "policy_test"
   ]
  },
  {
   "cell_type": "code",
   "execution_count": 227,
   "metadata": {},
   "outputs": [
    {
     "name": "stdout",
     "output_type": "stream",
     "text": [
      "Feature: host_response_time\n",
      "Categories: ['within an hour', 'missing', 'within a few hours', 'within a day', 'a few days or more']\n",
      "Test: Kruskal-Wallis Test\n",
      "The test statistics is 33.137444988405015 and the p-value is 1.1195292157122366e-06.\n",
      "Null hypothesis rejected. There is significant evidence the not all samples are from the same distribution.\n",
      "\n",
      "\n",
      "Feature: host_is_superhost\n",
      "Categories: ['f', 't']\n",
      "Test: Mann Whitney U Test\n",
      "The test statistics is 37984977.0 and the p-value is 5.628342109330487e-14.\n",
      "Null hypothesis rejected. There is significant evidence the not all samples are from the same distribution.\n",
      "\n",
      "\n",
      "Feature: host_has_profile_pic\n",
      "Categories: ['t', 'f']\n",
      "Test: Mann Whitney U Test\n",
      "The test statistics is 449090.0 and the p-value is 0.014781090446104315.\n",
      "Null hypothesis rejected. There is significant evidence the not all samples are from the same distribution.\n",
      "\n",
      "\n",
      "Feature: host_identity_verified\n",
      "Categories: ['f', 't']\n",
      "Test: Mann Whitney U Test\n",
      "The test statistics is 47447783.0 and the p-value is 6.710963108063084e-05.\n",
      "Null hypothesis rejected. There is significant evidence the not all samples are from the same distribution.\n",
      "\n",
      "\n"
     ]
    }
   ],
   "source": [
    "host_test = pop_eval(['host_response_time', 'host_is_superhost', 'host_has_profile_pic', 'host_identity_verified'])"
   ]
  },
  {
   "cell_type": "code",
   "execution_count": 228,
   "metadata": {},
   "outputs": [
    {
     "data": {
      "text/html": [
       "<div>\n",
       "<style>\n",
       "    .dataframe thead tr:only-child th {\n",
       "        text-align: right;\n",
       "    }\n",
       "\n",
       "    .dataframe thead th {\n",
       "        text-align: left;\n",
       "    }\n",
       "\n",
       "    .dataframe tbody tr th {\n",
       "        vertical-align: top;\n",
       "    }\n",
       "</style>\n",
       "<table border=\"1\" class=\"dataframe\">\n",
       "  <thead>\n",
       "    <tr style=\"text-align: right;\">\n",
       "      <th></th>\n",
       "      <th>test</th>\n",
       "      <th>number of categories</th>\n",
       "      <th>rejected_null_hypothesis</th>\n",
       "    </tr>\n",
       "  </thead>\n",
       "  <tbody>\n",
       "    <tr>\n",
       "      <th>host_response_time</th>\n",
       "      <td>Kruskal-Wallis</td>\n",
       "      <td>5.0</td>\n",
       "      <td>yes</td>\n",
       "    </tr>\n",
       "    <tr>\n",
       "      <th>host_is_superhost</th>\n",
       "      <td>MannWhitneyU</td>\n",
       "      <td>2.0</td>\n",
       "      <td>yes</td>\n",
       "    </tr>\n",
       "    <tr>\n",
       "      <th>host_has_profile_pic</th>\n",
       "      <td>MannWhitneyU</td>\n",
       "      <td>2.0</td>\n",
       "      <td>yes</td>\n",
       "    </tr>\n",
       "    <tr>\n",
       "      <th>host_identity_verified</th>\n",
       "      <td>MannWhitneyU</td>\n",
       "      <td>2.0</td>\n",
       "      <td>yes</td>\n",
       "    </tr>\n",
       "  </tbody>\n",
       "</table>\n",
       "</div>"
      ],
      "text/plain": [
       "                                  test  number of categories  \\\n",
       "host_response_time      Kruskal-Wallis                   5.0   \n",
       "host_is_superhost         MannWhitneyU                   2.0   \n",
       "host_has_profile_pic      MannWhitneyU                   2.0   \n",
       "host_identity_verified    MannWhitneyU                   2.0   \n",
       "\n",
       "                       rejected_null_hypothesis  \n",
       "host_response_time                          yes  \n",
       "host_is_superhost                           yes  \n",
       "host_has_profile_pic                        yes  \n",
       "host_identity_verified                      yes  "
      ]
     },
     "execution_count": 228,
     "metadata": {},
     "output_type": "execute_result"
    }
   ],
   "source": [
    "host_test"
   ]
  },
  {
   "cell_type": "code",
   "execution_count": 229,
   "metadata": {
    "collapsed": true
   },
   "outputs": [],
   "source": [
    "amenities_list = list(amenities_set)\n",
    "lower = df.shape[0] * 0.1\n",
    "upper = df.shape[0] * 0.9\n",
    "filter_ = (df[amenities_list].sum() <=  upper) & (df[amenities_list].sum() >=  lower)\n",
    "amenities_test = df[amenities_list].sum()[filter_].index"
   ]
  },
  {
   "cell_type": "code",
   "execution_count": 230,
   "metadata": {},
   "outputs": [
    {
     "name": "stdout",
     "output_type": "stream",
     "text": [
      "Feature: elevator\n",
      "Categories: [0, 1]\n",
      "Test: Mann Whitney U Test\n",
      "The test statistics is 31144919.5 and the p-value is 0.0.\n",
      "Null hypothesis rejected. There is significant evidence the not all samples are from the same distribution.\n",
      "\n",
      "\n",
      "Feature: pets allowed\n",
      "Categories: [0, 1]\n",
      "Test: Mann Whitney U Test\n",
      "The test statistics is 18563799.0 and the p-value is 3.675148420293735e-55.\n",
      "Null hypothesis rejected. There is significant evidence the not all samples are from the same distribution.\n",
      "\n",
      "\n",
      "Feature: paid parking off premises\n",
      "Categories: [0, 1]\n",
      "Test: Mann Whitney U Test\n",
      "The test statistics is 32022566.5 and the p-value is 1.762907808201996e-49.\n",
      "Null hypothesis rejected. There is significant evidence the not all samples are from the same distribution.\n",
      "\n",
      "\n",
      "Feature: cable tv\n",
      "Categories: [0, 1]\n",
      "Test: Mann Whitney U Test\n",
      "The test statistics is 26288676.0 and the p-value is 2.876616590338625e-202.\n",
      "Null hypothesis rejected. There is significant evidence the not all samples are from the same distribution.\n",
      "\n",
      "\n",
      "Feature: cooking basics\n",
      "Categories: [0, 1]\n",
      "Test: Mann Whitney U Test\n",
      "The test statistics is 42692203.0 and the p-value is 1.829351602001655e-74.\n",
      "Null hypothesis rejected. There is significant evidence the not all samples are from the same distribution.\n",
      "\n",
      "\n",
      "Feature: dishes and silverware\n",
      "Categories: [0, 1]\n",
      "Test: Mann Whitney U Test\n",
      "The test statistics is 45190829.5 and the p-value is 1.5692836519616152e-49.\n",
      "Null hypothesis rejected. There is significant evidence the not all samples are from the same distribution.\n",
      "\n",
      "\n",
      "Feature: carbon monoxide detector\n",
      "Categories: [1, 0]\n",
      "Test: Mann Whitney U Test\n",
      "The test statistics is 31030792.5 and the p-value is 1.3493489397829004e-13.\n",
      "Null hypothesis rejected. There is significant evidence the not all samples are from the same distribution.\n",
      "\n",
      "\n",
      "Feature: lockbox\n",
      "Categories: [0, 1]\n",
      "Test: Mann Whitney U Test\n",
      "The test statistics is 24155100.0 and the p-value is 2.1826636090263813e-48.\n",
      "Null hypothesis rejected. There is significant evidence the not all samples are from the same distribution.\n",
      "\n",
      "\n",
      "Feature: private living room\n",
      "Categories: [0, 1]\n",
      "Test: Mann Whitney U Test\n",
      "The test statistics is 23014057.5 and the p-value is 0.3638523571382789.\n",
      "Null hypothesis NOT rejected. There is not significant evidence the samples are not from the same distribution.\n",
      "\n",
      "\n",
      "Feature: keypad\n",
      "Categories: [0, 1]\n",
      "Test: Mann Whitney U Test\n",
      "The test statistics is 17696601.0 and the p-value is 8.6602921811313e-12.\n",
      "Null hypothesis rejected. There is significant evidence the not all samples are from the same distribution.\n",
      "\n",
      "\n",
      "Feature: patio or balcony\n",
      "Categories: [0, 1]\n",
      "Test: Mann Whitney U Test\n",
      "The test statistics is 26972614.5 and the p-value is 1.0901766284593979e-150.\n",
      "Null hypothesis rejected. There is significant evidence the not all samples are from the same distribution.\n",
      "\n",
      "\n",
      "Feature: iron\n",
      "Categories: [1, 0]\n",
      "Test: Mann Whitney U Test\n",
      "The test statistics is 33452241.0 and the p-value is 4.955701313658638e-159.\n",
      "Null hypothesis rejected. There is significant evidence the not all samples are from the same distribution.\n",
      "\n",
      "\n",
      "Feature: hangers\n",
      "Categories: [1, 0]\n",
      "Test: Mann Whitney U Test\n",
      "The test statistics is 24840817.5 and the p-value is 9.978843360989988e-15.\n",
      "Null hypothesis rejected. There is significant evidence the not all samples are from the same distribution.\n",
      "\n",
      "\n",
      "Feature: garden or backyard\n",
      "Categories: [0, 1]\n",
      "Test: Mann Whitney U Test\n",
      "The test statistics is 21810428.5 and the p-value is 3.8675490378330207e-10.\n",
      "Null hypothesis rejected. There is significant evidence the not all samples are from the same distribution.\n",
      "\n",
      "\n",
      "Feature: long term stays allowed\n",
      "Categories: [0, 1]\n",
      "Test: Mann Whitney U Test\n",
      "The test statistics is 38517991.5 and the p-value is 1.1239147322369762e-65.\n",
      "Null hypothesis rejected. There is significant evidence the not all samples are from the same distribution.\n",
      "\n",
      "\n",
      "Feature: shampoo\n",
      "Categories: [1, 0]\n",
      "Test: Mann Whitney U Test\n",
      "The test statistics is 27128945.0 and the p-value is 1.909283946117802e-85.\n",
      "Null hypothesis rejected. There is significant evidence the not all samples are from the same distribution.\n",
      "\n",
      "\n",
      "Feature: laptop friendly workspace\n",
      "Categories: [1, 0]\n",
      "Test: Mann Whitney U Test\n",
      "The test statistics is 36210667.0 and the p-value is 3.2217915609711518e-18.\n",
      "Null hypothesis rejected. There is significant evidence the not all samples are from the same distribution.\n",
      "\n",
      "\n",
      "Feature: translation missing: en.hosting_amenity_49\n",
      "Categories: [0, 1]\n",
      "Test: Mann Whitney U Test\n",
      "The test statistics is 15173790.5 and the p-value is 3.743856908350618e-91.\n",
      "Null hypothesis rejected. There is significant evidence the not all samples are from the same distribution.\n",
      "\n",
      "\n",
      "Feature: host greets you\n",
      "Categories: [0, 1]\n",
      "Test: Mann Whitney U Test\n",
      "The test statistics is 25703109.0 and the p-value is 9.686068619571672e-13.\n",
      "Null hypothesis rejected. There is significant evidence the not all samples are from the same distribution.\n",
      "\n",
      "\n",
      "Feature: tv\n",
      "Categories: [1, 0]\n",
      "Test: Mann Whitney U Test\n",
      "The test statistics is 20638327.0 and the p-value is 0.0.\n",
      "Null hypothesis rejected. There is significant evidence the not all samples are from the same distribution.\n",
      "\n",
      "\n",
      "Feature: hot tub\n",
      "Categories: [0, 1]\n",
      "Test: Mann Whitney U Test\n",
      "The test statistics is 18497004.0 and the p-value is 5.6230549982773676e-167.\n",
      "Null hypothesis rejected. There is significant evidence the not all samples are from the same distribution.\n",
      "\n",
      "\n",
      "Feature: self check-in\n",
      "Categories: [0, 1]\n",
      "Test: Mann Whitney U Test\n",
      "The test statistics is 40983128.0 and the p-value is 1.5156747467885421e-65.\n",
      "Null hypothesis rejected. There is significant evidence the not all samples are from the same distribution.\n",
      "\n",
      "\n",
      "Feature: internet\n",
      "Categories: [0, 1]\n",
      "Test: Mann Whitney U Test\n",
      "The test statistics is 35616081.0 and the p-value is 4.84593137081303e-17.\n",
      "Null hypothesis rejected. There is significant evidence the not all samples are from the same distribution.\n",
      "\n",
      "\n",
      "Feature: lock on bedroom door\n",
      "Categories: [0, 1]\n",
      "Test: Mann Whitney U Test\n",
      "The test statistics is 26319231.0 and the p-value is 0.0.\n",
      "Null hypothesis rejected. There is significant evidence the not all samples are from the same distribution.\n",
      "\n",
      "\n",
      "Feature: dryer\n",
      "Categories: [1, 0]\n",
      "Test: Mann Whitney U Test\n",
      "The test statistics is 23687919.0 and the p-value is 5.138540901507874e-209.\n",
      "Null hypothesis rejected. There is significant evidence the not all samples are from the same distribution.\n",
      "\n",
      "\n",
      "Feature: air conditioning\n",
      "Categories: [1, 0]\n",
      "Test: Mann Whitney U Test\n",
      "The test statistics is 17613639.0 and the p-value is 5.976654050725502e-188.\n",
      "Null hypothesis rejected. There is significant evidence the not all samples are from the same distribution.\n",
      "\n",
      "\n",
      "Feature: extra pillows and blankets\n",
      "Categories: [0, 1]\n",
      "Test: Mann Whitney U Test\n",
      "The test statistics is 38961252.5 and the p-value is 1.3634933762871e-22.\n",
      "Null hypothesis rejected. There is significant evidence the not all samples are from the same distribution.\n",
      "\n",
      "\n",
      "Feature: free parking on premises\n",
      "Categories: [0, 1]\n",
      "Test: Mann Whitney U Test\n",
      "The test statistics is 47449937.5 and the p-value is 1.075874436800601e-14.\n",
      "Null hypothesis rejected. There is significant evidence the not all samples are from the same distribution.\n",
      "\n",
      "\n",
      "Feature: hot water\n",
      "Categories: [1, 0]\n",
      "Test: Mann Whitney U Test\n",
      "The test statistics is 49427173.0 and the p-value is 6.925183050933127e-05.\n",
      "Null hypothesis rejected. There is significant evidence the not all samples are from the same distribution.\n",
      "\n",
      "\n",
      "Feature: fire extinguisher\n",
      "Categories: [1, 0]\n",
      "Test: Mann Whitney U Test\n",
      "The test statistics is 50170844.0 and the p-value is 1.2340514234536983e-09.\n",
      "Null hypothesis rejected. There is significant evidence the not all samples are from the same distribution.\n",
      "\n",
      "\n",
      "Feature: bathtub\n",
      "Categories: [0, 1]\n",
      "Test: Mann Whitney U Test\n",
      "The test statistics is 15922074.5 and the p-value is 2.162480387132726e-111.\n",
      "Null hypothesis rejected. There is significant evidence the not all samples are from the same distribution.\n",
      "\n",
      "\n",
      "Feature: microwave\n",
      "Categories: [0, 1]\n",
      "Test: Mann Whitney U Test\n",
      "The test statistics is 46959170.0 and the p-value is 1.079289469822587e-25.\n",
      "Null hypothesis rejected. There is significant evidence the not all samples are from the same distribution.\n",
      "\n",
      "\n",
      "Feature: stove\n",
      "Categories: [0, 1]\n",
      "Test: Mann Whitney U Test\n",
      "The test statistics is 43895414.5 and the p-value is 4.120644257270243e-66.\n",
      "Null hypothesis rejected. There is significant evidence the not all samples are from the same distribution.\n",
      "\n",
      "\n"
     ]
    },
    {
     "name": "stdout",
     "output_type": "stream",
     "text": [
      "Feature: private entrance\n",
      "Categories: [0, 1]\n",
      "Test: Mann Whitney U Test\n",
      "The test statistics is 40638743.0 and the p-value is 4.477019637652956e-60.\n",
      "Null hypothesis rejected. There is significant evidence the not all samples are from the same distribution.\n",
      "\n",
      "\n",
      "Feature: pool\n",
      "Categories: [0, 1]\n",
      "Test: Mann Whitney U Test\n",
      "The test statistics is 21534418.0 and the p-value is 4.3473049191694894e-207.\n",
      "Null hypothesis rejected. There is significant evidence the not all samples are from the same distribution.\n",
      "\n",
      "\n",
      "Feature: safety card\n",
      "Categories: [0, 1]\n",
      "Test: Mann Whitney U Test\n",
      "The test statistics is 22006993.5 and the p-value is 7.129708059449049e-11.\n",
      "Null hypothesis rejected. There is significant evidence the not all samples are from the same distribution.\n",
      "\n",
      "\n",
      "Feature: coffee maker\n",
      "Categories: [0, 1]\n",
      "Test: Mann Whitney U Test\n",
      "The test statistics is 38468774.0 and the p-value is 2.524092063818572e-116.\n",
      "Null hypothesis rejected. There is significant evidence the not all samples are from the same distribution.\n",
      "\n",
      "\n",
      "Feature: oven\n",
      "Categories: [0, 1]\n",
      "Test: Mann Whitney U Test\n",
      "The test statistics is 41699104.0 and the p-value is 6.523907927712139e-97.\n",
      "Null hypothesis rejected. There is significant evidence the not all samples are from the same distribution.\n",
      "\n",
      "\n",
      "Feature: dishwasher\n",
      "Categories: [0, 1]\n",
      "Test: Mann Whitney U Test\n",
      "The test statistics is 26833343.0 and the p-value is 0.0.\n",
      "Null hypothesis rejected. There is significant evidence the not all samples are from the same distribution.\n",
      "\n",
      "\n",
      "Feature: paid parking on premises\n",
      "Categories: [0, 1]\n",
      "Test: Mann Whitney U Test\n",
      "The test statistics is 18478433.0 and the p-value is 4.051005214347735e-58.\n",
      "Null hypothesis rejected. There is significant evidence the not all samples are from the same distribution.\n",
      "\n",
      "\n",
      "Feature: washer\n",
      "Categories: [1, 0]\n",
      "Test: Mann Whitney U Test\n",
      "The test statistics is 23222747.5 and the p-value is 6.19342367203289e-176.\n",
      "Null hypothesis rejected. There is significant evidence the not all samples are from the same distribution.\n",
      "\n",
      "\n",
      "Feature: hair dryer\n",
      "Categories: [1, 0]\n",
      "Test: Mann Whitney U Test\n",
      "The test statistics is 31573710.0 and the p-value is 2.887120314522464e-136.\n",
      "Null hypothesis rejected. There is significant evidence the not all samples are from the same distribution.\n",
      "\n",
      "\n",
      "Feature: luggage dropoff allowed\n",
      "Categories: [0, 1]\n",
      "Test: Mann Whitney U Test\n",
      "The test statistics is 31983118.5 and the p-value is 0.15431484395805384.\n",
      "Null hypothesis NOT rejected. There is not significant evidence the samples are not from the same distribution.\n",
      "\n",
      "\n",
      "Feature: first aid kit\n",
      "Categories: [0, 1]\n",
      "Test: Mann Whitney U Test\n",
      "The test statistics is 49522177.5 and the p-value is 0.30622378752813295.\n",
      "Null hypothesis NOT rejected. There is not significant evidence the samples are not from the same distribution.\n",
      "\n",
      "\n",
      "Feature: translation missing: en.hosting_amenity_50\n",
      "Categories: [0, 1]\n",
      "Test: Mann Whitney U Test\n",
      "The test statistics is 19518339.0 and the p-value is 2.6727344550992418e-73.\n",
      "Null hypothesis rejected. There is significant evidence the not all samples are from the same distribution.\n",
      "\n",
      "\n",
      "Feature: family/kid friendly\n",
      "Categories: [0, 1]\n",
      "Test: Mann Whitney U Test\n",
      "The test statistics is 34220629.0 and the p-value is 7.211108882673506e-183.\n",
      "Null hypothesis rejected. There is significant evidence the not all samples are from the same distribution.\n",
      "\n",
      "\n",
      "Feature: bed linens\n",
      "Categories: [0, 1]\n",
      "Test: Mann Whitney U Test\n",
      "The test statistics is 46212164.0 and the p-value is 1.633003236445387e-17.\n",
      "Null hypothesis rejected. There is significant evidence the not all samples are from the same distribution.\n",
      "\n",
      "\n",
      "Feature: refrigerator\n",
      "Categories: [0, 1]\n",
      "Test: Mann Whitney U Test\n",
      "The test statistics is 47811584.5 and the p-value is 8.44955253951916e-27.\n",
      "Null hypothesis rejected. There is significant evidence the not all samples are from the same distribution.\n",
      "\n",
      "\n",
      "Feature: no stairs or steps to enter\n",
      "Categories: [0, 1]\n",
      "Test: Mann Whitney U Test\n",
      "The test statistics is 18483768.0 and the p-value is 1.4047555603880916e-22.\n",
      "Null hypothesis rejected. There is significant evidence the not all samples are from the same distribution.\n",
      "\n",
      "\n",
      "Feature: gym\n",
      "Categories: [0, 1]\n",
      "Test: Mann Whitney U Test\n",
      "The test statistics is 27360484.0 and the p-value is 0.0.\n",
      "Null hypothesis rejected. There is significant evidence the not all samples are from the same distribution.\n",
      "\n",
      "\n"
     ]
    }
   ],
   "source": [
    "amenities_test = pop_eval(amenities_test)"
   ]
  },
  {
   "cell_type": "code",
   "execution_count": 231,
   "metadata": {
    "collapsed": true
   },
   "outputs": [],
   "source": [
    "out_folder = '../data/interim/'\n",
    "property_type_test.append(policy_test).append(host_test).append(amenities_test).to_csv(out_folder + '/categorical_test.csv')"
   ]
  },
  {
   "cell_type": "code",
   "execution_count": null,
   "metadata": {
    "collapsed": true
   },
   "outputs": [],
   "source": []
  },
  {
   "cell_type": "code",
   "execution_count": null,
   "metadata": {
    "collapsed": true
   },
   "outputs": [],
   "source": []
  },
  {
   "cell_type": "markdown",
   "metadata": {},
   "source": [
    "# Data preprocessing prior to machine learning"
   ]
  },
  {
   "cell_type": "markdown",
   "metadata": {},
   "source": [
    "## Change binary variables datatype from string to numeric\n"
   ]
  },
  {
   "cell_type": "code",
   "execution_count": 232,
   "metadata": {
    "collapsed": true
   },
   "outputs": [],
   "source": [
    "for col in ['host_is_superhost','host_has_profile_pic','host_identity_verified','is_location_exact','has_availability',\n",
    "            'requires_license','instant_bookable','is_business_travel_ready','require_guest_profile_picture',\n",
    "            'require_guest_phone_verification']:\n",
    "    if df[col].nunique() == 2:\n",
    "        df[col] = df[col].map({'t':1,'f':0})"
   ]
  },
  {
   "cell_type": "code",
   "execution_count": 233,
   "metadata": {},
   "outputs": [
    {
     "name": "stdout",
     "output_type": "stream",
     "text": [
      "host_is_superhost --> 3\n",
      "host_has_profile_pic --> 3\n",
      "host_identity_verified --> 3\n",
      "is_location_exact --> 2\n",
      "has_availability --> 1\n",
      "requires_license --> 1\n",
      "instant_bookable --> 2\n",
      "is_business_travel_ready --> 1\n",
      "require_guest_profile_picture --> 2\n",
      "require_guest_phone_verification --> 2\n"
     ]
    }
   ],
   "source": [
    "for col in ['host_is_superhost','host_has_profile_pic','host_identity_verified','is_location_exact','has_availability',\n",
    "            'requires_license','instant_bookable','is_business_travel_ready','require_guest_profile_picture',\n",
    "            'require_guest_phone_verification']:\n",
    "    print(f'{col} --> {df[col].nunique()}')"
   ]
  },
  {
   "cell_type": "markdown",
   "metadata": {},
   "source": [
    "## Irrelevant Feature Removal "
   ]
  },
  {
   "cell_type": "markdown",
   "metadata": {},
   "source": [
    "**Excessive Missing Values**"
   ]
  },
  {
   "cell_type": "code",
   "execution_count": 234,
   "metadata": {
    "collapsed": true
   },
   "outputs": [],
   "source": [
    "features_to_remove = set()\n",
    "\n",
    "missing_features = list(df_missing.loc[df_missing['Missing Percentage'] > 50].index)\n",
    "features_to_remove.update(missing_features)"
   ]
  },
  {
   "cell_type": "code",
   "execution_count": 235,
   "metadata": {},
   "outputs": [
    {
     "name": "stdout",
     "output_type": "stream",
     "text": [
      "['notes', 'thumbnail_url', 'medium_url', 'xl_picture_url', 'host_acceptance_rate', 'neighbourhood_group_cleansed', 'square_feet', 'weekly_price', 'monthly_price', 'license', 'jurisdiction_names']\n"
     ]
    }
   ],
   "source": [
    "print(missing_features)"
   ]
  },
  {
   "cell_type": "markdown",
   "metadata": {},
   "source": [
    "**Text Features**"
   ]
  },
  {
   "cell_type": "code",
   "execution_count": 236,
   "metadata": {
    "collapsed": true
   },
   "outputs": [],
   "source": [
    "text_features = ['name','summary','space','description','neighborhood_overview','transit','access','interaction',\n",
    "                'house_rules','host_verifications']\n",
    "features_to_remove.update(text_features)"
   ]
  },
  {
   "cell_type": "markdown",
   "metadata": {},
   "source": [
    "**Webscraping Information**"
   ]
  },
  {
   "cell_type": "code",
   "execution_count": 237,
   "metadata": {
    "collapsed": true
   },
   "outputs": [],
   "source": [
    "webscrapping_features = ['id','scrape_id','last_scraped','calendar_last_scraped','calendar_updated']\n",
    "features_to_remove.update(webscrapping_features)"
   ]
  },
  {
   "cell_type": "markdown",
   "metadata": {},
   "source": [
    "**Airbnb listing information and host personal information**"
   ]
  },
  {
   "cell_type": "code",
   "execution_count": 238,
   "metadata": {
    "collapsed": true,
    "scrolled": true
   },
   "outputs": [],
   "source": [
    "listing_host_features = ['listing_url','thumbnail_url','medium_url','picture_url','xl_picture_url','host_id','host_url',\n",
    "                         'host_name','host_location','host_about','host_thumbnail_url','host_picture_url',\n",
    "                         'host_neighbourhood','host_total_listings_count']\n",
    "features_to_remove.update(listing_host_features)"
   ]
  },
  {
   "cell_type": "markdown",
   "metadata": {},
   "source": [
    "**Redundant information**"
   ]
  },
  {
   "cell_type": "code",
   "execution_count": 239,
   "metadata": {
    "collapsed": true
   },
   "outputs": [],
   "source": [
    "redundant_features = ['street','neighbourhood','neighbourhood_cleansed','neighbourhood_group_cleansed','city','state',\n",
    "                     'zipcode','market','smart_location','country_code','country','latitude','longitude','amenities',\n",
    "                      'first_review','last_review','host_since','fsa', 'property_type']\n",
    "features_to_remove.update(redundant_features)"
   ]
  },
  {
   "cell_type": "markdown",
   "metadata": {},
   "source": [
    "**Reference information**"
   ]
  },
  {
   "cell_type": "code",
   "execution_count": 240,
   "metadata": {
    "collapsed": true
   },
   "outputs": [],
   "source": [
    "reference_features = ['minimum_minimum_nights', 'maximum_minimum_nights', 'minimum_maximum_nights', 'maximum_maximum_nights',\n",
    "                     'minimum_nights_avg_ntm','maximum_nights_avg_ntm','calculated_host_listings_count', \n",
    "                      'calculated_host_listings_count_entire_homes','calculated_host_listings_count_private_rooms', \n",
    "                      'calculated_host_listings_count_shared_rooms']\n",
    "features_to_remove.update(reference_features)"
   ]
  },
  {
   "cell_type": "markdown",
   "metadata": {},
   "source": [
    "**Features with single value**"
   ]
  },
  {
   "cell_type": "code",
   "execution_count": 241,
   "metadata": {},
   "outputs": [
    {
     "name": "stdout",
     "output_type": "stream",
     "text": [
      "scrape_id\n",
      "experiences_offered\n",
      "country_code\n",
      "country\n",
      "has_availability\n",
      "requires_license\n",
      "license\n",
      "is_business_travel_ready\n"
     ]
    }
   ],
   "source": [
    "single_value_features = []\n",
    "\n",
    "for col in df.columns:\n",
    "    if df[col].nunique() == 1:\n",
    "        single_value_features.append(col)\n",
    "        print(col)\n",
    "features_to_remove.update(single_value_features)"
   ]
  },
  {
   "cell_type": "code",
   "execution_count": 242,
   "metadata": {
    "collapsed": true
   },
   "outputs": [],
   "source": [
    "df.drop(features_to_remove,axis =1, inplace = True)"
   ]
  },
  {
   "cell_type": "code",
   "execution_count": 243,
   "metadata": {},
   "outputs": [
    {
     "data": {
      "text/plain": [
       "(20544, 259)"
      ]
     },
     "execution_count": 243,
     "metadata": {},
     "output_type": "execute_result"
    }
   ],
   "source": [
    "df.shape"
   ]
  },
  {
   "cell_type": "markdown",
   "metadata": {},
   "source": [
    "## Create Dummy Variables"
   ]
  },
  {
   "cell_type": "markdown",
   "metadata": {},
   "source": [
    "We create dummy variables for all categorical features."
   ]
  },
  {
   "cell_type": "code",
   "execution_count": 244,
   "metadata": {
    "collapsed": true
   },
   "outputs": [],
   "source": [
    "df = pd.get_dummies(df, drop_first=False)"
   ]
  },
  {
   "cell_type": "code",
   "execution_count": 245,
   "metadata": {},
   "outputs": [
    {
     "data": {
      "text/plain": [
       "(20544, 290)"
      ]
     },
     "execution_count": 245,
     "metadata": {},
     "output_type": "execute_result"
    }
   ],
   "source": [
    "df.shape"
   ]
  },
  {
   "cell_type": "code",
   "execution_count": 246,
   "metadata": {
    "collapsed": true
   },
   "outputs": [],
   "source": [
    "to_folder = '../data/processed/'\n",
    "df.to_csv(to_folder + 'df_ml.csv', index=False)"
   ]
  },
  {
   "cell_type": "code",
   "execution_count": null,
   "metadata": {
    "collapsed": true
   },
   "outputs": [],
   "source": []
  },
  {
   "cell_type": "code",
   "execution_count": null,
   "metadata": {
    "collapsed": true
   },
   "outputs": [],
   "source": []
  },
  {
   "cell_type": "code",
   "execution_count": null,
   "metadata": {
    "collapsed": true
   },
   "outputs": [],
   "source": []
  },
  {
   "cell_type": "code",
   "execution_count": 248,
   "metadata": {
    "collapsed": true
   },
   "outputs": [],
   "source": [
    "read_file = '../data/processed/df_ml.csv'\n",
    "df2 = pd.read_csv(read_file)"
   ]
  },
  {
   "cell_type": "code",
   "execution_count": 249,
   "metadata": {},
   "outputs": [
    {
     "data": {
      "text/plain": [
       "(20544, 290)"
      ]
     },
     "execution_count": 249,
     "metadata": {},
     "output_type": "execute_result"
    }
   ],
   "source": []
  },
  {
   "cell_type": "code",
   "execution_count": null,
   "metadata": {
    "collapsed": true
   },
   "outputs": [],
   "source": []
  },
  {
   "cell_type": "code",
   "execution_count": null,
   "metadata": {
    "collapsed": true
   },
   "outputs": [],
   "source": []
  },
  {
   "cell_type": "code",
   "execution_count": null,
   "metadata": {
    "collapsed": true
   },
   "outputs": [],
   "source": []
  },
  {
   "cell_type": "code",
   "execution_count": null,
   "metadata": {
    "collapsed": true
   },
   "outputs": [],
   "source": []
  }
 ],
 "metadata": {
  "kernelspec": {
   "display_name": "Python 3",
   "language": "python",
   "name": "python3"
  },
  "language_info": {
   "codemirror_mode": {
    "name": "ipython",
    "version": 3
   },
   "file_extension": ".py",
   "mimetype": "text/x-python",
   "name": "python",
   "nbconvert_exporter": "python",
   "pygments_lexer": "ipython3",
   "version": "3.6.3"
  }
 },
 "nbformat": 4,
 "nbformat_minor": 2
}
