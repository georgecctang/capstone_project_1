{
 "cells": [
  {
   "cell_type": "markdown",
   "metadata": {},
   "source": [
    "# 1. Introduction"
   ]
  },
  {
   "cell_type": "markdown",
   "metadata": {},
   "source": [
    "The purpose of this section is to develop the necessary data processing steps to modify the dataset for subsequent data analysis. \n",
    "\n",
    "The data processing steps are developed with the following goals:\n",
    "- The columns are in the correct data type\n",
    "- The dataset does not contain outliers\n",
    "- The dataset should contain newly created features\n",
    "\n",
    "It is important to note that the focus of this section is to create a dataset for the next step which is data visualization.  \n",
    "\n",
    "As more insight is obtained, the dataset will be further modified."
   ]
  },
  {
   "cell_type": "markdown",
   "metadata": {},
   "source": [
    "# 2. Data Collection"
   ]
  },
  {
   "cell_type": "markdown",
   "metadata": {},
   "source": [
    "The data is collected from insideairbnb.com. It is an activist webiste that periodically scrap airbnb's database for listing information.\n",
    "\n",
    "The following file is downloaded and unzipped into the file 'listings.csv' for analysis:  \n",
    "http://data.insideairbnb.com/japan/kant%C5%8D/tokyo/2019-06-27/data/listings.csv.gz\n",
    "\n",
    "According to the information provided, the data is scraped on 2019/06/27."
   ]
  },
  {
   "cell_type": "markdown",
   "metadata": {},
   "source": [
    "The file *listings.csv* can be downloaded from: https://drive.google.com/open?id=17A535-0gvKU_Q2Fyw7H3T3UFiXbeKWAj"
   ]
  },
  {
   "cell_type": "markdown",
   "metadata": {},
   "source": [
    "# 3. Initial Dataset Exploration"
   ]
  },
  {
   "cell_type": "code",
   "execution_count": 1,
   "metadata": {
    "collapsed": true
   },
   "outputs": [],
   "source": [
    "# import required packages\n",
    "import numpy as np\n",
    "import pandas as pd\n",
    "import re\n",
    "import datetime\n",
    "pd.set_option('display.max_columns', 500)"
   ]
  },
  {
   "cell_type": "code",
   "execution_count": 3,
   "metadata": {},
   "outputs": [
    {
     "name": "stderr",
     "output_type": "stream",
     "text": [
      "C:\\Users\\georg\\Anaconda3\\lib\\site-packages\\IPython\\core\\interactiveshell.py:2698: DtypeWarning: Columns (61,62,95) have mixed types. Specify dtype option on import or set low_memory=False.\n",
      "  interactivity=interactivity, compiler=compiler, result=result)\n"
     ]
    }
   ],
   "source": [
    "df = pd.read_csv('data/listings.csv')"
   ]
  },
  {
   "cell_type": "markdown",
   "metadata": {},
   "source": [
    "The warning message indicates two columns (61,62) have mixed data types."
   ]
  },
  {
   "cell_type": "code",
   "execution_count": 2,
   "metadata": {},
   "outputs": [
    {
     "ename": "NameError",
     "evalue": "name 'df' is not defined",
     "output_type": "error",
     "traceback": [
      "\u001b[1;31m---------------------------------------------------------------------------\u001b[0m",
      "\u001b[1;31mNameError\u001b[0m                                 Traceback (most recent call last)",
      "\u001b[1;32m<ipython-input-2-f9a125abc7f0>\u001b[0m in \u001b[0;36m<module>\u001b[1;34m()\u001b[0m\n\u001b[1;32m----> 1\u001b[1;33m \u001b[0mdf\u001b[0m\u001b[1;33m.\u001b[0m\u001b[0mneighbourhood\u001b[0m\u001b[1;33m.\u001b[0m\u001b[0mvalue_counts\u001b[0m\u001b[1;33m(\u001b[0m\u001b[1;33m)\u001b[0m\u001b[1;33m\u001b[0m\u001b[0m\n\u001b[0m",
      "\u001b[1;31mNameError\u001b[0m: name 'df' is not defined"
     ]
    }
   ],
   "source": [
    "df.neighbourhood.value_counts()"
   ]
  },
  {
   "cell_type": "code",
   "execution_count": 5,
   "metadata": {},
   "outputs": [
    {
     "data": {
      "text/plain": [
       "140"
      ]
     },
     "execution_count": 5,
     "metadata": {},
     "output_type": "execute_result"
    }
   ],
   "source": [
    "df.neighbourhood_cleansed.nunique()"
   ]
  },
  {
   "cell_type": "code",
   "execution_count": 12,
   "metadata": {},
   "outputs": [
    {
     "data": {
      "text/plain": [
       "0"
      ]
     },
     "execution_count": 12,
     "metadata": {},
     "output_type": "execute_result"
    }
   ],
   "source": [
    "df.neighbourhood_cleansed.isnull().sum()"
   ]
  },
  {
   "cell_type": "code",
   "execution_count": 3,
   "metadata": {},
   "outputs": [
    {
     "data": {
      "text/html": [
       "<div>\n",
       "<style>\n",
       "    .dataframe thead tr:only-child th {\n",
       "        text-align: right;\n",
       "    }\n",
       "\n",
       "    .dataframe thead th {\n",
       "        text-align: left;\n",
       "    }\n",
       "\n",
       "    .dataframe tbody tr th {\n",
       "        vertical-align: top;\n",
       "    }\n",
       "</style>\n",
       "<table border=\"1\" class=\"dataframe\">\n",
       "  <thead>\n",
       "    <tr style=\"text-align: right;\">\n",
       "      <th></th>\n",
       "      <th>weekly_price</th>\n",
       "      <th>monthly_price</th>\n",
       "      <th>jurisdiction_names</th>\n",
       "    </tr>\n",
       "  </thead>\n",
       "  <tbody>\n",
       "    <tr>\n",
       "      <th>0</th>\n",
       "      <td>$2,000.00</td>\n",
       "      <td>NaN</td>\n",
       "      <td>NaN</td>\n",
       "    </tr>\n",
       "    <tr>\n",
       "      <th>1</th>\n",
       "      <td>NaN</td>\n",
       "      <td>$2,679.00</td>\n",
       "      <td>NaN</td>\n",
       "    </tr>\n",
       "    <tr>\n",
       "      <th>2</th>\n",
       "      <td>$397.00</td>\n",
       "      <td>$973.00</td>\n",
       "      <td>NaN</td>\n",
       "    </tr>\n",
       "    <tr>\n",
       "      <th>3</th>\n",
       "      <td>NaN</td>\n",
       "      <td>NaN</td>\n",
       "      <td>NaN</td>\n",
       "    </tr>\n",
       "    <tr>\n",
       "      <th>4</th>\n",
       "      <td>NaN</td>\n",
       "      <td>$4,766.00</td>\n",
       "      <td>NaN</td>\n",
       "    </tr>\n",
       "  </tbody>\n",
       "</table>\n",
       "</div>"
      ],
      "text/plain": [
       "  weekly_price monthly_price jurisdiction_names\n",
       "0    $2,000.00           NaN                NaN\n",
       "1          NaN     $2,679.00                NaN\n",
       "2      $397.00       $973.00                NaN\n",
       "3          NaN           NaN                NaN\n",
       "4          NaN     $4,766.00                NaN"
      ]
     },
     "execution_count": 3,
     "metadata": {},
     "output_type": "execute_result"
    }
   ],
   "source": [
    "#Inspect those columns\n",
    "df.iloc[:,[61,62,95]].head()"
   ]
  },
  {
   "cell_type": "markdown",
   "metadata": {},
   "source": [
    "It seems the mixed type is due to the dollar sign and NaN. This issue will be corrected in the data cleaning step."
   ]
  },
  {
   "cell_type": "markdown",
   "metadata": {},
   "source": [
    "First, explore the data set:"
   ]
  },
  {
   "cell_type": "code",
   "execution_count": 4,
   "metadata": {},
   "outputs": [
    {
     "data": {
      "text/plain": [
       "(20769, 106)"
      ]
     },
     "execution_count": 4,
     "metadata": {},
     "output_type": "execute_result"
    }
   ],
   "source": [
    "#Inspect number of rows and features\n",
    "df.shape"
   ]
  },
  {
   "cell_type": "markdown",
   "metadata": {},
   "source": [
    "There are 20,769 rows and and 106 features. Each row consists of a listing on airbnb in the Greater Toronto Area. "
   ]
  },
  {
   "cell_type": "markdown",
   "metadata": {},
   "source": [
    "The features can be divided into the following 6 subcategories:\n",
    "\n",
    "1. **Host information**: interaction, host_id, host_url, host_name, host_since, host_location, host_about, host_response_time, host_response_rate, host_acceptance_rate, host_is_superhost, host_thumbnail_url, host_picture_url, host_neighbourhood, host_listings_count, host_total_listings_count, host_verifications, host_has_profile_pic, host_identity_verified\n",
    "2. **Property information**: name, summary, space, description, neighborhood_overview, notes, transit, access, street, neighbourhood, neighbourhood_cleansed, neighbourhood_group_cleansed, city, state, zipcode, market, smart_location, country_code, country, latitude, longitude, is_location_exact, property_type, room_type, accommodates, bathrooms, bedrooms, beds, bed_type, amenities,square_feet,jurisdiction_names, requires_license, license\n",
    "3. **Booking information and policy**: experiences_offered, house_rules, price, weekly_price, monthly_price,security_deposit, cleaning_fee, guests_included, extra_people, minimum_nights, maximum_nights, minimum_minimum_nights, maximum_minimum_nights, minimum_maximum_nights, maximum_maximum_nights, minimum_nights_avg_ntm, maximum_nights_avg_ntm, calendar_updated,  has_availability, availability_30, availability_60, availability_90, availability_365, calendar_last_scraped, is_business_travel_ready, cancellation_policy, require_guest_profile_picture, require_guest_phone_verification, calculated_host_listings_count, calculated_host_listings_count_entire_homes, calculated_host_listings_count_private_rooms, calculated_host_listings_count_shared_rooms, instant_bookable\n",
    "4. **Airbnb listing information**: id, listing_url, thumbnail_url, medium_url, picture_url, xl_picture_url \n",
    "5. **Reviews**: number_of_reviews, number_of_reviews_ltm, first_review, last_review, review_scores_rating, review_scores_accuracy, review_scores_cleanliness, review_scores_checkin, review_scores_communication, review_scores_location, review_scores_value, reviews_per_month\n",
    "6. **Web scraping information**: scrape_id, last_scraped\n",
    "\n",
    "    "
   ]
  },
  {
   "cell_type": "markdown",
   "metadata": {},
   "source": [
    "It is likely that not all features will be used for data analysis. Nonetheless, all features are kept for now. Given the moderate size (14066 rows x 106 features) of this dataset, keeping all the columns should not significantly impact memory and computational speed.  \n",
    "\n",
    "Irrelevant features will be removed at the last step of the data cleaning process. \n",
    "Note that the dataset may need further processing for statistical analysis and machine learning. "
   ]
  },
  {
   "cell_type": "markdown",
   "metadata": {},
   "source": [
    "# 4. Data Cleaning"
   ]
  },
  {
   "cell_type": "markdown",
   "metadata": {},
   "source": [
    "## 4.1 Features with Excessive Missing Values Removal "
   ]
  },
  {
   "cell_type": "markdown",
   "metadata": {},
   "source": [
    "First, create a list of missing values for each row in the dataset."
   ]
  },
  {
   "cell_type": "code",
   "execution_count": null,
   "metadata": {
    "collapsed": true
   },
   "outputs": [],
   "source": []
  },
  {
   "cell_type": "code",
   "execution_count": null,
   "metadata": {
    "collapsed": true
   },
   "outputs": [],
   "source": []
  },
  {
   "cell_type": "markdown",
   "metadata": {},
   "source": [
    "Features with excessive number of missing values are considered unuseful for data analysis, and is therefore removed.  \n",
    "For this analysis, a threshold of 50% is set; i.e., features with 50% or greater of the values missing will be removed.   "
   ]
  },
  {
   "cell_type": "code",
   "execution_count": 5,
   "metadata": {
    "scrolled": true
   },
   "outputs": [
    {
     "name": "stdout",
     "output_type": "stream",
     "text": [
      "Index(['notes', 'thumbnail_url', 'medium_url', 'xl_picture_url',\n",
      "       'host_acceptance_rate', 'neighbourhood_group_cleansed', 'square_feet',\n",
      "       'weekly_price', 'monthly_price', 'license', 'jurisdiction_names'],\n",
      "      dtype='object')\n"
     ]
    }
   ],
   "source": [
    "threshold = 0.5\n",
    "remove_columns_NA = df.columns[df.isnull().sum()/df.shape[0] > threshold]\n",
    "print(remove_columns_NA)"
   ]
  },
  {
   "cell_type": "code",
   "execution_count": 6,
   "metadata": {},
   "outputs": [
    {
     "data": {
      "text/plain": [
       "(20769, 95)"
      ]
     },
     "execution_count": 6,
     "metadata": {},
     "output_type": "execute_result"
    }
   ],
   "source": [
    "df.drop(remove_columns_NA,axis=1,inplace=True)\n",
    "df.shape"
   ]
  },
  {
   "cell_type": "code",
   "execution_count": 7,
   "metadata": {
    "collapsed": true
   },
   "outputs": [],
   "source": [
    "#Keep record of removed columns\n",
    "removed_columns_record = []\n",
    "removed_columns_record.append(remove_columns_NA)"
   ]
  },
  {
   "cell_type": "markdown",
   "metadata": {},
   "source": [
    "After this step, 95 features remain."
   ]
  },
  {
   "cell_type": "markdown",
   "metadata": {},
   "source": [
    "## 4.2 Data Type Correction"
   ]
  },
  {
   "cell_type": "markdown",
   "metadata": {},
   "source": [
    "The purpose of this section is to ensure the data types of each columns are correct. The focus will be on numeric and categorical data types.  \n",
    "\n",
    "A few columns are boolean, but the values are stored as string type, with values of 't' or 'f'. For this part they are considered as categorical because that way they will be easier to manipuate in data visualization."
   ]
  },
  {
   "cell_type": "markdown",
   "metadata": {},
   "source": [
    "### 4.2.1 Change column data type to boolean "
   ]
  },
  {
   "cell_type": "code",
   "execution_count": 8,
   "metadata": {
    "collapsed": true
   },
   "outputs": [],
   "source": [
    "# col_to_boolean = ['host_is_superhost','host_has_profile_pic','host_identity_verified','is_location_exact','has_availability',\n",
    "#                   'requires_license','instant_bookable','is_business_travel_ready','require_guest_profile_picture',\n",
    "#                   'require_guest_phone_verification']"
   ]
  },
  {
   "cell_type": "code",
   "execution_count": 9,
   "metadata": {
    "collapsed": true
   },
   "outputs": [],
   "source": [
    "# # Change data type to boolean and add new column for NA values\n",
    "# d = {'f':False, 't':True}\n",
    "# for col in col_to_boolean:\n",
    "#     # add new column if needed\n",
    "#     if df[col].isnull().sum() > 0:\n",
    "#         df[col+'_NA'] = np.where(df[col].isnull(),True,False)\n",
    "#         m = df[col].mode().iloc[0]\n",
    "#         df[col] = df[col].fillna(m).map(d).astype('bool')\n",
    "#     else:\n",
    "#         df[col]=df[col].map(d).astype('bool')"
   ]
  },
  {
   "cell_type": "code",
   "execution_count": 10,
   "metadata": {
    "scrolled": true
   },
   "outputs": [
    {
     "data": {
      "text/plain": [
       "(20769, 95)"
      ]
     },
     "execution_count": 10,
     "metadata": {},
     "output_type": "execute_result"
    }
   ],
   "source": [
    "df.shape"
   ]
  },
  {
   "cell_type": "markdown",
   "metadata": {},
   "source": [
    "### 4.2.2 Change column data type to numeric"
   ]
  },
  {
   "cell_type": "markdown",
   "metadata": {},
   "source": [
    "A few numeric columns are in string format. It is necessary to convert them to numeric for data analysis."
   ]
  },
  {
   "cell_type": "code",
   "execution_count": 11,
   "metadata": {
    "collapsed": true
   },
   "outputs": [],
   "source": [
    "col_to_numeric = ['price','security_deposit','cleaning_fee','extra_people']"
   ]
  },
  {
   "cell_type": "code",
   "execution_count": 12,
   "metadata": {
    "collapsed": true
   },
   "outputs": [],
   "source": [
    "for col in col_to_numeric:\n",
    "    df[col] = df[col].str.replace('$','').str.replace(',','').astype(float)"
   ]
  },
  {
   "cell_type": "code",
   "execution_count": 13,
   "metadata": {
    "collapsed": true
   },
   "outputs": [],
   "source": [
    "df.host_response_rate = df.host_response_rate.str.replace('%','').astype(float)/100"
   ]
  },
  {
   "cell_type": "markdown",
   "metadata": {},
   "source": [
    "### 4.2.3 Change column data type to datetime"
   ]
  },
  {
   "cell_type": "markdown",
   "metadata": {},
   "source": [
    "A few columns consist of datatime information, but are stored as string. It is necessary to convert them to datetime data type."
   ]
  },
  {
   "cell_type": "code",
   "execution_count": 14,
   "metadata": {
    "collapsed": true
   },
   "outputs": [],
   "source": [
    "col_to_datetime = ['last_scraped','host_since','calendar_last_scraped','first_review','last_review']"
   ]
  },
  {
   "cell_type": "code",
   "execution_count": 15,
   "metadata": {
    "collapsed": true
   },
   "outputs": [],
   "source": [
    "for col in col_to_datetime:\n",
    "    df[col] = pd.to_datetime(df[col])"
   ]
  },
  {
   "cell_type": "markdown",
   "metadata": {},
   "source": [
    "### 4.2.4 Change column data type to category"
   ]
  },
  {
   "cell_type": "markdown",
   "metadata": {},
   "source": [
    "Some columns are categorical but are stored as string. It is necessary to convert them to categorial data type."
   ]
  },
  {
   "cell_type": "code",
   "execution_count": 16,
   "metadata": {
    "collapsed": true
   },
   "outputs": [],
   "source": [
    "col_to_cat = ['host_response_time','property_type','room_type','bed_type','cancellation_policy']\n",
    "\n",
    "#boolean data types; convert to category\n",
    "col_to_cat2 = ['host_is_superhost','host_has_profile_pic','host_identity_verified','is_location_exact','has_availability',\n",
    "                  'requires_license','instant_bookable','is_business_travel_ready','require_guest_profile_picture',\n",
    "                  'require_guest_phone_verification']"
   ]
  },
  {
   "cell_type": "code",
   "execution_count": 17,
   "metadata": {
    "collapsed": true
   },
   "outputs": [],
   "source": [
    "for col in col_to_cat:\n",
    "    df[col] = df[col].astype('category')\n",
    "for col in col_to_cat2:\n",
    "    df[col]=df[col].astype(\"category\")"
   ]
  },
  {
   "cell_type": "markdown",
   "metadata": {},
   "source": [
    "## 4.3 Extreme Values Identification"
   ]
  },
  {
   "cell_type": "markdown",
   "metadata": {},
   "source": [
    "It is important to ensure the data is accurate, and the presence of outliers is an indicator of inaccuarcy. In this section, outliers are identified and investigated. "
   ]
  },
  {
   "cell_type": "code",
   "execution_count": 18,
   "metadata": {
    "collapsed": true
   },
   "outputs": [],
   "source": [
    "numeric_features = [col for col in df.columns if df[col].dtype in ['int64','float64']]"
   ]
  },
  {
   "cell_type": "code",
   "execution_count": 19,
   "metadata": {
    "scrolled": true
   },
   "outputs": [
    {
     "name": "stdout",
     "output_type": "stream",
     "text": [
      "['id', 'scrape_id', 'host_id', 'host_response_rate', 'host_listings_count', 'host_total_listings_count', 'latitude', 'longitude', 'accommodates', 'bathrooms', 'bedrooms', 'beds', 'price', 'security_deposit', 'cleaning_fee', 'guests_included', 'extra_people', 'minimum_nights', 'maximum_nights', 'minimum_minimum_nights', 'maximum_minimum_nights', 'minimum_maximum_nights', 'maximum_maximum_nights', 'minimum_nights_avg_ntm', 'maximum_nights_avg_ntm', 'availability_30', 'availability_60', 'availability_90', 'availability_365', 'number_of_reviews', 'number_of_reviews_ltm', 'review_scores_rating', 'review_scores_accuracy', 'review_scores_cleanliness', 'review_scores_checkin', 'review_scores_communication', 'review_scores_location', 'review_scores_value', 'calculated_host_listings_count', 'calculated_host_listings_count_entire_homes', 'calculated_host_listings_count_private_rooms', 'calculated_host_listings_count_shared_rooms', 'reviews_per_month']\n"
     ]
    }
   ],
   "source": [
    "print(numeric_features)"
   ]
  },
  {
   "cell_type": "markdown",
   "metadata": {},
   "source": [
    "The statistics of the data are inspected with the _describe_ method. Only data likely to be relevant to data analysis will be reviewed."
   ]
  },
  {
   "cell_type": "markdown",
   "metadata": {},
   "source": [
    "### 4.3.1 Nightly prices and fees"
   ]
  },
  {
   "cell_type": "code",
   "execution_count": 20,
   "metadata": {},
   "outputs": [
    {
     "data": {
      "text/html": [
       "<div>\n",
       "<style>\n",
       "    .dataframe thead tr:only-child th {\n",
       "        text-align: right;\n",
       "    }\n",
       "\n",
       "    .dataframe thead th {\n",
       "        text-align: left;\n",
       "    }\n",
       "\n",
       "    .dataframe tbody tr th {\n",
       "        vertical-align: top;\n",
       "    }\n",
       "</style>\n",
       "<table border=\"1\" class=\"dataframe\">\n",
       "  <thead>\n",
       "    <tr style=\"text-align: right;\">\n",
       "      <th></th>\n",
       "      <th>price</th>\n",
       "      <th>security_deposit</th>\n",
       "      <th>cleaning_fee</th>\n",
       "      <th>extra_people</th>\n",
       "    </tr>\n",
       "  </thead>\n",
       "  <tbody>\n",
       "    <tr>\n",
       "      <th>count</th>\n",
       "      <td>20769.000000</td>\n",
       "      <td>15867.000000</td>\n",
       "      <td>17385.000000</td>\n",
       "      <td>20769.000000</td>\n",
       "    </tr>\n",
       "    <tr>\n",
       "      <th>mean</th>\n",
       "      <td>143.288074</td>\n",
       "      <td>327.501859</td>\n",
       "      <td>60.276445</td>\n",
       "      <td>14.162694</td>\n",
       "    </tr>\n",
       "    <tr>\n",
       "      <th>std</th>\n",
       "      <td>234.157135</td>\n",
       "      <td>452.885745</td>\n",
       "      <td>49.732881</td>\n",
       "      <td>23.543072</td>\n",
       "    </tr>\n",
       "    <tr>\n",
       "      <th>min</th>\n",
       "      <td>0.000000</td>\n",
       "      <td>0.000000</td>\n",
       "      <td>0.000000</td>\n",
       "      <td>0.000000</td>\n",
       "    </tr>\n",
       "    <tr>\n",
       "      <th>25%</th>\n",
       "      <td>64.000000</td>\n",
       "      <td>130.000000</td>\n",
       "      <td>25.000000</td>\n",
       "      <td>0.000000</td>\n",
       "    </tr>\n",
       "    <tr>\n",
       "      <th>50%</th>\n",
       "      <td>101.000000</td>\n",
       "      <td>250.000000</td>\n",
       "      <td>50.000000</td>\n",
       "      <td>8.000000</td>\n",
       "    </tr>\n",
       "    <tr>\n",
       "      <th>75%</th>\n",
       "      <td>160.000000</td>\n",
       "      <td>500.000000</td>\n",
       "      <td>80.000000</td>\n",
       "      <td>20.000000</td>\n",
       "    </tr>\n",
       "    <tr>\n",
       "      <th>max</th>\n",
       "      <td>13422.000000</td>\n",
       "      <td>6711.000000</td>\n",
       "      <td>962.000000</td>\n",
       "      <td>403.000000</td>\n",
       "    </tr>\n",
       "  </tbody>\n",
       "</table>\n",
       "</div>"
      ],
      "text/plain": [
       "              price  security_deposit  cleaning_fee  extra_people\n",
       "count  20769.000000      15867.000000  17385.000000  20769.000000\n",
       "mean     143.288074        327.501859     60.276445     14.162694\n",
       "std      234.157135        452.885745     49.732881     23.543072\n",
       "min        0.000000          0.000000      0.000000      0.000000\n",
       "25%       64.000000        130.000000     25.000000      0.000000\n",
       "50%      101.000000        250.000000     50.000000      8.000000\n",
       "75%      160.000000        500.000000     80.000000     20.000000\n",
       "max    13422.000000       6711.000000    962.000000    403.000000"
      ]
     },
     "execution_count": 20,
     "metadata": {},
     "output_type": "execute_result"
    }
   ],
   "source": [
    "df.loc[:,['price', 'security_deposit', 'cleaning_fee', 'extra_people']].describe()"
   ]
  },
  {
   "cell_type": "markdown",
   "metadata": {},
   "source": [
    "It can be seen that the maximum nightly price is \\$13,422 which is very high. To ensure accuracy, listings with price over \\$5,000 is further investigated."
   ]
  },
  {
   "cell_type": "code",
   "execution_count": 21,
   "metadata": {},
   "outputs": [
    {
     "data": {
      "text/html": [
       "<div>\n",
       "<style>\n",
       "    .dataframe thead tr:only-child th {\n",
       "        text-align: right;\n",
       "    }\n",
       "\n",
       "    .dataframe thead th {\n",
       "        text-align: left;\n",
       "    }\n",
       "\n",
       "    .dataframe tbody tr th {\n",
       "        vertical-align: top;\n",
       "    }\n",
       "</style>\n",
       "<table border=\"1\" class=\"dataframe\">\n",
       "  <thead>\n",
       "    <tr style=\"text-align: right;\">\n",
       "      <th></th>\n",
       "      <th>id</th>\n",
       "      <th>listing_url</th>\n",
       "      <th>name</th>\n",
       "      <th>price</th>\n",
       "    </tr>\n",
       "  </thead>\n",
       "  <tbody>\n",
       "    <tr>\n",
       "      <th>6263</th>\n",
       "      <td>16039481</td>\n",
       "      <td>https://www.airbnb.com/rooms/16039481</td>\n",
       "      <td>Art Collector's Penthouse</td>\n",
       "      <td>13422.0</td>\n",
       "    </tr>\n",
       "    <tr>\n",
       "      <th>6854</th>\n",
       "      <td>17330866</td>\n",
       "      <td>https://www.airbnb.com/rooms/17330866</td>\n",
       "      <td>Toronto's Bloor West Village - High Park - B</td>\n",
       "      <td>5900.0</td>\n",
       "    </tr>\n",
       "    <tr>\n",
       "      <th>8974</th>\n",
       "      <td>20653172</td>\n",
       "      <td>https://www.airbnb.com/rooms/20653172</td>\n",
       "      <td>Modern Upscale Condo in downtown Toronto</td>\n",
       "      <td>13000.0</td>\n",
       "    </tr>\n",
       "    <tr>\n",
       "      <th>19221</th>\n",
       "      <td>33983450</td>\n",
       "      <td>https://www.airbnb.com/rooms/33983450</td>\n",
       "      <td>Executive family home near Casa Loma and ravines.</td>\n",
       "      <td>7500.0</td>\n",
       "    </tr>\n",
       "    <tr>\n",
       "      <th>19783</th>\n",
       "      <td>34470470</td>\n",
       "      <td>https://www.airbnb.com/rooms/34470470</td>\n",
       "      <td>NEW! Executive 1 BR+Den Condo in Heart of Down...</td>\n",
       "      <td>9999.0</td>\n",
       "    </tr>\n",
       "    <tr>\n",
       "      <th>19787</th>\n",
       "      <td>34471108</td>\n",
       "      <td>https://www.airbnb.com/rooms/34471108</td>\n",
       "      <td>1BR + 3 Queen BED. Sleeps 6 Condo in MapleLeaf...</td>\n",
       "      <td>9999.0</td>\n",
       "    </tr>\n",
       "  </tbody>\n",
       "</table>\n",
       "</div>"
      ],
      "text/plain": [
       "             id                            listing_url  \\\n",
       "6263   16039481  https://www.airbnb.com/rooms/16039481   \n",
       "6854   17330866  https://www.airbnb.com/rooms/17330866   \n",
       "8974   20653172  https://www.airbnb.com/rooms/20653172   \n",
       "19221  33983450  https://www.airbnb.com/rooms/33983450   \n",
       "19783  34470470  https://www.airbnb.com/rooms/34470470   \n",
       "19787  34471108  https://www.airbnb.com/rooms/34471108   \n",
       "\n",
       "                                                    name    price  \n",
       "6263                           Art Collector's Penthouse  13422.0  \n",
       "6854        Toronto's Bloor West Village - High Park - B   5900.0  \n",
       "8974            Modern Upscale Condo in downtown Toronto  13000.0  \n",
       "19221  Executive family home near Casa Loma and ravines.   7500.0  \n",
       "19783  NEW! Executive 1 BR+Den Condo in Heart of Down...   9999.0  \n",
       "19787  1BR + 3 Queen BED. Sleeps 6 Condo in MapleLeaf...   9999.0  "
      ]
     },
     "execution_count": 21,
     "metadata": {},
     "output_type": "execute_result"
    }
   ],
   "source": [
    "df.loc[df.price > 5000.00,['id','listing_url','name','price']]"
   ]
  },
  {
   "cell_type": "markdown",
   "metadata": {},
   "source": [
    "The URLs of the six listings are investigated, with the prices recorded below."
   ]
  },
  {
   "cell_type": "code",
   "execution_count": 22,
   "metadata": {},
   "outputs": [
    {
     "data": {
      "text/html": [
       "<div>\n",
       "<style>\n",
       "    .dataframe thead tr:only-child th {\n",
       "        text-align: right;\n",
       "    }\n",
       "\n",
       "    .dataframe thead th {\n",
       "        text-align: left;\n",
       "    }\n",
       "\n",
       "    .dataframe tbody tr th {\n",
       "        vertical-align: top;\n",
       "    }\n",
       "</style>\n",
       "<table border=\"1\" class=\"dataframe\">\n",
       "  <thead>\n",
       "    <tr style=\"text-align: right;\">\n",
       "      <th></th>\n",
       "      <th>id</th>\n",
       "      <th>listing_url</th>\n",
       "      <th>name</th>\n",
       "      <th>price</th>\n",
       "      <th>actual_price</th>\n",
       "    </tr>\n",
       "  </thead>\n",
       "  <tbody>\n",
       "    <tr>\n",
       "      <th>6263</th>\n",
       "      <td>16039481</td>\n",
       "      <td>https://www.airbnb.com/rooms/16039481</td>\n",
       "      <td>Art Collector's Penthouse</td>\n",
       "      <td>13422.0</td>\n",
       "      <td>13078</td>\n",
       "    </tr>\n",
       "    <tr>\n",
       "      <th>6854</th>\n",
       "      <td>17330866</td>\n",
       "      <td>https://www.airbnb.com/rooms/17330866</td>\n",
       "      <td>Toronto's Bloor West Village - High Park - B</td>\n",
       "      <td>5900.0</td>\n",
       "      <td>78</td>\n",
       "    </tr>\n",
       "    <tr>\n",
       "      <th>8974</th>\n",
       "      <td>20653172</td>\n",
       "      <td>https://www.airbnb.com/rooms/20653172</td>\n",
       "      <td>Modern Upscale Condo in downtown Toronto</td>\n",
       "      <td>13000.0</td>\n",
       "      <td>13000</td>\n",
       "    </tr>\n",
       "    <tr>\n",
       "      <th>19221</th>\n",
       "      <td>33983450</td>\n",
       "      <td>https://www.airbnb.com/rooms/33983450</td>\n",
       "      <td>Executive family home near Casa Loma and ravines.</td>\n",
       "      <td>7500.0</td>\n",
       "      <td>7500</td>\n",
       "    </tr>\n",
       "    <tr>\n",
       "      <th>19783</th>\n",
       "      <td>34470470</td>\n",
       "      <td>https://www.airbnb.com/rooms/34470470</td>\n",
       "      <td>NEW! Executive 1 BR+Den Condo in Heart of Down...</td>\n",
       "      <td>9999.0</td>\n",
       "      <td>174</td>\n",
       "    </tr>\n",
       "    <tr>\n",
       "      <th>19787</th>\n",
       "      <td>34471108</td>\n",
       "      <td>https://www.airbnb.com/rooms/34471108</td>\n",
       "      <td>1BR + 3 Queen BED. Sleeps 6 Condo in MapleLeaf...</td>\n",
       "      <td>9999.0</td>\n",
       "      <td>224</td>\n",
       "    </tr>\n",
       "  </tbody>\n",
       "</table>\n",
       "</div>"
      ],
      "text/plain": [
       "             id                            listing_url  \\\n",
       "6263   16039481  https://www.airbnb.com/rooms/16039481   \n",
       "6854   17330866  https://www.airbnb.com/rooms/17330866   \n",
       "8974   20653172  https://www.airbnb.com/rooms/20653172   \n",
       "19221  33983450  https://www.airbnb.com/rooms/33983450   \n",
       "19783  34470470  https://www.airbnb.com/rooms/34470470   \n",
       "19787  34471108  https://www.airbnb.com/rooms/34471108   \n",
       "\n",
       "                                                    name    price  \\\n",
       "6263                           Art Collector's Penthouse  13422.0   \n",
       "6854        Toronto's Bloor West Village - High Park - B   5900.0   \n",
       "8974            Modern Upscale Condo in downtown Toronto  13000.0   \n",
       "19221  Executive family home near Casa Loma and ravines.   7500.0   \n",
       "19783  NEW! Executive 1 BR+Den Condo in Heart of Down...   9999.0   \n",
       "19787  1BR + 3 Queen BED. Sleeps 6 Condo in MapleLeaf...   9999.0   \n",
       "\n",
       "       actual_price  \n",
       "6263          13078  \n",
       "6854             78  \n",
       "8974          13000  \n",
       "19221          7500  \n",
       "19783           174  \n",
       "19787           224  "
      ]
     },
     "execution_count": 22,
     "metadata": {},
     "output_type": "execute_result"
    }
   ],
   "source": [
    "actual_price = [13078,78,13000,7500,174,224]\n",
    "df_high_price = df.loc[df.price > 5000.00,['id','listing_url','name','price']]\n",
    "df_high_price['actual_price'] = actual_price\n",
    "df_high_price"
   ]
  },
  {
   "cell_type": "markdown",
   "metadata": {},
   "source": [
    "For listing id 17330866, 34470470, and 34471108, there is a huge discrepancy between the listed price and the actual price found on the web. As such the three rows are removed."
   ]
  },
  {
   "cell_type": "code",
   "execution_count": 23,
   "metadata": {
    "collapsed": true
   },
   "outputs": [],
   "source": [
    "# drop by index\n",
    "\n",
    "### Don't drop in this section\n",
    "\n",
    "# for idx in (6854,19783,19787):\n",
    "#     df.drop(idx,inplace=True)"
   ]
  },
  {
   "cell_type": "code",
   "execution_count": 24,
   "metadata": {
    "collapsed": true
   },
   "outputs": [],
   "source": [
    "# Keep record of dropped columns\n",
    "\n",
    "### Don't drop in this section\n",
    "\n",
    "# removed_indexes_record = []\n",
    "# removed_indexes_record.append([6854,19783,19787])"
   ]
  },
  {
   "cell_type": "markdown",
   "metadata": {},
   "source": [
    "The security deposit shows a wide range, from \\$0 up to \\$6,711. It is an option available for the hosts to protect their properties, with the amount chosen by the host. Note that it is not the amount the customers need to pay upfront, but rather the max amount the host can claim in case of a dispute.\n",
    "\n",
    "The cleaning fee shows a wide range, from \\$0 up to \\$403. It is a one-time charge for every booking.  \n",
    "\n",
    "The range of charge for additional guest (extra_people) is between \\$0 and \\$403. It is the charge applied for extra guests.  \n",
    "\n",
    "Since those values are decided by the host, they are not outliers."
   ]
  },
  {
   "cell_type": "markdown",
   "metadata": {},
   "source": [
    "### 4.3.2 Host Information"
   ]
  },
  {
   "cell_type": "code",
   "execution_count": 25,
   "metadata": {},
   "outputs": [
    {
     "data": {
      "text/html": [
       "<div>\n",
       "<style>\n",
       "    .dataframe thead tr:only-child th {\n",
       "        text-align: right;\n",
       "    }\n",
       "\n",
       "    .dataframe thead th {\n",
       "        text-align: left;\n",
       "    }\n",
       "\n",
       "    .dataframe tbody tr th {\n",
       "        vertical-align: top;\n",
       "    }\n",
       "</style>\n",
       "<table border=\"1\" class=\"dataframe\">\n",
       "  <thead>\n",
       "    <tr style=\"text-align: right;\">\n",
       "      <th></th>\n",
       "      <th>host_listings_count</th>\n",
       "      <th>host_total_listings_count</th>\n",
       "      <th>host_response_rate</th>\n",
       "    </tr>\n",
       "  </thead>\n",
       "  <tbody>\n",
       "    <tr>\n",
       "      <th>count</th>\n",
       "      <td>20764.000000</td>\n",
       "      <td>20764.000000</td>\n",
       "      <td>15785.000000</td>\n",
       "    </tr>\n",
       "    <tr>\n",
       "      <th>mean</th>\n",
       "      <td>5.613225</td>\n",
       "      <td>5.613225</td>\n",
       "      <td>0.948670</td>\n",
       "    </tr>\n",
       "    <tr>\n",
       "      <th>std</th>\n",
       "      <td>12.654742</td>\n",
       "      <td>12.654742</td>\n",
       "      <td>0.152756</td>\n",
       "    </tr>\n",
       "    <tr>\n",
       "      <th>min</th>\n",
       "      <td>0.000000</td>\n",
       "      <td>0.000000</td>\n",
       "      <td>0.000000</td>\n",
       "    </tr>\n",
       "    <tr>\n",
       "      <th>25%</th>\n",
       "      <td>1.000000</td>\n",
       "      <td>1.000000</td>\n",
       "      <td>1.000000</td>\n",
       "    </tr>\n",
       "    <tr>\n",
       "      <th>50%</th>\n",
       "      <td>2.000000</td>\n",
       "      <td>2.000000</td>\n",
       "      <td>1.000000</td>\n",
       "    </tr>\n",
       "    <tr>\n",
       "      <th>75%</th>\n",
       "      <td>4.000000</td>\n",
       "      <td>4.000000</td>\n",
       "      <td>1.000000</td>\n",
       "    </tr>\n",
       "    <tr>\n",
       "      <th>max</th>\n",
       "      <td>179.000000</td>\n",
       "      <td>179.000000</td>\n",
       "      <td>1.000000</td>\n",
       "    </tr>\n",
       "  </tbody>\n",
       "</table>\n",
       "</div>"
      ],
      "text/plain": [
       "       host_listings_count  host_total_listings_count  host_response_rate\n",
       "count         20764.000000               20764.000000        15785.000000\n",
       "mean              5.613225                   5.613225            0.948670\n",
       "std              12.654742                  12.654742            0.152756\n",
       "min               0.000000                   0.000000            0.000000\n",
       "25%               1.000000                   1.000000            1.000000\n",
       "50%               2.000000                   2.000000            1.000000\n",
       "75%               4.000000                   4.000000            1.000000\n",
       "max             179.000000                 179.000000            1.000000"
      ]
     },
     "execution_count": 25,
     "metadata": {},
     "output_type": "execute_result"
    }
   ],
   "source": [
    "df.loc[:,['host_listings_count', 'host_total_listings_count','host_response_rate']].describe()"
   ]
  },
  {
   "cell_type": "markdown",
   "metadata": {},
   "source": [
    "The minimum host listings count is 0, which is counter-intuitive because the minimum count should be 1 for having a listing. The definition of this feature need to be explored.  \n",
    "\n",
    "Also, it is suspected the two columns 'host_listings_count' and 'host_total_listings_count' are identical. If identical, the latter column will be dropped."
   ]
  },
  {
   "cell_type": "code",
   "execution_count": 26,
   "metadata": {
    "collapsed": true
   },
   "outputs": [],
   "source": [
    "### Don't drop here\n",
    "\n",
    "\n",
    "# if df.host_listings_count.equals(df.host_total_listings_count) == True:\n",
    "#     print('The 2nd column is dropped because they are identical.')\n",
    "#     df=df.drop('host_total_listings_count',axis=1)"
   ]
  },
  {
   "cell_type": "code",
   "execution_count": 27,
   "metadata": {
    "collapsed": true
   },
   "outputs": [],
   "source": [
    "#keep record of removed columns\n",
    "removed_columns_record.append(['host_total_listings_count'])"
   ]
  },
  {
   "cell_type": "markdown",
   "metadata": {},
   "source": [
    "### 4.3.3 Geographical locations"
   ]
  },
  {
   "cell_type": "code",
   "execution_count": 28,
   "metadata": {},
   "outputs": [
    {
     "data": {
      "text/html": [
       "<div>\n",
       "<style>\n",
       "    .dataframe thead tr:only-child th {\n",
       "        text-align: right;\n",
       "    }\n",
       "\n",
       "    .dataframe thead th {\n",
       "        text-align: left;\n",
       "    }\n",
       "\n",
       "    .dataframe tbody tr th {\n",
       "        vertical-align: top;\n",
       "    }\n",
       "</style>\n",
       "<table border=\"1\" class=\"dataframe\">\n",
       "  <thead>\n",
       "    <tr style=\"text-align: right;\">\n",
       "      <th></th>\n",
       "      <th>latitude</th>\n",
       "      <th>longitude</th>\n",
       "    </tr>\n",
       "  </thead>\n",
       "  <tbody>\n",
       "    <tr>\n",
       "      <th>count</th>\n",
       "      <td>20769.000000</td>\n",
       "      <td>20769.000000</td>\n",
       "    </tr>\n",
       "    <tr>\n",
       "      <th>mean</th>\n",
       "      <td>43.679969</td>\n",
       "      <td>-79.397500</td>\n",
       "    </tr>\n",
       "    <tr>\n",
       "      <th>std</th>\n",
       "      <td>0.048124</td>\n",
       "      <td>0.061759</td>\n",
       "    </tr>\n",
       "    <tr>\n",
       "      <th>min</th>\n",
       "      <td>43.586710</td>\n",
       "      <td>-79.623460</td>\n",
       "    </tr>\n",
       "    <tr>\n",
       "      <th>25%</th>\n",
       "      <td>43.644970</td>\n",
       "      <td>-79.424420</td>\n",
       "    </tr>\n",
       "    <tr>\n",
       "      <th>50%</th>\n",
       "      <td>43.662320</td>\n",
       "      <td>-79.397420</td>\n",
       "    </tr>\n",
       "    <tr>\n",
       "      <th>75%</th>\n",
       "      <td>43.696420</td>\n",
       "      <td>-79.377970</td>\n",
       "    </tr>\n",
       "    <tr>\n",
       "      <th>max</th>\n",
       "      <td>43.831710</td>\n",
       "      <td>-79.123400</td>\n",
       "    </tr>\n",
       "  </tbody>\n",
       "</table>\n",
       "</div>"
      ],
      "text/plain": [
       "           latitude     longitude\n",
       "count  20769.000000  20769.000000\n",
       "mean      43.679969    -79.397500\n",
       "std        0.048124      0.061759\n",
       "min       43.586710    -79.623460\n",
       "25%       43.644970    -79.424420\n",
       "50%       43.662320    -79.397420\n",
       "75%       43.696420    -79.377970\n",
       "max       43.831710    -79.123400"
      ]
     },
     "execution_count": 28,
     "metadata": {},
     "output_type": "execute_result"
    }
   ],
   "source": [
    "df.loc[:,['latitude', 'longitude']].describe()"
   ]
  },
  {
   "cell_type": "markdown",
   "metadata": {},
   "source": [
    "The latitude and longitude values seem legit."
   ]
  },
  {
   "cell_type": "markdown",
   "metadata": {},
   "source": [
    "### 4.3.4 Property information"
   ]
  },
  {
   "cell_type": "code",
   "execution_count": 29,
   "metadata": {},
   "outputs": [
    {
     "data": {
      "text/html": [
       "<div>\n",
       "<style>\n",
       "    .dataframe thead tr:only-child th {\n",
       "        text-align: right;\n",
       "    }\n",
       "\n",
       "    .dataframe thead th {\n",
       "        text-align: left;\n",
       "    }\n",
       "\n",
       "    .dataframe tbody tr th {\n",
       "        vertical-align: top;\n",
       "    }\n",
       "</style>\n",
       "<table border=\"1\" class=\"dataframe\">\n",
       "  <thead>\n",
       "    <tr style=\"text-align: right;\">\n",
       "      <th></th>\n",
       "      <th>accommodates</th>\n",
       "      <th>bathrooms</th>\n",
       "      <th>bedrooms</th>\n",
       "      <th>beds</th>\n",
       "    </tr>\n",
       "  </thead>\n",
       "  <tbody>\n",
       "    <tr>\n",
       "      <th>count</th>\n",
       "      <td>20769.000000</td>\n",
       "      <td>20754.000000</td>\n",
       "      <td>20761.000000</td>\n",
       "      <td>20746.000000</td>\n",
       "    </tr>\n",
       "    <tr>\n",
       "      <th>mean</th>\n",
       "      <td>3.145794</td>\n",
       "      <td>1.251903</td>\n",
       "      <td>1.324888</td>\n",
       "      <td>1.689723</td>\n",
       "    </tr>\n",
       "    <tr>\n",
       "      <th>std</th>\n",
       "      <td>2.034403</td>\n",
       "      <td>0.566285</td>\n",
       "      <td>0.877014</td>\n",
       "      <td>1.119165</td>\n",
       "    </tr>\n",
       "    <tr>\n",
       "      <th>min</th>\n",
       "      <td>1.000000</td>\n",
       "      <td>0.000000</td>\n",
       "      <td>0.000000</td>\n",
       "      <td>0.000000</td>\n",
       "    </tr>\n",
       "    <tr>\n",
       "      <th>25%</th>\n",
       "      <td>2.000000</td>\n",
       "      <td>1.000000</td>\n",
       "      <td>1.000000</td>\n",
       "      <td>1.000000</td>\n",
       "    </tr>\n",
       "    <tr>\n",
       "      <th>50%</th>\n",
       "      <td>2.000000</td>\n",
       "      <td>1.000000</td>\n",
       "      <td>1.000000</td>\n",
       "      <td>1.000000</td>\n",
       "    </tr>\n",
       "    <tr>\n",
       "      <th>75%</th>\n",
       "      <td>4.000000</td>\n",
       "      <td>1.000000</td>\n",
       "      <td>2.000000</td>\n",
       "      <td>2.000000</td>\n",
       "    </tr>\n",
       "    <tr>\n",
       "      <th>max</th>\n",
       "      <td>16.000000</td>\n",
       "      <td>10.000000</td>\n",
       "      <td>15.000000</td>\n",
       "      <td>17.000000</td>\n",
       "    </tr>\n",
       "  </tbody>\n",
       "</table>\n",
       "</div>"
      ],
      "text/plain": [
       "       accommodates     bathrooms      bedrooms          beds\n",
       "count  20769.000000  20754.000000  20761.000000  20746.000000\n",
       "mean       3.145794      1.251903      1.324888      1.689723\n",
       "std        2.034403      0.566285      0.877014      1.119165\n",
       "min        1.000000      0.000000      0.000000      0.000000\n",
       "25%        2.000000      1.000000      1.000000      1.000000\n",
       "50%        2.000000      1.000000      1.000000      1.000000\n",
       "75%        4.000000      1.000000      2.000000      2.000000\n",
       "max       16.000000     10.000000     15.000000     17.000000"
      ]
     },
     "execution_count": 29,
     "metadata": {},
     "output_type": "execute_result"
    }
   ],
   "source": [
    "df.loc[:,['accommodates', 'bathrooms', 'bedrooms', 'beds']].describe()"
   ]
  },
  {
   "cell_type": "markdown",
   "metadata": {},
   "source": [
    "The data shows that the number of bathrooms, bedrooms and beds are highly right skewed. To explore these outliers:"
   ]
  },
  {
   "cell_type": "code",
   "execution_count": 30,
   "metadata": {},
   "outputs": [
    {
     "data": {
      "text/plain": [
       "60"
      ]
     },
     "execution_count": 30,
     "metadata": {},
     "output_type": "execute_result"
    }
   ],
   "source": [
    "df.loc[df.accommodates == 16].shape[0]"
   ]
  },
  {
   "cell_type": "markdown",
   "metadata": {},
   "source": [
    "It turns out there are 60 properties that can accommodate up to 16 people. So it is not that unusual."
   ]
  },
  {
   "cell_type": "code",
   "execution_count": 31,
   "metadata": {
    "scrolled": true
   },
   "outputs": [
    {
     "data": {
      "text/html": [
       "<div>\n",
       "<style>\n",
       "    .dataframe thead tr:only-child th {\n",
       "        text-align: right;\n",
       "    }\n",
       "\n",
       "    .dataframe thead th {\n",
       "        text-align: left;\n",
       "    }\n",
       "\n",
       "    .dataframe tbody tr th {\n",
       "        vertical-align: top;\n",
       "    }\n",
       "</style>\n",
       "<table border=\"1\" class=\"dataframe\">\n",
       "  <thead>\n",
       "    <tr style=\"text-align: right;\">\n",
       "      <th></th>\n",
       "      <th>listing_url</th>\n",
       "      <th>name</th>\n",
       "      <th>accommodates</th>\n",
       "      <th>bathrooms</th>\n",
       "      <th>bedrooms</th>\n",
       "      <th>beds</th>\n",
       "      <th>price</th>\n",
       "    </tr>\n",
       "  </thead>\n",
       "  <tbody>\n",
       "    <tr>\n",
       "      <th>20422</th>\n",
       "      <td>https://www.airbnb.com/rooms/35063046</td>\n",
       "      <td>Modern Comfy in Downtown Toronto</td>\n",
       "      <td>12</td>\n",
       "      <td>10.0</td>\n",
       "      <td>12.0</td>\n",
       "      <td>12.0</td>\n",
       "      <td>75.0</td>\n",
       "    </tr>\n",
       "  </tbody>\n",
       "</table>\n",
       "</div>"
      ],
      "text/plain": [
       "                                 listing_url  \\\n",
       "20422  https://www.airbnb.com/rooms/35063046   \n",
       "\n",
       "                                   name  accommodates  bathrooms  bedrooms  \\\n",
       "20422  Modern Comfy in Downtown Toronto            12       10.0      12.0   \n",
       "\n",
       "       beds  price  \n",
       "20422  12.0   75.0  "
      ]
     },
     "execution_count": 31,
     "metadata": {},
     "output_type": "execute_result"
    }
   ],
   "source": [
    "df.loc[df.bathrooms == 10, ['listing_url','name','accommodates','bathrooms','bedrooms','beds','price']]"
   ]
  },
  {
   "cell_type": "code",
   "execution_count": 32,
   "metadata": {},
   "outputs": [
    {
     "data": {
      "text/html": [
       "<div>\n",
       "<style>\n",
       "    .dataframe thead tr:only-child th {\n",
       "        text-align: right;\n",
       "    }\n",
       "\n",
       "    .dataframe thead th {\n",
       "        text-align: left;\n",
       "    }\n",
       "\n",
       "    .dataframe tbody tr th {\n",
       "        vertical-align: top;\n",
       "    }\n",
       "</style>\n",
       "<table border=\"1\" class=\"dataframe\">\n",
       "  <thead>\n",
       "    <tr style=\"text-align: right;\">\n",
       "      <th></th>\n",
       "      <th>listing_url</th>\n",
       "      <th>name</th>\n",
       "      <th>bathrooms</th>\n",
       "      <th>bedrooms</th>\n",
       "      <th>beds</th>\n",
       "      <th>price</th>\n",
       "    </tr>\n",
       "  </thead>\n",
       "  <tbody>\n",
       "    <tr>\n",
       "      <th>16391</th>\n",
       "      <td>https://www.airbnb.com/rooms/30796225</td>\n",
       "      <td>4 LOFTS- 6000 SQ FT-2-15 bedrooms, 8 bathrooms</td>\n",
       "      <td>8.0</td>\n",
       "      <td>15.0</td>\n",
       "      <td>15.0</td>\n",
       "      <td>1000.0</td>\n",
       "    </tr>\n",
       "  </tbody>\n",
       "</table>\n",
       "</div>"
      ],
      "text/plain": [
       "                                 listing_url  \\\n",
       "16391  https://www.airbnb.com/rooms/30796225   \n",
       "\n",
       "                                                 name  bathrooms  bedrooms  \\\n",
       "16391  4 LOFTS- 6000 SQ FT-2-15 bedrooms, 8 bathrooms        8.0      15.0   \n",
       "\n",
       "       beds   price  \n",
       "16391  15.0  1000.0  "
      ]
     },
     "execution_count": 32,
     "metadata": {},
     "output_type": "execute_result"
    }
   ],
   "source": [
    "df.loc[df.bedrooms == 15, ['listing_url','name','bathrooms','bedrooms','beds','price']]"
   ]
  },
  {
   "cell_type": "code",
   "execution_count": 33,
   "metadata": {},
   "outputs": [
    {
     "data": {
      "text/html": [
       "<div>\n",
       "<style>\n",
       "    .dataframe thead tr:only-child th {\n",
       "        text-align: right;\n",
       "    }\n",
       "\n",
       "    .dataframe thead th {\n",
       "        text-align: left;\n",
       "    }\n",
       "\n",
       "    .dataframe tbody tr th {\n",
       "        vertical-align: top;\n",
       "    }\n",
       "</style>\n",
       "<table border=\"1\" class=\"dataframe\">\n",
       "  <thead>\n",
       "    <tr style=\"text-align: right;\">\n",
       "      <th></th>\n",
       "      <th>listing_url</th>\n",
       "      <th>name</th>\n",
       "      <th>bathrooms</th>\n",
       "      <th>bedrooms</th>\n",
       "      <th>beds</th>\n",
       "      <th>price</th>\n",
       "    </tr>\n",
       "  </thead>\n",
       "  <tbody>\n",
       "    <tr>\n",
       "      <th>16058</th>\n",
       "      <td>https://www.airbnb.com/rooms/30366574</td>\n",
       "      <td>Spacious 13 bedroom House for Large Group &amp; Ev...</td>\n",
       "      <td>6.0</td>\n",
       "      <td>13.0</td>\n",
       "      <td>17.0</td>\n",
       "      <td>999.0</td>\n",
       "    </tr>\n",
       "    <tr>\n",
       "      <th>17704</th>\n",
       "      <td>https://www.airbnb.com/rooms/32394735</td>\n",
       "      <td>Spacious 13 bedroom House for Large Group &amp; Ev...</td>\n",
       "      <td>6.0</td>\n",
       "      <td>13.0</td>\n",
       "      <td>17.0</td>\n",
       "      <td>999.0</td>\n",
       "    </tr>\n",
       "  </tbody>\n",
       "</table>\n",
       "</div>"
      ],
      "text/plain": [
       "                                 listing_url  \\\n",
       "16058  https://www.airbnb.com/rooms/30366574   \n",
       "17704  https://www.airbnb.com/rooms/32394735   \n",
       "\n",
       "                                                    name  bathrooms  bedrooms  \\\n",
       "16058  Spacious 13 bedroom House for Large Group & Ev...        6.0      13.0   \n",
       "17704  Spacious 13 bedroom House for Large Group & Ev...        6.0      13.0   \n",
       "\n",
       "       beds  price  \n",
       "16058  17.0  999.0  \n",
       "17704  17.0  999.0  "
      ]
     },
     "execution_count": 33,
     "metadata": {},
     "output_type": "execute_result"
    }
   ],
   "source": [
    "df.loc[df.beds == 17, ['listing_url','name','bathrooms','bedrooms','beds','price']]"
   ]
  },
  {
   "cell_type": "markdown",
   "metadata": {},
   "source": [
    "The numbers are verified by inspecting the listing websites."
   ]
  },
  {
   "cell_type": "markdown",
   "metadata": {},
   "source": [
    "### 4.3.5 Booking Policy"
   ]
  },
  {
   "cell_type": "code",
   "execution_count": 34,
   "metadata": {},
   "outputs": [
    {
     "data": {
      "text/html": [
       "<div>\n",
       "<style>\n",
       "    .dataframe thead tr:only-child th {\n",
       "        text-align: right;\n",
       "    }\n",
       "\n",
       "    .dataframe thead th {\n",
       "        text-align: left;\n",
       "    }\n",
       "\n",
       "    .dataframe tbody tr th {\n",
       "        vertical-align: top;\n",
       "    }\n",
       "</style>\n",
       "<table border=\"1\" class=\"dataframe\">\n",
       "  <thead>\n",
       "    <tr style=\"text-align: right;\">\n",
       "      <th></th>\n",
       "      <th>guests_included</th>\n",
       "      <th>minimum_nights</th>\n",
       "    </tr>\n",
       "  </thead>\n",
       "  <tbody>\n",
       "    <tr>\n",
       "      <th>count</th>\n",
       "      <td>20769.000000</td>\n",
       "      <td>20769.000000</td>\n",
       "    </tr>\n",
       "    <tr>\n",
       "      <th>mean</th>\n",
       "      <td>1.698397</td>\n",
       "      <td>6.293033</td>\n",
       "    </tr>\n",
       "    <tr>\n",
       "      <th>std</th>\n",
       "      <td>1.380143</td>\n",
       "      <td>29.357247</td>\n",
       "    </tr>\n",
       "    <tr>\n",
       "      <th>min</th>\n",
       "      <td>1.000000</td>\n",
       "      <td>1.000000</td>\n",
       "    </tr>\n",
       "    <tr>\n",
       "      <th>25%</th>\n",
       "      <td>1.000000</td>\n",
       "      <td>1.000000</td>\n",
       "    </tr>\n",
       "    <tr>\n",
       "      <th>50%</th>\n",
       "      <td>1.000000</td>\n",
       "      <td>2.000000</td>\n",
       "    </tr>\n",
       "    <tr>\n",
       "      <th>75%</th>\n",
       "      <td>2.000000</td>\n",
       "      <td>3.000000</td>\n",
       "    </tr>\n",
       "    <tr>\n",
       "      <th>max</th>\n",
       "      <td>16.000000</td>\n",
       "      <td>1125.000000</td>\n",
       "    </tr>\n",
       "  </tbody>\n",
       "</table>\n",
       "</div>"
      ],
      "text/plain": [
       "       guests_included  minimum_nights\n",
       "count     20769.000000    20769.000000\n",
       "mean          1.698397        6.293033\n",
       "std           1.380143       29.357247\n",
       "min           1.000000        1.000000\n",
       "25%           1.000000        1.000000\n",
       "50%           1.000000        2.000000\n",
       "75%           2.000000        3.000000\n",
       "max          16.000000     1125.000000"
      ]
     },
     "execution_count": 34,
     "metadata": {},
     "output_type": "execute_result"
    }
   ],
   "source": [
    "df.loc[:,['guests_included', 'minimum_nights']].describe()"
   ]
  },
  {
   "cell_type": "markdown",
   "metadata": {},
   "source": [
    "The minimum stay of 1125 seems unreasonable. The listing url is visited to investigate further. "
   ]
  },
  {
   "cell_type": "code",
   "execution_count": 35,
   "metadata": {},
   "outputs": [
    {
     "data": {
      "text/html": [
       "<div>\n",
       "<style>\n",
       "    .dataframe thead tr:only-child th {\n",
       "        text-align: right;\n",
       "    }\n",
       "\n",
       "    .dataframe thead th {\n",
       "        text-align: left;\n",
       "    }\n",
       "\n",
       "    .dataframe tbody tr th {\n",
       "        vertical-align: top;\n",
       "    }\n",
       "</style>\n",
       "<table border=\"1\" class=\"dataframe\">\n",
       "  <thead>\n",
       "    <tr style=\"text-align: right;\">\n",
       "      <th></th>\n",
       "      <th>id</th>\n",
       "      <th>listing_url</th>\n",
       "      <th>name</th>\n",
       "      <th>price</th>\n",
       "      <th>minimum_nights</th>\n",
       "    </tr>\n",
       "  </thead>\n",
       "  <tbody>\n",
       "    <tr>\n",
       "      <th>2815</th>\n",
       "      <td>8001458</td>\n",
       "      <td>https://www.airbnb.com/rooms/8001458</td>\n",
       "      <td>Clean private ensuite with parking</td>\n",
       "      <td>75.0</td>\n",
       "      <td>1125</td>\n",
       "    </tr>\n",
       "    <tr>\n",
       "      <th>4994</th>\n",
       "      <td>13883417</td>\n",
       "      <td>https://www.airbnb.com/rooms/13883417</td>\n",
       "      <td>Bright, modern condo in hip King West downtown</td>\n",
       "      <td>101.0</td>\n",
       "      <td>1125</td>\n",
       "    </tr>\n",
       "  </tbody>\n",
       "</table>\n",
       "</div>"
      ],
      "text/plain": [
       "            id                            listing_url  \\\n",
       "2815   8001458   https://www.airbnb.com/rooms/8001458   \n",
       "4994  13883417  https://www.airbnb.com/rooms/13883417   \n",
       "\n",
       "                                                name  price  minimum_nights  \n",
       "2815              Clean private ensuite with parking   75.0            1125  \n",
       "4994  Bright, modern condo in hip King West downtown  101.0            1125  "
      ]
     },
     "execution_count": 35,
     "metadata": {},
     "output_type": "execute_result"
    }
   ],
   "source": [
    "df.loc[df.minimum_nights==1125,['id','listing_url','name','price','minimum_nights']]"
   ]
  },
  {
   "cell_type": "markdown",
   "metadata": {},
   "source": [
    "There are 2 listings with this minimum nights of stay. In the first listing (id# 8001458), the minimum nights of stay is listed as 1125, while no information is provided in the second listing.  \n",
    "\n",
    "It is likely that the host is relocated for prolonged period, so they require this unusually long stay.  They are believed to be neither outliers nor data inaccuracy."
   ]
  },
  {
   "cell_type": "markdown",
   "metadata": {},
   "source": [
    "### 4.3.6 Availability"
   ]
  },
  {
   "cell_type": "code",
   "execution_count": 36,
   "metadata": {},
   "outputs": [
    {
     "data": {
      "text/html": [
       "<div>\n",
       "<style>\n",
       "    .dataframe thead tr:only-child th {\n",
       "        text-align: right;\n",
       "    }\n",
       "\n",
       "    .dataframe thead th {\n",
       "        text-align: left;\n",
       "    }\n",
       "\n",
       "    .dataframe tbody tr th {\n",
       "        vertical-align: top;\n",
       "    }\n",
       "</style>\n",
       "<table border=\"1\" class=\"dataframe\">\n",
       "  <thead>\n",
       "    <tr style=\"text-align: right;\">\n",
       "      <th></th>\n",
       "      <th>availability_30</th>\n",
       "      <th>availability_60</th>\n",
       "      <th>availability_90</th>\n",
       "      <th>availability_365</th>\n",
       "    </tr>\n",
       "  </thead>\n",
       "  <tbody>\n",
       "    <tr>\n",
       "      <th>count</th>\n",
       "      <td>20769.000000</td>\n",
       "      <td>20769.000000</td>\n",
       "      <td>20769.000000</td>\n",
       "      <td>20769.000000</td>\n",
       "    </tr>\n",
       "    <tr>\n",
       "      <th>mean</th>\n",
       "      <td>8.250710</td>\n",
       "      <td>19.985074</td>\n",
       "      <td>33.809861</td>\n",
       "      <td>120.708797</td>\n",
       "    </tr>\n",
       "    <tr>\n",
       "      <th>std</th>\n",
       "      <td>9.973172</td>\n",
       "      <td>21.021136</td>\n",
       "      <td>32.376896</td>\n",
       "      <td>124.265379</td>\n",
       "    </tr>\n",
       "    <tr>\n",
       "      <th>min</th>\n",
       "      <td>0.000000</td>\n",
       "      <td>0.000000</td>\n",
       "      <td>0.000000</td>\n",
       "      <td>0.000000</td>\n",
       "    </tr>\n",
       "    <tr>\n",
       "      <th>25%</th>\n",
       "      <td>0.000000</td>\n",
       "      <td>0.000000</td>\n",
       "      <td>0.000000</td>\n",
       "      <td>0.000000</td>\n",
       "    </tr>\n",
       "    <tr>\n",
       "      <th>50%</th>\n",
       "      <td>4.000000</td>\n",
       "      <td>12.000000</td>\n",
       "      <td>27.000000</td>\n",
       "      <td>79.000000</td>\n",
       "    </tr>\n",
       "    <tr>\n",
       "      <th>75%</th>\n",
       "      <td>14.000000</td>\n",
       "      <td>37.000000</td>\n",
       "      <td>64.000000</td>\n",
       "      <td>213.000000</td>\n",
       "    </tr>\n",
       "    <tr>\n",
       "      <th>max</th>\n",
       "      <td>30.000000</td>\n",
       "      <td>60.000000</td>\n",
       "      <td>90.000000</td>\n",
       "      <td>365.000000</td>\n",
       "    </tr>\n",
       "  </tbody>\n",
       "</table>\n",
       "</div>"
      ],
      "text/plain": [
       "       availability_30  availability_60  availability_90  availability_365\n",
       "count     20769.000000     20769.000000     20769.000000      20769.000000\n",
       "mean          8.250710        19.985074        33.809861        120.708797\n",
       "std           9.973172        21.021136        32.376896        124.265379\n",
       "min           0.000000         0.000000         0.000000          0.000000\n",
       "25%           0.000000         0.000000         0.000000          0.000000\n",
       "50%           4.000000        12.000000        27.000000         79.000000\n",
       "75%          14.000000        37.000000        64.000000        213.000000\n",
       "max          30.000000        60.000000        90.000000        365.000000"
      ]
     },
     "execution_count": 36,
     "metadata": {},
     "output_type": "execute_result"
    }
   ],
   "source": [
    "df.loc[:,['availability_30', 'availability_60', 'availability_90', 'availability_365']].describe()"
   ]
  },
  {
   "cell_type": "markdown",
   "metadata": {},
   "source": [
    "The values seem legit."
   ]
  },
  {
   "cell_type": "markdown",
   "metadata": {},
   "source": [
    "### 4.3.7 Reviews"
   ]
  },
  {
   "cell_type": "code",
   "execution_count": 37,
   "metadata": {},
   "outputs": [
    {
     "data": {
      "text/html": [
       "<div>\n",
       "<style>\n",
       "    .dataframe thead tr:only-child th {\n",
       "        text-align: right;\n",
       "    }\n",
       "\n",
       "    .dataframe thead th {\n",
       "        text-align: left;\n",
       "    }\n",
       "\n",
       "    .dataframe tbody tr th {\n",
       "        vertical-align: top;\n",
       "    }\n",
       "</style>\n",
       "<table border=\"1\" class=\"dataframe\">\n",
       "  <thead>\n",
       "    <tr style=\"text-align: right;\">\n",
       "      <th></th>\n",
       "      <th>number_of_reviews</th>\n",
       "      <th>number_of_reviews_ltm</th>\n",
       "      <th>review_scores_rating</th>\n",
       "      <th>review_scores_accuracy</th>\n",
       "      <th>review_scores_cleanliness</th>\n",
       "      <th>review_scores_checkin</th>\n",
       "      <th>review_scores_communication</th>\n",
       "      <th>review_scores_location</th>\n",
       "      <th>review_scores_value</th>\n",
       "      <th>reviews_per_month</th>\n",
       "    </tr>\n",
       "  </thead>\n",
       "  <tbody>\n",
       "    <tr>\n",
       "      <th>count</th>\n",
       "      <td>20769.000000</td>\n",
       "      <td>20769.000000</td>\n",
       "      <td>16497.000000</td>\n",
       "      <td>16487.000000</td>\n",
       "      <td>16489.000000</td>\n",
       "      <td>16486.000000</td>\n",
       "      <td>16489.000000</td>\n",
       "      <td>16481.000000</td>\n",
       "      <td>16484.00000</td>\n",
       "      <td>16786.000000</td>\n",
       "    </tr>\n",
       "    <tr>\n",
       "      <th>mean</th>\n",
       "      <td>25.531224</td>\n",
       "      <td>12.398864</td>\n",
       "      <td>94.437473</td>\n",
       "      <td>9.660278</td>\n",
       "      <td>9.434108</td>\n",
       "      <td>9.736443</td>\n",
       "      <td>9.760143</td>\n",
       "      <td>9.704448</td>\n",
       "      <td>9.48362</td>\n",
       "      <td>1.865878</td>\n",
       "    </tr>\n",
       "    <tr>\n",
       "      <th>std</th>\n",
       "      <td>46.686871</td>\n",
       "      <td>20.487604</td>\n",
       "      <td>8.023803</td>\n",
       "      <td>0.788436</td>\n",
       "      <td>0.946426</td>\n",
       "      <td>0.712718</td>\n",
       "      <td>0.705147</td>\n",
       "      <td>0.655603</td>\n",
       "      <td>0.85127</td>\n",
       "      <td>2.142205</td>\n",
       "    </tr>\n",
       "    <tr>\n",
       "      <th>min</th>\n",
       "      <td>0.000000</td>\n",
       "      <td>0.000000</td>\n",
       "      <td>20.000000</td>\n",
       "      <td>2.000000</td>\n",
       "      <td>2.000000</td>\n",
       "      <td>2.000000</td>\n",
       "      <td>2.000000</td>\n",
       "      <td>2.000000</td>\n",
       "      <td>2.00000</td>\n",
       "      <td>0.010000</td>\n",
       "    </tr>\n",
       "    <tr>\n",
       "      <th>25%</th>\n",
       "      <td>1.000000</td>\n",
       "      <td>0.000000</td>\n",
       "      <td>93.000000</td>\n",
       "      <td>10.000000</td>\n",
       "      <td>9.000000</td>\n",
       "      <td>10.000000</td>\n",
       "      <td>10.000000</td>\n",
       "      <td>10.000000</td>\n",
       "      <td>9.00000</td>\n",
       "      <td>0.350000</td>\n",
       "    </tr>\n",
       "    <tr>\n",
       "      <th>50%</th>\n",
       "      <td>7.000000</td>\n",
       "      <td>3.000000</td>\n",
       "      <td>97.000000</td>\n",
       "      <td>10.000000</td>\n",
       "      <td>10.000000</td>\n",
       "      <td>10.000000</td>\n",
       "      <td>10.000000</td>\n",
       "      <td>10.000000</td>\n",
       "      <td>10.00000</td>\n",
       "      <td>1.010000</td>\n",
       "    </tr>\n",
       "    <tr>\n",
       "      <th>75%</th>\n",
       "      <td>28.000000</td>\n",
       "      <td>16.000000</td>\n",
       "      <td>100.000000</td>\n",
       "      <td>10.000000</td>\n",
       "      <td>10.000000</td>\n",
       "      <td>10.000000</td>\n",
       "      <td>10.000000</td>\n",
       "      <td>10.000000</td>\n",
       "      <td>10.00000</td>\n",
       "      <td>2.660000</td>\n",
       "    </tr>\n",
       "    <tr>\n",
       "      <th>max</th>\n",
       "      <td>717.000000</td>\n",
       "      <td>185.000000</td>\n",
       "      <td>100.000000</td>\n",
       "      <td>10.000000</td>\n",
       "      <td>10.000000</td>\n",
       "      <td>10.000000</td>\n",
       "      <td>10.000000</td>\n",
       "      <td>10.000000</td>\n",
       "      <td>10.00000</td>\n",
       "      <td>17.140000</td>\n",
       "    </tr>\n",
       "  </tbody>\n",
       "</table>\n",
       "</div>"
      ],
      "text/plain": [
       "       number_of_reviews  number_of_reviews_ltm  review_scores_rating  \\\n",
       "count       20769.000000           20769.000000          16497.000000   \n",
       "mean           25.531224              12.398864             94.437473   \n",
       "std            46.686871              20.487604              8.023803   \n",
       "min             0.000000               0.000000             20.000000   \n",
       "25%             1.000000               0.000000             93.000000   \n",
       "50%             7.000000               3.000000             97.000000   \n",
       "75%            28.000000              16.000000            100.000000   \n",
       "max           717.000000             185.000000            100.000000   \n",
       "\n",
       "       review_scores_accuracy  review_scores_cleanliness  \\\n",
       "count            16487.000000               16489.000000   \n",
       "mean                 9.660278                   9.434108   \n",
       "std                  0.788436                   0.946426   \n",
       "min                  2.000000                   2.000000   \n",
       "25%                 10.000000                   9.000000   \n",
       "50%                 10.000000                  10.000000   \n",
       "75%                 10.000000                  10.000000   \n",
       "max                 10.000000                  10.000000   \n",
       "\n",
       "       review_scores_checkin  review_scores_communication  \\\n",
       "count           16486.000000                 16489.000000   \n",
       "mean                9.736443                     9.760143   \n",
       "std                 0.712718                     0.705147   \n",
       "min                 2.000000                     2.000000   \n",
       "25%                10.000000                    10.000000   \n",
       "50%                10.000000                    10.000000   \n",
       "75%                10.000000                    10.000000   \n",
       "max                10.000000                    10.000000   \n",
       "\n",
       "       review_scores_location  review_scores_value  reviews_per_month  \n",
       "count            16481.000000          16484.00000       16786.000000  \n",
       "mean                 9.704448              9.48362           1.865878  \n",
       "std                  0.655603              0.85127           2.142205  \n",
       "min                  2.000000              2.00000           0.010000  \n",
       "25%                 10.000000              9.00000           0.350000  \n",
       "50%                 10.000000             10.00000           1.010000  \n",
       "75%                 10.000000             10.00000           2.660000  \n",
       "max                 10.000000             10.00000          17.140000  "
      ]
     },
     "execution_count": 37,
     "metadata": {},
     "output_type": "execute_result"
    }
   ],
   "source": [
    "df.loc[:,['number_of_reviews', 'number_of_reviews_ltm', 'review_scores_rating', 'review_scores_accuracy', 'review_scores_cleanliness', 'review_scores_checkin', 'review_scores_communication', 'review_scores_location', 'review_scores_value', 'reviews_per_month']].describe()"
   ]
  },
  {
   "cell_type": "markdown",
   "metadata": {},
   "source": [
    "All values seems legit."
   ]
  },
  {
   "cell_type": "markdown",
   "metadata": {
    "collapsed": true
   },
   "source": [
    "### 4.4 Missing values imputation "
   ]
  },
  {
   "cell_type": "markdown",
   "metadata": {
    "collapsed": true
   },
   "source": [
    "In this section, the missing values of the both numeric and categorical features will be addressed. Again, only features likely relevant to data analysis will be investigated."
   ]
  },
  {
   "cell_type": "markdown",
   "metadata": {
    "collapsed": true
   },
   "source": [
    "### 4.4.1 Numeric features"
   ]
  },
  {
   "cell_type": "code",
   "execution_count": 38,
   "metadata": {},
   "outputs": [
    {
     "name": "stdout",
     "output_type": "stream",
     "text": [
      "host_response_rate has 4984 missing values\n",
      "host_listings_count has 5 missing values\n",
      "host_total_listings_count has 5 missing values\n",
      "bathrooms has 15 missing values\n",
      "bedrooms has 8 missing values\n",
      "beds has 23 missing values\n",
      "security_deposit has 4902 missing values\n",
      "cleaning_fee has 3384 missing values\n",
      "review_scores_rating has 4272 missing values\n",
      "review_scores_accuracy has 4282 missing values\n",
      "review_scores_cleanliness has 4280 missing values\n",
      "review_scores_checkin has 4283 missing values\n",
      "review_scores_communication has 4280 missing values\n",
      "review_scores_location has 4288 missing values\n",
      "review_scores_value has 4285 missing values\n",
      "reviews_per_month has 3983 missing values\n"
     ]
    }
   ],
   "source": [
    "num_with_na = []\n",
    "numeric_features = [col for col in df.columns if df[col].dtype in ['int64','float64']]\n",
    "\n",
    "for col in numeric_features:\n",
    "    if df[col].isnull().sum() > 0:\n",
    "        print(f'{col} has {df[col].isnull().sum()} missing values')\n",
    "        num_with_na.append(col)"
   ]
  },
  {
   "cell_type": "markdown",
   "metadata": {},
   "source": [
    "It is uncertain why the features host listings count, host response rate, bathrooms, bedrooms, beds are missing.   \n",
    "To impute those features, the following steps are used:  \n",
    "    1. Create a new column to record the rows with missing values (with name [COL]_NA)\n",
    "    2. Impute columns with column median"
   ]
  },
  {
   "cell_type": "code",
   "execution_count": 39,
   "metadata": {
    "collapsed": true
   },
   "outputs": [],
   "source": [
    "for col in ['host_listings_count','bathrooms','host_response_rate','bedrooms','beds']:\n",
    "    df[col+'_NA'] = np.where(df[col].isnull(),True, False)\n",
    "    m = df[col].median()\n",
    "    df[col].fillna(m,inplace=True)"
   ]
  },
  {
   "cell_type": "markdown",
   "metadata": {},
   "source": [
    "Missing security deposits and cleaning fees are likely due the hosts' decision to not include one, which is equivalent to a value of 0. Io impute, the following stems are used:\n",
    "    1. Create a new column to record the rows with missing values (with name [COL]_NA)\n",
    "    2. Impute columns with value of 0"
   ]
  },
  {
   "cell_type": "code",
   "execution_count": 40,
   "metadata": {
    "collapsed": true
   },
   "outputs": [],
   "source": [
    "for col in ['security_deposit','cleaning_fee']:\n",
    "    df[col+'_NA'] = np.where(df[col].isnull(),True, False)\n",
    "    df[col].fillna(0,inplace=True)"
   ]
  },
  {
   "cell_type": "markdown",
   "metadata": {},
   "source": [
    "For review scores, the missing values are likely due to the fact that the listings are new with no or few customers. To impute, the following steps are used:\n",
    "    1. Create a new column to record the rows with missing values (with name [COL]_NA)\n",
    "    2. Impute columns with median"
   ]
  },
  {
   "cell_type": "code",
   "execution_count": 41,
   "metadata": {
    "collapsed": true
   },
   "outputs": [],
   "source": [
    "for col in ['review_scores_rating','review_scores_accuracy','review_scores_cleanliness','review_scores_checkin',\n",
    "           'review_scores_communication','review_scores_location','review_scores_value','reviews_per_month']:\n",
    "    df[col+'_NA'] = np.where(df[col].isnull(),True, False)\n",
    "    df[col].fillna(df[col].median(),inplace=True)"
   ]
  },
  {
   "cell_type": "markdown",
   "metadata": {},
   "source": [
    "### 4.4.2 Categorical Features"
   ]
  },
  {
   "cell_type": "code",
   "execution_count": 42,
   "metadata": {},
   "outputs": [
    {
     "name": "stdout",
     "output_type": "stream",
     "text": [
      "['host_response_time', 'host_is_superhost', 'host_has_profile_pic', 'host_identity_verified', 'is_location_exact', 'property_type', 'room_type', 'bed_type', 'has_availability', 'requires_license', 'instant_bookable', 'is_business_travel_ready', 'cancellation_policy', 'require_guest_profile_picture', 'require_guest_phone_verification']\n"
     ]
    }
   ],
   "source": [
    "#generate column list for category features\n",
    "cat_features = [col for col in df.columns if df[col].dtype.name == \"category\"]\n",
    "print(cat_features)"
   ]
  },
  {
   "cell_type": "code",
   "execution_count": 43,
   "metadata": {},
   "outputs": [
    {
     "name": "stdout",
     "output_type": "stream",
     "text": [
      "host_response_time has 4984 missing values\n",
      "host_is_superhost has 5 missing values\n",
      "host_has_profile_pic has 5 missing values\n",
      "host_identity_verified has 5 missing values\n"
     ]
    }
   ],
   "source": [
    "cat_with_na = []\n",
    "for col in cat_features:\n",
    "    if df[col].isnull().sum() > 0:\n",
    "        print(f'{col} has {df[col].isnull().sum()} missing values')\n",
    "        cat_with_na.append(col)"
   ]
  },
  {
   "cell_type": "markdown",
   "metadata": {},
   "source": [
    "To impute for host response time, the following steps are used:\n",
    "    1. Create a new column to record the rows with missing values (with name [COL]_NA)\n",
    "    2. Impute columns with mode"
   ]
  },
  {
   "cell_type": "code",
   "execution_count": 44,
   "metadata": {
    "collapsed": true
   },
   "outputs": [],
   "source": [
    "for col in cat_with_na:\n",
    "    df[col+\"_NA\"] = np.where(df[col].isnull(),1,0)\n",
    "    df[col].fillna(df[col].mode().iloc[0],inplace=True)"
   ]
  },
  {
   "cell_type": "markdown",
   "metadata": {},
   "source": [
    "### 4.4.3 Datetime Features "
   ]
  },
  {
   "cell_type": "code",
   "execution_count": 45,
   "metadata": {},
   "outputs": [
    {
     "data": {
      "text/plain": [
       "dtype('<M8[ns]')"
      ]
     },
     "execution_count": 45,
     "metadata": {},
     "output_type": "execute_result"
    }
   ],
   "source": [
    "df.host_since.dtypes"
   ]
  },
  {
   "cell_type": "code",
   "execution_count": 46,
   "metadata": {},
   "outputs": [
    {
     "name": "stdout",
     "output_type": "stream",
     "text": [
      "['last_scraped', 'host_since', 'calendar_last_scraped', 'first_review', 'last_review']\n"
     ]
    }
   ],
   "source": [
    "#generate column list for datetime features\n",
    "dt_features = [col for col in df.columns if df[col].dtype == \"<M8[ns]\"]\n",
    "print(dt_features)"
   ]
  },
  {
   "cell_type": "code",
   "execution_count": 47,
   "metadata": {},
   "outputs": [
    {
     "name": "stdout",
     "output_type": "stream",
     "text": [
      "host_since has 5 missing values\n",
      "first_review has 3983 missing values\n",
      "last_review has 3983 missing values\n"
     ]
    }
   ],
   "source": [
    "dt_with_na = []\n",
    "for col in dt_features:\n",
    "    if df[col].isnull().sum() > 0:\n",
    "        print(f'{col} has {df[col].isnull().sum()} missing values')\n",
    "        dt_with_na.append(col)"
   ]
  },
  {
   "cell_type": "markdown",
   "metadata": {},
   "source": [
    "To impute for the missing values, the following steps are used:\n",
    "    1. Create a new column to record the rows with missing values (with name [COL]_NA)\n",
    "    2. Impute columns with median (quantile = 0.5)"
   ]
  },
  {
   "cell_type": "code",
   "execution_count": 48,
   "metadata": {
    "collapsed": true
   },
   "outputs": [],
   "source": [
    "for col in dt_with_na:\n",
    "    df[col+\"_NA\"] = np.where(df[col].isnull(),1,0)\n",
    "    df[col].fillna(df[col].quantile(0.5),inplace=True)"
   ]
  },
  {
   "cell_type": "markdown",
   "metadata": {
    "collapsed": true
   },
   "source": [
    "# 5 New Feature Creation"
   ]
  },
  {
   "cell_type": "markdown",
   "metadata": {
    "collapsed": true
   },
   "source": [
    "## 5.1 Dummy Variable for Amenities"
   ]
  },
  {
   "cell_type": "markdown",
   "metadata": {},
   "source": [
    "The column _amenities_ contains a string of available amenities for reach listing."
   ]
  },
  {
   "cell_type": "code",
   "execution_count": 49,
   "metadata": {
    "scrolled": true
   },
   "outputs": [
    {
     "data": {
      "text/plain": [
       "0    {TV,Internet,Wifi,\"Air conditioning\",Kitchen,\"...\n",
       "1    {TV,\"Cable TV\",Internet,Wifi,\"Air conditioning...\n",
       "2    {Internet,Wifi,\"Pets live on this property\",Ca...\n",
       "3    {Internet,Wifi,\"Air conditioning\",Kitchen,\"Fre...\n",
       "4    {TV,\"Cable TV\",Internet,Wifi,\"Air conditioning...\n",
       "Name: amenities, dtype: object"
      ]
     },
     "execution_count": 49,
     "metadata": {},
     "output_type": "execute_result"
    }
   ],
   "source": [
    "df.amenities.head()"
   ]
  },
  {
   "cell_type": "markdown",
   "metadata": {},
   "source": [
    "First, create a new column with the string converted to a list:"
   ]
  },
  {
   "cell_type": "code",
   "execution_count": 50,
   "metadata": {
    "collapsed": true
   },
   "outputs": [],
   "source": [
    "df['amenities_list'] = df['amenities'].str.lower().str.replace('[{}\"]','').str.split(',')"
   ]
  },
  {
   "cell_type": "code",
   "execution_count": 51,
   "metadata": {},
   "outputs": [
    {
     "data": {
      "text/plain": [
       "0    [tv, internet, wifi, air conditioning, kitchen...\n",
       "1    [tv, cable tv, internet, wifi, air conditionin...\n",
       "2    [internet, wifi, pets live on this property, c...\n",
       "3    [internet, wifi, air conditioning, kitchen, fr...\n",
       "4    [tv, cable tv, internet, wifi, air conditionin...\n",
       "Name: amenities_list, dtype: object"
      ]
     },
     "execution_count": 51,
     "metadata": {},
     "output_type": "execute_result"
    }
   ],
   "source": [
    "df['amenities_list'].head()"
   ]
  },
  {
   "cell_type": "code",
   "execution_count": 52,
   "metadata": {},
   "outputs": [
    {
     "name": "stdout",
     "output_type": "stream",
     "text": [
      "{'wide clearance to shower', '', 'other pet(s)', 'internet', 'brick oven', 'baby bath', 'outdoor seating', 'beachfront', '24-hour check-in', 'bidet', 'fire extinguisher', 'hammock', 'carbon monoxide detector', 'private bathroom', 'ceiling fan', 'heated towel rack', 'pool', 'hangers', 'paid parking off premises', 'breakfast table', 'espresso machine', 'en suite bathroom', 'dryer', 'laptop friendly workspace', 'netflix', 'fixed grab bars for toilet', 'game console', 'fire pit', 'mini fridge', 'lock on bedroom door', 'sun loungers', 'other', 'table corner guards', 'pocket wifi', 'central air conditioning', 'private living room', 'breakfast', 'disabled parking spot', 'doorman', 'bathtub with bath chair', 'stair gates', 'ski-in/ski-out', 'hot tub', 'murphy bed', 'self check-in', 'double oven', 'shampoo', 'well-lit path to entrance', 'memory foam mattress', 'wide hallways', 'printer', 'iron', 'alfresco bathtub', 'high-resolution computer monitor', 'first aid kit', 'shower chair', 'cleaning before checkout', 'shared pool', 'mountain view', 'fireplace guards', 'private hot tub', 'convection oven', 'baby monitor', 'balcony', 'bed linens', 'heating', 'smoking allowed', 'tennis court', 'fixed grab bars for shower', 'dvd player', 'bathroom essentials', 'keypad', 'warming drawer', 'standing valet', 'ground floor access', 'wide entryway', 'pool with pool hoist', 'mudroom', 'pack ’n play/travel crib', 'walk-in shower', 'children’s dinnerware', 'wide entrance', 'pets allowed', 'translation missing: en.hosting_amenity_50', 'single level home', 'cooking basics', 'bbq grill', 'children’s books and toys', 'family/kid friendly', 'microwave', 'luggage dropoff allowed', 'safety card', 'building staff', 'heated floors', 'mobile hoist', 'wide doorway to guest bathroom', 'indoor fireplace', 'pets live on this property', 'window guards', 'shared gym', ' toilet', 'room-darkening shades', 'touchless faucets', 'stand alone steam shower', 'roll-in shower', 'bath towel', 'dishwasher', 'bedroom comforts', 'dishes and silverware', 'coffee maker', 'sauna', 'essentials', 'no stairs or steps to enter', 'wide entrance for guests', 'full kitchen', 'steam oven', 'ethernet connection', 'beach essentials', 'beach view', 'stove', 'air conditioning', 'washer', 'paid parking on premises', 'free street parking', 'dog(s)', 'changing table', 'jetted tub', 'oven', 'kitchenette', 'heat lamps', 'shared hot tub', 'firm mattress', 'accessible-height bed', 'patio or balcony', 'suitable for events', 'crib', 'air purifier', 'private gym', 'flat path to guest entrance', 'ev charger', 'garden or backyard', 'outdoor parking', 'exercise equipment', 'formal dining area', 'hot water kettle', 'elevator', 'gym', 'translation missing: en.hosting_amenity_49', 'cable tv', 'refrigerator', 'gas oven', 'pillow-top mattress', 'pool toys', 'projector and screen', 'buzzer/wireless intercom', 'electric profiling bed', 'private pool', 'accessible-height toilet', 'waterfront', 'terrace', 'amazon echo', 'outlet covers', 'smoke detector', 'toilet paper', 'wine cooler', 'lake access', 'day bed', 'extra space around shower and toilet', 'kitchen', 'long term stays allowed', 'soaking tub', 'pool cover', 'hot water', 'outdoor kitchen', 'free parking on premises', 'washer / dryer', 'private entrance', 'lockbox', 'babysitter recommendations', 'ceiling hoist', 'fax machine', 'smart tv', 'sound system', 'high chair', 'extra pillows and blankets', 'smart lock', 'hbo go', 'bathtub', 'tv', 'extra space around bed', 'rain shower', 'cat(s)', 'host greets you', 'wifi', 'hair dryer', 'wheelchair accessible', 'body soap'}\n"
     ]
    }
   ],
   "source": [
    "#Create amenities set\n",
    "amenities_set = set()\n",
    "for i in df['amenities_list']:\n",
    "    amenities_set.update(i)\n",
    "print(amenities_set)"
   ]
  },
  {
   "cell_type": "code",
   "execution_count": 53,
   "metadata": {},
   "outputs": [
    {
     "data": {
      "text/plain": [
       "197"
      ]
     },
     "execution_count": 53,
     "metadata": {},
     "output_type": "execute_result"
    }
   ],
   "source": [
    "len(amenities_set)"
   ]
  },
  {
   "cell_type": "markdown",
   "metadata": {},
   "source": [
    "In total, there are 197 unique amenities. There one with null entry (1st item) which will be removed."
   ]
  },
  {
   "cell_type": "code",
   "execution_count": 54,
   "metadata": {
    "collapsed": true
   },
   "outputs": [],
   "source": [
    "amenities_set.remove('')"
   ]
  },
  {
   "cell_type": "markdown",
   "metadata": {},
   "source": [
    "Next, dummy variables are created for each item and each listing. Values of _True_ and _False_ will be assigned according to their availability."
   ]
  },
  {
   "cell_type": "code",
   "execution_count": 55,
   "metadata": {
    "collapsed": true
   },
   "outputs": [],
   "source": [
    "for item in amenities_set:\n",
    "    df['amenities_' + item] = df.amenities_list.apply(lambda x: 1 if item in x else 0) "
   ]
  },
  {
   "cell_type": "code",
   "execution_count": 56,
   "metadata": {},
   "outputs": [
    {
     "name": "stdout",
     "output_type": "stream",
     "text": [
      "Number of listings with wide clearance to shower: 387\n",
      "Number of listings with other pet(s): 57\n",
      "Number of listings with internet: 5002\n",
      "Number of listings with brick oven: 1\n",
      "Number of listings with baby bath: 182\n",
      "Number of listings with outdoor seating: 76\n",
      "Number of listings with beachfront: 137\n",
      "Number of listings with 24-hour check-in: 1959\n",
      "Number of listings with bidet: 6\n",
      "Number of listings with fire extinguisher: 10749\n",
      "Number of listings with hammock: 1\n",
      "Number of listings with carbon monoxide detector: 16672\n",
      "Number of listings with private bathroom: 7\n",
      "Number of listings with ceiling fan: 39\n",
      "Number of listings with heated towel rack: 7\n",
      "Number of listings with pool: 3822\n",
      "Number of listings with hangers: 17605\n",
      "Number of listings with paid parking off premises: 4761\n",
      "Number of listings with breakfast table: 91\n",
      "Number of listings with espresso machine: 56\n",
      "Number of listings with en suite bathroom: 78\n",
      "Number of listings with dryer: 16557\n",
      "Number of listings with laptop friendly workspace: 15623\n",
      "Number of listings with netflix: 141\n",
      "Number of listings with fixed grab bars for toilet: 46\n",
      "Number of listings with game console: 299\n",
      "Number of listings with fire pit: 8\n",
      "Number of listings with mini fridge: 17\n",
      "Number of listings with lock on bedroom door: 6249\n",
      "Number of listings with sun loungers: 15\n",
      "Number of listings with other: 1628\n",
      "Number of listings with table corner guards: 42\n",
      "Number of listings with pocket wifi: 300\n",
      "Number of listings with central air conditioning: 74\n",
      "Number of listings with private living room: 2592\n",
      "Number of listings with breakfast: 1850\n",
      "Number of listings with disabled parking spot: 421\n",
      "Number of listings with doorman: 1143\n",
      "Number of listings with bathtub with bath chair: 42\n",
      "Number of listings with stair gates: 195\n",
      "Number of listings with ski-in/ski-out: 11\n",
      "Number of listings with hot tub: 3122\n",
      "Number of listings with murphy bed: 14\n",
      "Number of listings with self check-in: 7235\n",
      "Number of listings with double oven: 8\n",
      "Number of listings with shampoo: 16616\n",
      "Number of listings with well-lit path to entrance: 1939\n",
      "Number of listings with memory foam mattress: 57\n",
      "Number of listings with wide hallways: 1309\n",
      "Number of listings with printer: 21\n",
      "Number of listings with iron: 14653\n",
      "Number of listings with alfresco bathtub: 2\n",
      "Number of listings with high-resolution computer monitor: 11\n",
      "Number of listings with first aid kit: 7931\n",
      "Number of listings with shower chair: 37\n",
      "Number of listings with cleaning before checkout: 933\n",
      "Number of listings with shared pool: 18\n",
      "Number of listings with mountain view: 5\n",
      "Number of listings with fireplace guards: 100\n",
      "Number of listings with private hot tub: 5\n",
      "Number of listings with convection oven: 69\n",
      "Number of listings with baby monitor: 74\n",
      "Number of listings with balcony: 69\n",
      "Number of listings with bed linens: 7883\n",
      "Number of listings with heating: 20109\n",
      "Number of listings with smoking allowed: 673\n",
      "Number of listings with tennis court: 1\n",
      "Number of listings with fixed grab bars for shower: 104\n",
      "Number of listings with dvd player: 21\n",
      "Number of listings with bathroom essentials: 333\n",
      "Number of listings with keypad: 2139\n",
      "Number of listings with warming drawer: 15\n",
      "Number of listings with standing valet: 3\n",
      "Number of listings with ground floor access: 2\n",
      "Number of listings with wide entryway: 909\n",
      "Number of listings with pool with pool hoist: 22\n",
      "Number of listings with mudroom: 11\n",
      "Number of listings with pack ’n play/travel crib: 877\n",
      "Number of listings with walk-in shower: 72\n",
      "Number of listings with children’s dinnerware: 404\n",
      "Number of listings with wide entrance: 1033\n",
      "Number of listings with pets allowed: 2604\n",
      "Number of listings with translation missing: en.hosting_amenity_50: 2801\n",
      "Number of listings with single level home: 1375\n",
      "Number of listings with cooking basics: 8125\n",
      "Number of listings with bbq grill: 1647\n",
      "Number of listings with children’s books and toys: 868\n",
      "Number of listings with family/kid friendly: 6562\n",
      "Number of listings with microwave: 8675\n",
      "Number of listings with luggage dropoff allowed: 3915\n",
      "Number of listings with safety card: 2705\n",
      "Number of listings with building staff: 831\n",
      "Number of listings with heated floors: 33\n",
      "Number of listings with mobile hoist: 2\n",
      "Number of listings with wide doorway to guest bathroom: 564\n",
      "Number of listings with indoor fireplace: 2056\n",
      "Number of listings with pets live on this property: 1076\n",
      "Number of listings with window guards: 151\n",
      "Number of listings with shared gym: 26\n",
      "Number of listings with  toilet: 387\n",
      "Number of listings with room-darkening shades: 1094\n",
      "Number of listings with touchless faucets: 3\n",
      "Number of listings with stand alone steam shower: 7\n",
      "Number of listings with roll-in shower: 145\n",
      "Number of listings with bath towel: 328\n",
      "Number of listings with dishwasher: 5878\n",
      "Number of listings with bedroom comforts: 333\n",
      "Number of listings with dishes and silverware: 8703\n",
      "Number of listings with coffee maker: 7187\n",
      "Number of listings with sauna: 6\n",
      "Number of listings with essentials: 19754\n",
      "Number of listings with no stairs or steps to enter: 2338\n",
      "Number of listings with wide entrance for guests: 1309\n",
      "Number of listings with full kitchen: 400\n",
      "Number of listings with steam oven: 6\n",
      "Number of listings with ethernet connection: 1312\n",
      "Number of listings with beach essentials: 92\n",
      "Number of listings with beach view: 8\n",
      "Number of listings with stove: 8525\n",
      "Number of listings with air conditioning: 17746\n",
      "Number of listings with washer: 16812\n",
      "Number of listings with paid parking on premises: 2599\n",
      "Number of listings with free street parking: 2015\n",
      "Number of listings with dog(s): 473\n",
      "Number of listings with changing table: 147\n",
      "Number of listings with jetted tub: 7\n",
      "Number of listings with oven: 8178\n",
      "Number of listings with kitchenette: 39\n",
      "Number of listings with heat lamps: 2\n",
      "Number of listings with shared hot tub: 11\n",
      "Number of listings with firm mattress: 19\n",
      "Number of listings with accessible-height bed: 779\n",
      "Number of listings with patio or balcony: 4590\n",
      "Number of listings with suitable for events: 480\n",
      "Number of listings with crib: 396\n",
      "Number of listings with air purifier: 4\n",
      "Number of listings with private gym: 2\n",
      "Number of listings with flat path to guest entrance: 1161\n",
      "Number of listings with ev charger: 181\n",
      "Number of listings with garden or backyard: 2661\n",
      "Number of listings with outdoor parking: 20\n",
      "Number of listings with exercise equipment: 32\n",
      "Number of listings with formal dining area: 54\n",
      "Number of listings with hot water kettle: 162\n",
      "Number of listings with elevator: 8676\n",
      "Number of listings with gym: 6301\n",
      "Number of listings with translation missing: en.hosting_amenity_49: 2252\n",
      "Number of listings with cable tv: 4737\n",
      "Number of listings with refrigerator: 9435\n",
      "Number of listings with gas oven: 34\n",
      "Number of listings with pillow-top mattress: 48\n",
      "Number of listings with pool toys: 1\n",
      "Number of listings with projector and screen: 5\n",
      "Number of listings with buzzer/wireless intercom: 1543\n",
      "Number of listings with electric profiling bed: 12\n",
      "Number of listings with private pool: 3\n",
      "Number of listings with accessible-height toilet: 658\n",
      "Number of listings with waterfront: 631\n",
      "Number of listings with terrace: 50\n",
      "Number of listings with amazon echo: 11\n",
      "Number of listings with outlet covers: 232\n",
      "Number of listings with smoke detector: 19537\n",
      "Number of listings with toilet paper: 328\n",
      "Number of listings with wine cooler: 10\n",
      "Number of listings with lake access: 1378\n",
      "Number of listings with day bed: 29\n",
      "Number of listings with extra space around shower and toilet: 509\n",
      "Number of listings with kitchen: 19142\n",
      "Number of listings with long term stays allowed: 6476\n",
      "Number of listings with soaking tub: 57\n",
      "Number of listings with pool cover: 2\n",
      "Number of listings with hot water: 12266\n",
      "Number of listings with outdoor kitchen: 4\n",
      "Number of listings with free parking on premises: 8338\n",
      "Number of listings with washer / dryer: 2\n",
      "Number of listings with private entrance: 7014\n",
      "Number of listings with lockbox: 3361\n",
      "Number of listings with babysitter recommendations: 313\n",
      "Number of listings with ceiling hoist: 3\n",
      "Number of listings with fax machine: 4\n",
      "Number of listings with smart tv: 129\n",
      "Number of listings with sound system: 53\n",
      "Number of listings with high chair: 756\n",
      "Number of listings with extra pillows and blankets: 5840\n",
      "Number of listings with smart lock: 916\n",
      "Number of listings with hbo go: 17\n",
      "Number of listings with bathtub: 2475\n",
      "Number of listings with tv: 14674\n",
      "Number of listings with extra space around bed: 1051\n",
      "Number of listings with rain shower: 54\n",
      "Number of listings with cat(s): 420\n",
      "Number of listings with host greets you: 3240\n",
      "Number of listings with wifi: 20384\n",
      "Number of listings with hair dryer: 15319\n",
      "Number of listings with wheelchair accessible: 1166\n",
      "Number of listings with body soap: 328\n"
     ]
    }
   ],
   "source": [
    "for item in amenities_set:\n",
    "    print(f'Number of listings with {item}: {df[\"amenities_\" + item].sum()}')"
   ]
  },
  {
   "cell_type": "markdown",
   "metadata": {},
   "source": [
    "In total, 196 new columns are created."
   ]
  },
  {
   "cell_type": "markdown",
   "metadata": {},
   "source": [
    "## 5.2 City Names"
   ]
  },
  {
   "cell_type": "markdown",
   "metadata": {},
   "source": [
    "In addition to _longitude_ and _latitude_, some other columns may also contain useful geographical information, namely _street_, _city_, _zipcode_, _market_, and *smart_location*."
   ]
  },
  {
   "cell_type": "code",
   "execution_count": 57,
   "metadata": {},
   "outputs": [
    {
     "data": {
      "text/plain": [
       "array(['Toronto, ON, Canada', 'toronto, ON, Canada', 'Toronto, 1, Canada',\n",
       "       'Guelph, ON, Canada', 'Etobicoke, ON, Canada',\n",
       "       'Toronto, Ont, Canada', 'Toronto, ON, ON, Canada',\n",
       "       'North York, Toronto, ON, Canada', '토론토, 온타리오, Canada',\n",
       "       'Scarborough, ON, Canada', '多伦多, 安大略省, Canada',\n",
       "       'North York, ON, Canada', 'Vaughan, ON, Canada', 'Toronto, Canada',\n",
       "       'scarborough, ON, Canada', 'Toronto, On, Canada',\n",
       "       'Etobicoke , ON, Canada', 'Mississauga, ON, Canada',\n",
       "       'Toronto, , ON, Canada', 'North york, ON, Canada',\n",
       "       'Toronto , ON, Canada', '多伦多, ON, Canada',\n",
       "       'Toronto, Ontario, CA, ON, Canada', 'North York , ON, Canada',\n",
       "       'SCARBOROUGH, ON, Canada', 'York, ON, Canada',\n",
       "       'Markham, ON, Canada', 'Toronto M5S 2L6, ON, Canada',\n",
       "       'Scarborough , ON, Canada', 'ONTARIO , TORONTO, Canada',\n",
       "       'Vaughan , ON, Canada', 'North york - Toronto , ON, Canada',\n",
       "       'Scarborough , Toronto  , ON, Canada', 'toronto, ontario, Canada',\n",
       "       'ON, ON, Canada', 'Thornhill , ON, Canada', 'Pickering, ON, Canada'], dtype=object)"
      ]
     },
     "execution_count": 57,
     "metadata": {},
     "output_type": "execute_result"
    }
   ],
   "source": [
    "df.street.unique()"
   ]
  },
  {
   "cell_type": "code",
   "execution_count": 58,
   "metadata": {},
   "outputs": [
    {
     "data": {
      "text/plain": [
       "array(['Toronto', 'toronto', 'Guelph', 'Etobicoke', 'Toronto, ON',\n",
       "       'North York, Toronto', '토론토', 'Scarborough', '多伦多', 'North York',\n",
       "       'Vaughan', 'scarborough', 'Etobicoke ', 'Mississauga', 'Toronto, ',\n",
       "       'North york', 'Toronto ', 'Toronto, Ontario, CA', 'North York ',\n",
       "       'SCARBOROUGH', 'York', 'Markham', 'Toronto M5S 2L6', 'Scarborough ',\n",
       "       'ONTARIO ', 'Vaughan ', 'North york - Toronto ',\n",
       "       'Scarborough , Toronto  ', nan, 'Thornhill ', 'Pickering'], dtype=object)"
      ]
     },
     "execution_count": 58,
     "metadata": {},
     "output_type": "execute_result"
    }
   ],
   "source": [
    "df.city.unique()"
   ]
  },
  {
   "cell_type": "code",
   "execution_count": 59,
   "metadata": {},
   "outputs": [
    {
     "data": {
      "text/plain": [
       "array(['Toronto', 'Montreal', 'Paris', nan, 'Other (International)'], dtype=object)"
      ]
     },
     "execution_count": 59,
     "metadata": {},
     "output_type": "execute_result"
    }
   ],
   "source": [
    "df.market.unique()"
   ]
  },
  {
   "cell_type": "code",
   "execution_count": 60,
   "metadata": {},
   "outputs": [
    {
     "data": {
      "text/plain": [
       "array(['Toronto, Canada', 'toronto, Canada', 'Guelph, Canada',\n",
       "       'Etobicoke, Canada', 'Toronto, ON, Canada',\n",
       "       'North York, Toronto, Canada', '토론토, Canada', 'Scarborough, Canada',\n",
       "       '多伦多, Canada', 'North York, Canada', 'Vaughan, Canada',\n",
       "       'scarborough, Canada', 'Etobicoke , Canada', 'Mississauga, Canada',\n",
       "       'Toronto, , Canada', 'North york, Canada', 'Toronto , Canada',\n",
       "       'Toronto, Ontario, CA, Canada', 'North York , Canada',\n",
       "       'SCARBOROUGH, Canada', 'York, Canada', 'Markham, Canada',\n",
       "       'Toronto M5S 2L6, Canada', 'Scarborough , Canada',\n",
       "       'ONTARIO , Canada', 'Vaughan , Canada',\n",
       "       'North york - Toronto , Canada', 'Scarborough , Toronto  , Canada',\n",
       "       'ON, Canada', 'Thornhill , Canada', 'Pickering, Canada'], dtype=object)"
      ]
     },
     "execution_count": 60,
     "metadata": {},
     "output_type": "execute_result"
    }
   ],
   "source": [
    "df.smart_location.unique()"
   ]
  },
  {
   "cell_type": "markdown",
   "metadata": {},
   "source": [
    "The features of *street*, *city*, *market* and *smart_location* are not all that useful."
   ]
  },
  {
   "cell_type": "markdown",
   "metadata": {},
   "source": [
    "Explore *zipcode*:"
   ]
  },
  {
   "cell_type": "code",
   "execution_count": 61,
   "metadata": {},
   "outputs": [
    {
     "data": {
      "text/plain": [
       "6925"
      ]
     },
     "execution_count": 61,
     "metadata": {},
     "output_type": "execute_result"
    }
   ],
   "source": [
    "df.zipcode.nunique()"
   ]
  },
  {
   "cell_type": "code",
   "execution_count": 62,
   "metadata": {},
   "outputs": [
    {
     "data": {
      "text/plain": [
       "NaN        365\n",
       "M5J 0B1    344\n",
       "M5R 1C4    199\n",
       "M5V        191\n",
       "M5V 0E9    159\n",
       "M5J        158\n",
       "M5V 4A9    130\n",
       "M5J 0A6    108\n",
       "M5V 0J9     99\n",
       "M5V 0G6     96\n",
       "M5J 0A7     96\n",
       "M5V 4A2     93\n",
       "M5V 4B2     91\n",
       "M6J         90\n",
       "M5V 0J8     77\n",
       "M5J 2Z2     76\n",
       "M5V 4A5     73\n",
       "M5H 0B1     72\n",
       "M2N         65\n",
       "M5J 0A1     62\n",
       "Name: zipcode, dtype: int64"
      ]
     },
     "execution_count": 62,
     "metadata": {},
     "output_type": "execute_result"
    }
   ],
   "source": [
    "# Top 20 zipcode by count\n",
    "df.zipcode.value_counts(dropna=False).head(20)"
   ]
  },
  {
   "cell_type": "markdown",
   "metadata": {},
   "source": [
    "The zipcode consists of 365 missing values. Also, it consists of both the 6-digit format (FSA + LDU) and the 3-digit format. FSA stands for **Forward Sortation Area** and LDU stands for **Local Delivery Unit**. The FSA can be used to identify the city of the listing. "
   ]
  },
  {
   "cell_type": "markdown",
   "metadata": {},
   "source": [
    "First, a new column with just the fsa is created:  "
   ]
  },
  {
   "cell_type": "code",
   "execution_count": 7,
   "metadata": {
    "collapsed": true
   },
   "outputs": [],
   "source": [
    "df['fsa'] = df.zipcode.str.slice(stop=3).str.upper()"
   ]
  },
  {
   "cell_type": "code",
   "execution_count": 8,
   "metadata": {},
   "outputs": [
    {
     "data": {
      "text/plain": [
       "116"
      ]
     },
     "execution_count": 8,
     "metadata": {},
     "output_type": "execute_result"
    }
   ],
   "source": [
    "df['fsa'].nunique()"
   ]
  },
  {
   "cell_type": "code",
   "execution_count": 65,
   "metadata": {},
   "outputs": [
    {
     "data": {
      "text/plain": [
       "M5V    2696\n",
       "M5J    1189\n",
       "M6J     998\n",
       "M6K     810\n",
       "M2N     761\n",
       "M6H     668\n",
       "M5R     660\n",
       "M5A     641\n",
       "M4Y     635\n",
       "M6G     595\n",
       "M5T     566\n",
       "M6P     394\n",
       "M5S     387\n",
       "M5B     368\n",
       "NaN     365\n",
       "M4M     331\n",
       "M6R     318\n",
       "M4L     311\n",
       "M2M     287\n",
       "M4C     272\n",
       "M2J     265\n",
       "M4J     258\n",
       "M4K     248\n",
       "M6E     226\n",
       "M4X     226\n",
       "M8V     223\n",
       "M3J     220\n",
       "M5H     182\n",
       "M4E     179\n",
       "M4S     179\n",
       "Name: fsa, dtype: int64"
      ]
     },
     "execution_count": 65,
     "metadata": {},
     "output_type": "execute_result"
    }
   ],
   "source": [
    "# display top 30 FSA by count\n",
    "df['fsa'].value_counts(dropna=False).head(30)"
   ]
  },
  {
   "cell_type": "markdown",
   "metadata": {},
   "source": [
    "Next, the FSA values are matched with the City. The website https://en.wikipedia.org/wiki/List_of_postal_codes_of_Canada:_M contains the FSA codes along with the corresponding regions in Greater Toronto Area.  The data table was copied and pasted into a csv file. "
   ]
  },
  {
   "cell_type": "markdown",
   "metadata": {},
   "source": [
    "The file *toronto_fsa.csv* can be downloaded from https://drive.google.com/open?id=1-ImaFEoNC-TQji5LxDtAdH7jlJ2q1A0P"
   ]
  },
  {
   "cell_type": "code",
   "execution_count": 5,
   "metadata": {},
   "outputs": [
    {
     "data": {
      "text/html": [
       "<div>\n",
       "<style>\n",
       "    .dataframe thead tr:only-child th {\n",
       "        text-align: right;\n",
       "    }\n",
       "\n",
       "    .dataframe thead th {\n",
       "        text-align: left;\n",
       "    }\n",
       "\n",
       "    .dataframe tbody tr th {\n",
       "        vertical-align: top;\n",
       "    }\n",
       "</style>\n",
       "<table border=\"1\" class=\"dataframe\">\n",
       "  <thead>\n",
       "    <tr style=\"text-align: right;\">\n",
       "      <th></th>\n",
       "      <th>Postcode</th>\n",
       "      <th>Borough</th>\n",
       "      <th>Neighbourhood</th>\n",
       "    </tr>\n",
       "  </thead>\n",
       "  <tbody>\n",
       "    <tr>\n",
       "      <th>0</th>\n",
       "      <td>M1A</td>\n",
       "      <td>Not assigned</td>\n",
       "      <td>Not assigned</td>\n",
       "    </tr>\n",
       "    <tr>\n",
       "      <th>1</th>\n",
       "      <td>M2A</td>\n",
       "      <td>Not assigned</td>\n",
       "      <td>Not assigned</td>\n",
       "    </tr>\n",
       "    <tr>\n",
       "      <th>2</th>\n",
       "      <td>M3A</td>\n",
       "      <td>North York</td>\n",
       "      <td>Parkwoods</td>\n",
       "    </tr>\n",
       "    <tr>\n",
       "      <th>3</th>\n",
       "      <td>M4A</td>\n",
       "      <td>North York</td>\n",
       "      <td>Victoria Village</td>\n",
       "    </tr>\n",
       "    <tr>\n",
       "      <th>4</th>\n",
       "      <td>M5A</td>\n",
       "      <td>Downtown Toronto</td>\n",
       "      <td>Harbourfront</td>\n",
       "    </tr>\n",
       "  </tbody>\n",
       "</table>\n",
       "</div>"
      ],
      "text/plain": [
       "  Postcode           Borough     Neighbourhood\n",
       "0      M1A      Not assigned      Not assigned\n",
       "1      M2A      Not assigned      Not assigned\n",
       "2      M3A        North York         Parkwoods\n",
       "3      M4A        North York  Victoria Village\n",
       "4      M5A  Downtown Toronto      Harbourfront"
      ]
     },
     "execution_count": 5,
     "metadata": {},
     "output_type": "execute_result"
    }
   ],
   "source": [
    "toronto_fsa = pd.read_csv('data/toronto_fsa.csv')\n",
    "toronto_fsa.head()"
   ]
  },
  {
   "cell_type": "code",
   "execution_count": 9,
   "metadata": {},
   "outputs": [],
   "source": [
    "#create a dictionary with postcode as key and borough (city) as dictionary\n",
    "fsa_dict = {i:j for i,j in zip(toronto_fsa.Postcode, toronto_fsa.Borough)}\n",
    "\n",
    "#create new column that maps the FSA to the city name\n",
    "df['city_fsa'] = np.nan\n",
    "df['city_fsa'] = df.fsa.map(fsa_dict)"
   ]
  },
  {
   "cell_type": "code",
   "execution_count": 10,
   "metadata": {},
   "outputs": [
    {
     "data": {
      "text/plain": [
       "Downtown Toronto    7938\n",
       "West Toronto        3361\n",
       "North York          2749\n",
       "Central Toronto     1426\n",
       "Scarborough         1359\n",
       "Etobicoke           1083\n",
       "East Toronto        1069\n",
       "York                 707\n",
       "East York            671\n",
       "NaN                  376\n",
       "Thornhill             20\n",
       "Pickering              2\n",
       "Not assigned           2\n",
       "Mississauga            2\n",
       "Markham                1\n",
       "Kleinburg              1\n",
       "Guelph                 1\n",
       "Queen's Park           1\n",
       "Name: city_fsa, dtype: int64"
      ]
     },
     "execution_count": 10,
     "metadata": {},
     "output_type": "execute_result"
    }
   ],
   "source": [
    "# The counts for each assigned city\n",
    "df.city_fsa.value_counts(dropna=False)"
   ]
  },
  {
   "cell_type": "code",
   "execution_count": 14,
   "metadata": {},
   "outputs": [
    {
     "data": {
      "text/html": [
       "<div>\n",
       "<style>\n",
       "    .dataframe thead tr:only-child th {\n",
       "        text-align: right;\n",
       "    }\n",
       "\n",
       "    .dataframe thead th {\n",
       "        text-align: left;\n",
       "    }\n",
       "\n",
       "    .dataframe tbody tr th {\n",
       "        vertical-align: top;\n",
       "    }\n",
       "</style>\n",
       "<table border=\"1\" class=\"dataframe\">\n",
       "  <thead>\n",
       "    <tr style=\"text-align: right;\">\n",
       "      <th></th>\n",
       "      <th>longitude</th>\n",
       "      <th>latitude</th>\n",
       "    </tr>\n",
       "  </thead>\n",
       "  <tbody>\n",
       "    <tr>\n",
       "      <th>162</th>\n",
       "      <td>-79.48815</td>\n",
       "      <td>43.62575</td>\n",
       "    </tr>\n",
       "  </tbody>\n",
       "</table>\n",
       "</div>"
      ],
      "text/plain": [
       "     longitude  latitude\n",
       "162  -79.48815  43.62575"
      ]
     },
     "execution_count": 14,
     "metadata": {},
     "output_type": "execute_result"
    }
   ],
   "source": [
    "df.loc[df.city_fsa == 'Guelph',['longitude','latitude']]"
   ]
  },
  {
   "cell_type": "code",
   "execution_count": 69,
   "metadata": {},
   "outputs": [
    {
     "data": {
      "text/plain": [
       "403"
      ]
     },
     "execution_count": 69,
     "metadata": {},
     "output_type": "execute_result"
    }
   ],
   "source": [
    "# The number of listings not assigned a city\n",
    "df.city_fsa.isnull().sum()"
   ]
  },
  {
   "cell_type": "code",
   "execution_count": 70,
   "metadata": {},
   "outputs": [
    {
     "data": {
      "text/plain": [
       "NaN    365\n",
       "L3T     12\n",
       "L4J      8\n",
       "[NO      3\n",
       "L1W      2\n",
       "M        2\n",
       "2V5      1\n",
       "SEC      1\n",
       "M15      1\n",
       "ON       1\n",
       "L0J      1\n",
       "N1E      1\n",
       "L5E      1\n",
       "L3S      1\n",
       "L4W      1\n",
       "G7H      1\n",
       "MP6      1\n",
       "Name: fsa, dtype: int64"
      ]
     },
     "execution_count": 70,
     "metadata": {},
     "output_type": "execute_result"
    }
   ],
   "source": [
    "df.loc[df.city_fsa.isnull(),'fsa'].value_counts(dropna=False)"
   ]
  },
  {
   "cell_type": "markdown",
   "metadata": {},
   "source": [
    "With unknown or ambiguous zipcode, it is difficult to locate the property. To impute the missing *city_fsa* values:\n",
    "    1. A column to identify the missing value is created\n",
    "    2. The missing value is imputed with 'Other'"
   ]
  },
  {
   "cell_type": "code",
   "execution_count": 71,
   "metadata": {
    "collapsed": true
   },
   "outputs": [],
   "source": [
    "df['city_fsa_NA'] = np.where(df['city_fsa'].isnull(),True,False)\n",
    "df['city_fsa'].fillna('Other',inplace=True)"
   ]
  },
  {
   "cell_type": "markdown",
   "metadata": {},
   "source": [
    "## 5.3 Date time Difference from Reference Day"
   ]
  },
  {
   "cell_type": "markdown",
   "metadata": {},
   "source": [
    "The number of months since the recorded events can be a feature more useful than the dates. A reference date of 2019/6/27, which is the date this dataset was scrapped is chosen."
   ]
  },
  {
   "cell_type": "code",
   "execution_count": 72,
   "metadata": {
    "collapsed": true
   },
   "outputs": [],
   "source": [
    "ref_date = datetime.datetime(2019,6,27)"
   ]
  },
  {
   "cell_type": "code",
   "execution_count": 73,
   "metadata": {},
   "outputs": [
    {
     "data": {
      "text/plain": [
       "3657"
      ]
     },
     "execution_count": 73,
     "metadata": {},
     "output_type": "execute_result"
    }
   ],
   "source": [
    "(ref_date - df['host_since'][1]).days"
   ]
  },
  {
   "cell_type": "code",
   "execution_count": 74,
   "metadata": {
    "collapsed": true
   },
   "outputs": [],
   "source": [
    "dt_col = ['host_since','first_review','last_review']\n",
    "for col in dt_col:\n",
    "    df['days_since'+col] = df[col].apply(lambda x: (ref_date - x).days)"
   ]
  },
  {
   "cell_type": "code",
   "execution_count": null,
   "metadata": {
    "collapsed": true
   },
   "outputs": [],
   "source": [
    "df.shape"
   ]
  },
  {
   "cell_type": "code",
   "execution_count": null,
   "metadata": {
    "collapsed": true,
    "scrolled": true
   },
   "outputs": [],
   "source": [
    "df.head()"
   ]
  },
  {
   "cell_type": "code",
   "execution_count": 80,
   "metadata": {},
   "outputs": [
    {
     "data": {
      "text/plain": [
       "5212"
      ]
     },
     "execution_count": 80,
     "metadata": {},
     "output_type": "execute_result"
    }
   ],
   "source": [
    "df[df.availability_365==0].shape[0]"
   ]
  },
  {
   "cell_type": "code",
   "execution_count": 84,
   "metadata": {},
   "outputs": [
    {
     "data": {
      "text/plain": [
       "listing_url     https://www.airbnb.com/rooms/14230700\n",
       "price                                              40\n",
       "cleaning_fee                                      800\n",
       "Name: 5278, dtype: object"
      ]
     },
     "execution_count": 84,
     "metadata": {},
     "output_type": "execute_result"
    }
   ],
   "source": [
    "df.loc[5278,['listing_url','price','cleaning_fee']]"
   ]
  },
  {
   "cell_type": "code",
   "execution_count": 77,
   "metadata": {},
   "outputs": [
    {
     "data": {
      "text/html": [
       "<div>\n",
       "<style>\n",
       "    .dataframe thead tr:only-child th {\n",
       "        text-align: right;\n",
       "    }\n",
       "\n",
       "    .dataframe thead th {\n",
       "        text-align: left;\n",
       "    }\n",
       "\n",
       "    .dataframe tbody tr th {\n",
       "        vertical-align: top;\n",
       "    }\n",
       "</style>\n",
       "<table border=\"1\" class=\"dataframe\">\n",
       "  <thead>\n",
       "    <tr style=\"text-align: right;\">\n",
       "      <th></th>\n",
       "      <th>listing_url</th>\n",
       "      <th>price</th>\n",
       "      <th>minimum_nights</th>\n",
       "      <th>availability_365</th>\n",
       "    </tr>\n",
       "  </thead>\n",
       "  <tbody>\n",
       "    <tr>\n",
       "      <th>1</th>\n",
       "      <td>https://www.airbnb.com/rooms/8077</td>\n",
       "      <td>100.0</td>\n",
       "      <td>180</td>\n",
       "      <td>0</td>\n",
       "    </tr>\n",
       "    <tr>\n",
       "      <th>5</th>\n",
       "      <td>https://www.airbnb.com/rooms/27423</td>\n",
       "      <td>54.0</td>\n",
       "      <td>120</td>\n",
       "      <td>0</td>\n",
       "    </tr>\n",
       "    <tr>\n",
       "      <th>6</th>\n",
       "      <td>https://www.airbnb.com/rooms/30931</td>\n",
       "      <td>134.0</td>\n",
       "      <td>180</td>\n",
       "      <td>365</td>\n",
       "    </tr>\n",
       "    <tr>\n",
       "      <th>18</th>\n",
       "      <td>https://www.airbnb.com/rooms/62545</td>\n",
       "      <td>64.0</td>\n",
       "      <td>60</td>\n",
       "      <td>279</td>\n",
       "    </tr>\n",
       "    <tr>\n",
       "      <th>21</th>\n",
       "      <td>https://www.airbnb.com/rooms/64641</td>\n",
       "      <td>64.0</td>\n",
       "      <td>50</td>\n",
       "      <td>305</td>\n",
       "    </tr>\n",
       "    <tr>\n",
       "      <th>43</th>\n",
       "      <td>https://www.airbnb.com/rooms/148945</td>\n",
       "      <td>81.0</td>\n",
       "      <td>3</td>\n",
       "      <td>251</td>\n",
       "    </tr>\n",
       "    <tr>\n",
       "      <th>51</th>\n",
       "      <td>https://www.airbnb.com/rooms/183522</td>\n",
       "      <td>179.0</td>\n",
       "      <td>120</td>\n",
       "      <td>82</td>\n",
       "    </tr>\n",
       "    <tr>\n",
       "      <th>55</th>\n",
       "      <td>https://www.airbnb.com/rooms/196360</td>\n",
       "      <td>48.0</td>\n",
       "      <td>29</td>\n",
       "      <td>297</td>\n",
       "    </tr>\n",
       "    <tr>\n",
       "      <th>60</th>\n",
       "      <td>https://www.airbnb.com/rooms/218804</td>\n",
       "      <td>87.0</td>\n",
       "      <td>2</td>\n",
       "      <td>269</td>\n",
       "    </tr>\n",
       "    <tr>\n",
       "      <th>72</th>\n",
       "      <td>https://www.airbnb.com/rooms/261235</td>\n",
       "      <td>66.0</td>\n",
       "      <td>1</td>\n",
       "      <td>289</td>\n",
       "    </tr>\n",
       "    <tr>\n",
       "      <th>74</th>\n",
       "      <td>https://www.airbnb.com/rooms/264319</td>\n",
       "      <td>66.0</td>\n",
       "      <td>1</td>\n",
       "      <td>93</td>\n",
       "    </tr>\n",
       "    <tr>\n",
       "      <th>75</th>\n",
       "      <td>https://www.airbnb.com/rooms/266300</td>\n",
       "      <td>105.0</td>\n",
       "      <td>30</td>\n",
       "      <td>358</td>\n",
       "    </tr>\n",
       "    <tr>\n",
       "      <th>77</th>\n",
       "      <td>https://www.airbnb.com/rooms/269355</td>\n",
       "      <td>201.0</td>\n",
       "      <td>7</td>\n",
       "      <td>0</td>\n",
       "    </tr>\n",
       "    <tr>\n",
       "      <th>79</th>\n",
       "      <td>https://www.airbnb.com/rooms/273304</td>\n",
       "      <td>179.0</td>\n",
       "      <td>2</td>\n",
       "      <td>0</td>\n",
       "    </tr>\n",
       "    <tr>\n",
       "      <th>81</th>\n",
       "      <td>https://www.airbnb.com/rooms/280249</td>\n",
       "      <td>75.0</td>\n",
       "      <td>2</td>\n",
       "      <td>50</td>\n",
       "    </tr>\n",
       "    <tr>\n",
       "      <th>83</th>\n",
       "      <td>https://www.airbnb.com/rooms/285116</td>\n",
       "      <td>52.0</td>\n",
       "      <td>1</td>\n",
       "      <td>88</td>\n",
       "    </tr>\n",
       "    <tr>\n",
       "      <th>88</th>\n",
       "      <td>https://www.airbnb.com/rooms/304065</td>\n",
       "      <td>74.0</td>\n",
       "      <td>2</td>\n",
       "      <td>340</td>\n",
       "    </tr>\n",
       "    <tr>\n",
       "      <th>90</th>\n",
       "      <td>https://www.airbnb.com/rooms/309402</td>\n",
       "      <td>50.0</td>\n",
       "      <td>1</td>\n",
       "      <td>276</td>\n",
       "    </tr>\n",
       "    <tr>\n",
       "      <th>91</th>\n",
       "      <td>https://www.airbnb.com/rooms/312035</td>\n",
       "      <td>90.0</td>\n",
       "      <td>2</td>\n",
       "      <td>365</td>\n",
       "    </tr>\n",
       "    <tr>\n",
       "      <th>93</th>\n",
       "      <td>https://www.airbnb.com/rooms/314934</td>\n",
       "      <td>84.0</td>\n",
       "      <td>2</td>\n",
       "      <td>365</td>\n",
       "    </tr>\n",
       "    <tr>\n",
       "      <th>94</th>\n",
       "      <td>https://www.airbnb.com/rooms/325432</td>\n",
       "      <td>260.0</td>\n",
       "      <td>5</td>\n",
       "      <td>0</td>\n",
       "    </tr>\n",
       "    <tr>\n",
       "      <th>98</th>\n",
       "      <td>https://www.airbnb.com/rooms/358663</td>\n",
       "      <td>95.0</td>\n",
       "      <td>7</td>\n",
       "      <td>215</td>\n",
       "    </tr>\n",
       "    <tr>\n",
       "      <th>102</th>\n",
       "      <td>https://www.airbnb.com/rooms/365021</td>\n",
       "      <td>84.0</td>\n",
       "      <td>30</td>\n",
       "      <td>89</td>\n",
       "    </tr>\n",
       "    <tr>\n",
       "      <th>108</th>\n",
       "      <td>https://www.airbnb.com/rooms/382960</td>\n",
       "      <td>149.0</td>\n",
       "      <td>20</td>\n",
       "      <td>22</td>\n",
       "    </tr>\n",
       "    <tr>\n",
       "      <th>109</th>\n",
       "      <td>https://www.airbnb.com/rooms/384549</td>\n",
       "      <td>64.0</td>\n",
       "      <td>7</td>\n",
       "      <td>0</td>\n",
       "    </tr>\n",
       "    <tr>\n",
       "      <th>110</th>\n",
       "      <td>https://www.airbnb.com/rooms/387077</td>\n",
       "      <td>85.0</td>\n",
       "      <td>6</td>\n",
       "      <td>365</td>\n",
       "    </tr>\n",
       "    <tr>\n",
       "      <th>111</th>\n",
       "      <td>https://www.airbnb.com/rooms/388696</td>\n",
       "      <td>60.0</td>\n",
       "      <td>3</td>\n",
       "      <td>339</td>\n",
       "    </tr>\n",
       "    <tr>\n",
       "      <th>114</th>\n",
       "      <td>https://www.airbnb.com/rooms/401824</td>\n",
       "      <td>80.0</td>\n",
       "      <td>28</td>\n",
       "      <td>0</td>\n",
       "    </tr>\n",
       "    <tr>\n",
       "      <th>116</th>\n",
       "      <td>https://www.airbnb.com/rooms/413276</td>\n",
       "      <td>209.0</td>\n",
       "      <td>1</td>\n",
       "      <td>271</td>\n",
       "    </tr>\n",
       "    <tr>\n",
       "      <th>125</th>\n",
       "      <td>https://www.airbnb.com/rooms/447884</td>\n",
       "      <td>200.0</td>\n",
       "      <td>2</td>\n",
       "      <td>0</td>\n",
       "    </tr>\n",
       "    <tr>\n",
       "      <th>...</th>\n",
       "      <td>...</td>\n",
       "      <td>...</td>\n",
       "      <td>...</td>\n",
       "      <td>...</td>\n",
       "    </tr>\n",
       "    <tr>\n",
       "      <th>20681</th>\n",
       "      <td>https://www.airbnb.com/rooms/35292830</td>\n",
       "      <td>220.0</td>\n",
       "      <td>2</td>\n",
       "      <td>175</td>\n",
       "    </tr>\n",
       "    <tr>\n",
       "      <th>20687</th>\n",
       "      <td>https://www.airbnb.com/rooms/35305984</td>\n",
       "      <td>115.0</td>\n",
       "      <td>4</td>\n",
       "      <td>360</td>\n",
       "    </tr>\n",
       "    <tr>\n",
       "      <th>20699</th>\n",
       "      <td>https://www.airbnb.com/rooms/35315321</td>\n",
       "      <td>101.0</td>\n",
       "      <td>2</td>\n",
       "      <td>14</td>\n",
       "    </tr>\n",
       "    <tr>\n",
       "      <th>20701</th>\n",
       "      <td>https://www.airbnb.com/rooms/35315385</td>\n",
       "      <td>125.0</td>\n",
       "      <td>3</td>\n",
       "      <td>82</td>\n",
       "    </tr>\n",
       "    <tr>\n",
       "      <th>20702</th>\n",
       "      <td>https://www.airbnb.com/rooms/35315705</td>\n",
       "      <td>150.0</td>\n",
       "      <td>1</td>\n",
       "      <td>171</td>\n",
       "    </tr>\n",
       "    <tr>\n",
       "      <th>20705</th>\n",
       "      <td>https://www.airbnb.com/rooms/35317201</td>\n",
       "      <td>84.0</td>\n",
       "      <td>3</td>\n",
       "      <td>34</td>\n",
       "    </tr>\n",
       "    <tr>\n",
       "      <th>20708</th>\n",
       "      <td>https://www.airbnb.com/rooms/35317391</td>\n",
       "      <td>204.0</td>\n",
       "      <td>5</td>\n",
       "      <td>0</td>\n",
       "    </tr>\n",
       "    <tr>\n",
       "      <th>20709</th>\n",
       "      <td>https://www.airbnb.com/rooms/35317704</td>\n",
       "      <td>59.0</td>\n",
       "      <td>1</td>\n",
       "      <td>353</td>\n",
       "    </tr>\n",
       "    <tr>\n",
       "      <th>20710</th>\n",
       "      <td>https://www.airbnb.com/rooms/35318012</td>\n",
       "      <td>170.0</td>\n",
       "      <td>1</td>\n",
       "      <td>73</td>\n",
       "    </tr>\n",
       "    <tr>\n",
       "      <th>20711</th>\n",
       "      <td>https://www.airbnb.com/rooms/35318430</td>\n",
       "      <td>114.0</td>\n",
       "      <td>1</td>\n",
       "      <td>352</td>\n",
       "    </tr>\n",
       "    <tr>\n",
       "      <th>20712</th>\n",
       "      <td>https://www.airbnb.com/rooms/35318472</td>\n",
       "      <td>39.0</td>\n",
       "      <td>1</td>\n",
       "      <td>352</td>\n",
       "    </tr>\n",
       "    <tr>\n",
       "      <th>20718</th>\n",
       "      <td>https://www.airbnb.com/rooms/35322886</td>\n",
       "      <td>90.0</td>\n",
       "      <td>3</td>\n",
       "      <td>136</td>\n",
       "    </tr>\n",
       "    <tr>\n",
       "      <th>20719</th>\n",
       "      <td>https://www.airbnb.com/rooms/35325961</td>\n",
       "      <td>198.0</td>\n",
       "      <td>1</td>\n",
       "      <td>358</td>\n",
       "    </tr>\n",
       "    <tr>\n",
       "      <th>20725</th>\n",
       "      <td>https://www.airbnb.com/rooms/35335586</td>\n",
       "      <td>115.0</td>\n",
       "      <td>1</td>\n",
       "      <td>326</td>\n",
       "    </tr>\n",
       "    <tr>\n",
       "      <th>20726</th>\n",
       "      <td>https://www.airbnb.com/rooms/35336896</td>\n",
       "      <td>145.0</td>\n",
       "      <td>2</td>\n",
       "      <td>30</td>\n",
       "    </tr>\n",
       "    <tr>\n",
       "      <th>20729</th>\n",
       "      <td>https://www.airbnb.com/rooms/35339055</td>\n",
       "      <td>119.0</td>\n",
       "      <td>1</td>\n",
       "      <td>173</td>\n",
       "    </tr>\n",
       "    <tr>\n",
       "      <th>20730</th>\n",
       "      <td>https://www.airbnb.com/rooms/35339268</td>\n",
       "      <td>199.0</td>\n",
       "      <td>2</td>\n",
       "      <td>84</td>\n",
       "    </tr>\n",
       "    <tr>\n",
       "      <th>20734</th>\n",
       "      <td>https://www.airbnb.com/rooms/35344659</td>\n",
       "      <td>400.0</td>\n",
       "      <td>7</td>\n",
       "      <td>17</td>\n",
       "    </tr>\n",
       "    <tr>\n",
       "      <th>20735</th>\n",
       "      <td>https://www.airbnb.com/rooms/35345023</td>\n",
       "      <td>115.0</td>\n",
       "      <td>1</td>\n",
       "      <td>42</td>\n",
       "    </tr>\n",
       "    <tr>\n",
       "      <th>20738</th>\n",
       "      <td>https://www.airbnb.com/rooms/35346583</td>\n",
       "      <td>60.0</td>\n",
       "      <td>1</td>\n",
       "      <td>30</td>\n",
       "    </tr>\n",
       "    <tr>\n",
       "      <th>20741</th>\n",
       "      <td>https://www.airbnb.com/rooms/35349277</td>\n",
       "      <td>60.0</td>\n",
       "      <td>5</td>\n",
       "      <td>336</td>\n",
       "    </tr>\n",
       "    <tr>\n",
       "      <th>20742</th>\n",
       "      <td>https://www.airbnb.com/rooms/35349873</td>\n",
       "      <td>100.0</td>\n",
       "      <td>1</td>\n",
       "      <td>84</td>\n",
       "    </tr>\n",
       "    <tr>\n",
       "      <th>20744</th>\n",
       "      <td>https://www.airbnb.com/rooms/35350378</td>\n",
       "      <td>295.0</td>\n",
       "      <td>2</td>\n",
       "      <td>84</td>\n",
       "    </tr>\n",
       "    <tr>\n",
       "      <th>20746</th>\n",
       "      <td>https://www.airbnb.com/rooms/35350905</td>\n",
       "      <td>225.0</td>\n",
       "      <td>4</td>\n",
       "      <td>123</td>\n",
       "    </tr>\n",
       "    <tr>\n",
       "      <th>20750</th>\n",
       "      <td>https://www.airbnb.com/rooms/35351985</td>\n",
       "      <td>179.0</td>\n",
       "      <td>30</td>\n",
       "      <td>43</td>\n",
       "    </tr>\n",
       "    <tr>\n",
       "      <th>20754</th>\n",
       "      <td>https://www.airbnb.com/rooms/35353755</td>\n",
       "      <td>315.0</td>\n",
       "      <td>5</td>\n",
       "      <td>86</td>\n",
       "    </tr>\n",
       "    <tr>\n",
       "      <th>20755</th>\n",
       "      <td>https://www.airbnb.com/rooms/35354396</td>\n",
       "      <td>46.0</td>\n",
       "      <td>2</td>\n",
       "      <td>10</td>\n",
       "    </tr>\n",
       "    <tr>\n",
       "      <th>20757</th>\n",
       "      <td>https://www.airbnb.com/rooms/35354479</td>\n",
       "      <td>100.0</td>\n",
       "      <td>7</td>\n",
       "      <td>339</td>\n",
       "    </tr>\n",
       "    <tr>\n",
       "      <th>20762</th>\n",
       "      <td>https://www.airbnb.com/rooms/35369715</td>\n",
       "      <td>75.0</td>\n",
       "      <td>1</td>\n",
       "      <td>360</td>\n",
       "    </tr>\n",
       "    <tr>\n",
       "      <th>20763</th>\n",
       "      <td>https://www.airbnb.com/rooms/35373209</td>\n",
       "      <td>50.0</td>\n",
       "      <td>1</td>\n",
       "      <td>74</td>\n",
       "    </tr>\n",
       "  </tbody>\n",
       "</table>\n",
       "<p>3384 rows × 4 columns</p>\n",
       "</div>"
      ],
      "text/plain": [
       "                                 listing_url  price  minimum_nights  \\\n",
       "1          https://www.airbnb.com/rooms/8077  100.0             180   \n",
       "5         https://www.airbnb.com/rooms/27423   54.0             120   \n",
       "6         https://www.airbnb.com/rooms/30931  134.0             180   \n",
       "18        https://www.airbnb.com/rooms/62545   64.0              60   \n",
       "21        https://www.airbnb.com/rooms/64641   64.0              50   \n",
       "43       https://www.airbnb.com/rooms/148945   81.0               3   \n",
       "51       https://www.airbnb.com/rooms/183522  179.0             120   \n",
       "55       https://www.airbnb.com/rooms/196360   48.0              29   \n",
       "60       https://www.airbnb.com/rooms/218804   87.0               2   \n",
       "72       https://www.airbnb.com/rooms/261235   66.0               1   \n",
       "74       https://www.airbnb.com/rooms/264319   66.0               1   \n",
       "75       https://www.airbnb.com/rooms/266300  105.0              30   \n",
       "77       https://www.airbnb.com/rooms/269355  201.0               7   \n",
       "79       https://www.airbnb.com/rooms/273304  179.0               2   \n",
       "81       https://www.airbnb.com/rooms/280249   75.0               2   \n",
       "83       https://www.airbnb.com/rooms/285116   52.0               1   \n",
       "88       https://www.airbnb.com/rooms/304065   74.0               2   \n",
       "90       https://www.airbnb.com/rooms/309402   50.0               1   \n",
       "91       https://www.airbnb.com/rooms/312035   90.0               2   \n",
       "93       https://www.airbnb.com/rooms/314934   84.0               2   \n",
       "94       https://www.airbnb.com/rooms/325432  260.0               5   \n",
       "98       https://www.airbnb.com/rooms/358663   95.0               7   \n",
       "102      https://www.airbnb.com/rooms/365021   84.0              30   \n",
       "108      https://www.airbnb.com/rooms/382960  149.0              20   \n",
       "109      https://www.airbnb.com/rooms/384549   64.0               7   \n",
       "110      https://www.airbnb.com/rooms/387077   85.0               6   \n",
       "111      https://www.airbnb.com/rooms/388696   60.0               3   \n",
       "114      https://www.airbnb.com/rooms/401824   80.0              28   \n",
       "116      https://www.airbnb.com/rooms/413276  209.0               1   \n",
       "125      https://www.airbnb.com/rooms/447884  200.0               2   \n",
       "...                                      ...    ...             ...   \n",
       "20681  https://www.airbnb.com/rooms/35292830  220.0               2   \n",
       "20687  https://www.airbnb.com/rooms/35305984  115.0               4   \n",
       "20699  https://www.airbnb.com/rooms/35315321  101.0               2   \n",
       "20701  https://www.airbnb.com/rooms/35315385  125.0               3   \n",
       "20702  https://www.airbnb.com/rooms/35315705  150.0               1   \n",
       "20705  https://www.airbnb.com/rooms/35317201   84.0               3   \n",
       "20708  https://www.airbnb.com/rooms/35317391  204.0               5   \n",
       "20709  https://www.airbnb.com/rooms/35317704   59.0               1   \n",
       "20710  https://www.airbnb.com/rooms/35318012  170.0               1   \n",
       "20711  https://www.airbnb.com/rooms/35318430  114.0               1   \n",
       "20712  https://www.airbnb.com/rooms/35318472   39.0               1   \n",
       "20718  https://www.airbnb.com/rooms/35322886   90.0               3   \n",
       "20719  https://www.airbnb.com/rooms/35325961  198.0               1   \n",
       "20725  https://www.airbnb.com/rooms/35335586  115.0               1   \n",
       "20726  https://www.airbnb.com/rooms/35336896  145.0               2   \n",
       "20729  https://www.airbnb.com/rooms/35339055  119.0               1   \n",
       "20730  https://www.airbnb.com/rooms/35339268  199.0               2   \n",
       "20734  https://www.airbnb.com/rooms/35344659  400.0               7   \n",
       "20735  https://www.airbnb.com/rooms/35345023  115.0               1   \n",
       "20738  https://www.airbnb.com/rooms/35346583   60.0               1   \n",
       "20741  https://www.airbnb.com/rooms/35349277   60.0               5   \n",
       "20742  https://www.airbnb.com/rooms/35349873  100.0               1   \n",
       "20744  https://www.airbnb.com/rooms/35350378  295.0               2   \n",
       "20746  https://www.airbnb.com/rooms/35350905  225.0               4   \n",
       "20750  https://www.airbnb.com/rooms/35351985  179.0              30   \n",
       "20754  https://www.airbnb.com/rooms/35353755  315.0               5   \n",
       "20755  https://www.airbnb.com/rooms/35354396   46.0               2   \n",
       "20757  https://www.airbnb.com/rooms/35354479  100.0               7   \n",
       "20762  https://www.airbnb.com/rooms/35369715   75.0               1   \n",
       "20763  https://www.airbnb.com/rooms/35373209   50.0               1   \n",
       "\n",
       "       availability_365  \n",
       "1                     0  \n",
       "5                     0  \n",
       "6                   365  \n",
       "18                  279  \n",
       "21                  305  \n",
       "43                  251  \n",
       "51                   82  \n",
       "55                  297  \n",
       "60                  269  \n",
       "72                  289  \n",
       "74                   93  \n",
       "75                  358  \n",
       "77                    0  \n",
       "79                    0  \n",
       "81                   50  \n",
       "83                   88  \n",
       "88                  340  \n",
       "90                  276  \n",
       "91                  365  \n",
       "93                  365  \n",
       "94                    0  \n",
       "98                  215  \n",
       "102                  89  \n",
       "108                  22  \n",
       "109                   0  \n",
       "110                 365  \n",
       "111                 339  \n",
       "114                   0  \n",
       "116                 271  \n",
       "125                   0  \n",
       "...                 ...  \n",
       "20681               175  \n",
       "20687               360  \n",
       "20699                14  \n",
       "20701                82  \n",
       "20702               171  \n",
       "20705                34  \n",
       "20708                 0  \n",
       "20709               353  \n",
       "20710                73  \n",
       "20711               352  \n",
       "20712               352  \n",
       "20718               136  \n",
       "20719               358  \n",
       "20725               326  \n",
       "20726                30  \n",
       "20729               173  \n",
       "20730                84  \n",
       "20734                17  \n",
       "20735                42  \n",
       "20738                30  \n",
       "20741               336  \n",
       "20742                84  \n",
       "20744                84  \n",
       "20746               123  \n",
       "20750                43  \n",
       "20754                86  \n",
       "20755                10  \n",
       "20757               339  \n",
       "20762               360  \n",
       "20763                74  \n",
       "\n",
       "[3384 rows x 4 columns]"
      ]
     },
     "execution_count": 77,
     "metadata": {},
     "output_type": "execute_result"
    }
   ],
   "source": [
    "df.loc[df.cleaning_fee_NA==True, ['listing_url','price','minimum_nights','availability_365']]"
   ]
  },
  {
   "cell_type": "code",
   "execution_count": null,
   "metadata": {
    "collapsed": true
   },
   "outputs": [],
   "source": []
  },
  {
   "cell_type": "markdown",
   "metadata": {},
   "source": [
    "# 6 Removal Irrelevant Variables"
   ]
  },
  {
   "cell_type": "markdown",
   "metadata": {},
   "source": [
    "As the final step, features that are likely irrelevant for data analysis are removed."
   ]
  },
  {
   "cell_type": "code",
   "execution_count": null,
   "metadata": {
    "collapsed": true
   },
   "outputs": [],
   "source": [
    "#remove irrelevant string columns\n",
    "l_str = []\n",
    "for col in df.columns:\n",
    "    if df[col].dtype == 'O':\n",
    "        l_str.append(col)\n",
    "print(l_str)"
   ]
  },
  {
   "cell_type": "code",
   "execution_count": null,
   "metadata": {
    "collapsed": true
   },
   "outputs": [],
   "source": [
    "col_remove_str = ['listing_url', 'name', 'summary', 'space', 'description', 'experiences_offered', 'neighborhood_overview', \n",
    "              'transit', 'access', 'interaction', 'house_rules', 'picture_url', 'host_url', 'host_name', 'host_location', \n",
    "              'host_about', 'host_thumbnail_url', 'host_picture_url', 'host_neighbourhood', 'host_verifications', 'street', \n",
    "              'neighbourhood', 'neighbourhood_cleansed', 'city', 'state', 'zipcode', 'market', 'smart_location', 'country_code',\n",
    "              'country', 'amenities', 'calendar_updated', 'amenities_list', 'fsa']\n",
    "df.drop(col_remove_str,axis=1,inplace=True)\n",
    "removed_columns_record.append(col_remove_str)"
   ]
  },
  {
   "cell_type": "code",
   "execution_count": null,
   "metadata": {
    "collapsed": true
   },
   "outputs": [],
   "source": [
    "#remove irrelevant numeric columns\n",
    "\n",
    "l_num = []\n",
    "for col in df.columns:\n",
    "    if df[col].dtype.name in ['int64','float64']:\n",
    "        l_num.append(col)\n",
    "print(l_num)"
   ]
  },
  {
   "cell_type": "code",
   "execution_count": null,
   "metadata": {
    "collapsed": true
   },
   "outputs": [],
   "source": [
    "# col_remove_num = ['id', 'scrape_id', 'host_id','minimum_minimum_nights', 'maximum_minimum_nights', 'minimum_maximum_nights', \n",
    "#                   'maximum_maximum_nights', 'minimum_nights_avg_ntm', 'maximum_nights_avg_ntm']\n",
    "# df.drop(col_remove_num,axis=1,inplace=True)\n",
    "# removed_columns_record.append(col_remove_num)"
   ]
  },
  {
   "cell_type": "code",
   "execution_count": null,
   "metadata": {
    "collapsed": true
   },
   "outputs": [],
   "source": [
    "#remove irrelevant datetime variables\n",
    "\n",
    "# l_dt = []\n",
    "# for col in df.columns:\n",
    "#     if df[col].dtype == '<M8[ns]':\n",
    "#         l_dt.append(col)\n",
    "# print(l_dt)"
   ]
  },
  {
   "cell_type": "code",
   "execution_count": null,
   "metadata": {
    "collapsed": true
   },
   "outputs": [],
   "source": [
    "# col_remove_dt = ['last_scraped', 'host_since', 'calendar_last_scraped', 'first_review', 'last_review']\n",
    "# df.drop(col_remove_dt,axis=1,inplace=True)\n",
    "# removed_columns_record.append(col_remove_dt)"
   ]
  },
  {
   "cell_type": "code",
   "execution_count": null,
   "metadata": {
    "collapsed": true
   },
   "outputs": [],
   "source": [
    "df.shape"
   ]
  },
  {
   "cell_type": "code",
   "execution_count": null,
   "metadata": {
    "collapsed": true
   },
   "outputs": [],
   "source": [
    "df.head()"
   ]
  },
  {
   "cell_type": "code",
   "execution_count": null,
   "metadata": {
    "collapsed": true
   },
   "outputs": [],
   "source": [
    "df.to_excel('data/df_cleaned.xlsx',index=False)"
   ]
  },
  {
   "cell_type": "code",
   "execution_count": null,
   "metadata": {
    "collapsed": true
   },
   "outputs": [],
   "source": [
    "df.dtypes"
   ]
  },
  {
   "cell_type": "code",
   "execution_count": null,
   "metadata": {
    "collapsed": true
   },
   "outputs": [],
   "source": []
  },
  {
   "cell_type": "code",
   "execution_count": null,
   "metadata": {
    "collapsed": true
   },
   "outputs": [],
   "source": [
    "# Export data\n",
    "df.to_csv('data/df_cleaned.csv',index=False,encoding='utf-8')"
   ]
  },
  {
   "cell_type": "code",
   "execution_count": null,
   "metadata": {
    "collapsed": true
   },
   "outputs": [],
   "source": [
    "df_csv = pd.read_csv('data/df_cleaned.csv',encoding='utf-8')"
   ]
  },
  {
   "cell_type": "code",
   "execution_count": null,
   "metadata": {
    "collapsed": true
   },
   "outputs": [],
   "source": [
    "df_csv.head()"
   ]
  },
  {
   "cell_type": "code",
   "execution_count": null,
   "metadata": {
    "collapsed": true
   },
   "outputs": [],
   "source": []
  },
  {
   "cell_type": "code",
   "execution_count": null,
   "metadata": {
    "collapsed": true
   },
   "outputs": [],
   "source": [
    "df_ = pd.read_excel('data/df_cleaned.xlsx')"
   ]
  },
  {
   "cell_type": "code",
   "execution_count": null,
   "metadata": {
    "collapsed": true
   },
   "outputs": [],
   "source": [
    "df_cleaned.head()"
   ]
  },
  {
   "cell_type": "code",
   "execution_count": null,
   "metadata": {
    "collapsed": true
   },
   "outputs": [],
   "source": [
    "df.loc[df.cleaning_fee_NA==True,['listing_url','price','cleaning_fee_NA']]"
   ]
  },
  {
   "cell_type": "markdown",
   "metadata": {},
   "source": [
    "# 7. Conclusion"
   ]
  },
  {
   "cell_type": "markdown",
   "metadata": {},
   "source": [
    "In this section, the following data wrangling steps where performed:\n",
    "    1. Remove columns with excessive missing values;\n",
    "    2. Inspect and address outliers;\n",
    "    3. Impute data;\n",
    "    4. Create new features; and\n",
    "    5. Remove irrelevant features\n",
    "The next step of this project is data visualization which will be presented in subsequent notebooks."
   ]
  }
 ],
 "metadata": {
  "kernelspec": {
   "display_name": "Python 3",
   "language": "python",
   "name": "python3"
  },
  "language_info": {
   "codemirror_mode": {
    "name": "ipython",
    "version": 3
   },
   "file_extension": ".py",
   "mimetype": "text/x-python",
   "name": "python",
   "nbconvert_exporter": "python",
   "pygments_lexer": "ipython3",
   "version": "3.6.3"
  }
 },
 "nbformat": 4,
 "nbformat_minor": 2
}
